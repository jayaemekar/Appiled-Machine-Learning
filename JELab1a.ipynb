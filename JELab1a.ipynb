{
  "nbformat": 4,
  "nbformat_minor": 0,
  "metadata": {
    "colab": {
      "name": "JELab1a.ipynb",
      "provenance": [],
      "authorship_tag": "ABX9TyPsT3mn6nKXMIp/EmTz0xnM",
      "include_colab_link": true
    },
    "kernelspec": {
      "name": "python3",
      "display_name": "Python 3"
    }
  },
  "cells": [
    {
      "cell_type": "markdown",
      "metadata": {
        "id": "view-in-github",
        "colab_type": "text"
      },
      "source": [
        "<a href=\"https://colab.research.google.com/github/jayaemekar/CSCI-611-AppiledMachineLearning/blob/main/JELab1a.ipynb\" target=\"_parent\"><img src=\"https://colab.research.google.com/assets/colab-badge.svg\" alt=\"Open In Colab\"/></a>"
      ]
    },
    {
      "cell_type": "code",
      "metadata": {
        "id": "HBes77aHqEeu",
        "colab": {
          "base_uri": "https://localhost:8080/"
        },
        "outputId": "8d4f7ac4-5745-4b02-d67d-c2e4b566b705"
      },
      "source": [
        "# Name: Jayarani Emekar, CSCI-611 Date- 30 Jan 2021\r\n",
        "# Sources/guidance/assistance received - Python tutorials scipy-lectures\r\n",
        "# Environment Developed and Tested: GOOGLE COLABORATORY (COLAB) \r\n",
        "\r\n",
        "# Function for nth Fibonacci number\r\n",
        "def fibonacci(n):   \r\n",
        "    if n < 0: # Check if input is 0 then it will print incorrect input\r\n",
        "        print(\"Incorrect input : Please enter positive number.\") \r\n",
        "    elif n == 0:# Check if n is 0 then it will return 0\r\n",
        "        return 0 \r\n",
        "    elif n == 1 or n == 2: # Check if n is 1,2 it will return 1\r\n",
        "        return 1\r\n",
        "    else:\r\n",
        "        return (fibonacci(n-1) + fibonacci(n-2))\r\n",
        "    \r\n",
        "# Driver Program\r\n",
        "n = int(input(\"Enter number of terms:\"))\r\n",
        "fibonacci(n)\r\n",
        "for i in range(n):\r\n",
        "    print (fibonacci(i))"
      ],
      "execution_count": null,
      "outputs": [
        {
          "output_type": "stream",
          "text": [
            "Enter number of terms:24\n",
            "0\n",
            "1\n",
            "1\n",
            "2\n",
            "3\n",
            "5\n",
            "8\n",
            "13\n",
            "21\n",
            "34\n",
            "55\n",
            "89\n",
            "144\n",
            "233\n",
            "377\n",
            "610\n",
            "987\n",
            "1597\n",
            "2584\n",
            "4181\n",
            "6765\n",
            "10946\n",
            "17711\n",
            "28657\n"
          ],
          "name": "stdout"
        }
      ]
    },
    {
      "cell_type": "markdown",
      "metadata": {
        "id": "OhzddzQo0aVL"
      },
      "source": [
        "# New Section"
      ]
    },
    {
      "cell_type": "markdown",
      "metadata": {
        "id": "Mkr4vzYZrG95"
      },
      "source": [
        ""
      ]
    }
  ]
}