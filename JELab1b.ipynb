{
  "nbformat": 4,
  "nbformat_minor": 0,
  "metadata": {
    "colab": {
      "name": "JELab1b.ipynb",
      "provenance": [],
      "authorship_tag": "ABX9TyP2BxnCkI2q/gp9tMTtNusB",
      "include_colab_link": true
    },
    "kernelspec": {
      "name": "python3",
      "display_name": "Python 3"
    }
  },
  "cells": [
    {
      "cell_type": "markdown",
      "metadata": {
        "id": "view-in-github",
        "colab_type": "text"
      },
      "source": [
        "<a href=\"https://colab.research.google.com/github/jayaemekar/CSCI-611-AppiledMachineLearning/blob/main/JELab1b.ipynb\" target=\"_parent\"><img src=\"https://colab.research.google.com/assets/colab-badge.svg\" alt=\"Open In Colab\"/></a>"
      ]
    },
    {
      "cell_type": "code",
      "metadata": {
        "colab": {
          "base_uri": "https://localhost:8080/"
        },
        "id": "Agh1L7thsemC",
        "outputId": "fd934946-3b42-4387-f658-b958066d9e75"
      },
      "source": [
        "\r\n",
        "# Name: Jayarani Emekar, CSCI-611 Date- 30 Jan 2021\r\n",
        "# Sources/guidance/assistance received - Python tutorials scipy-lectures\r\n",
        "# Enviorment Developed and Tested: GOOGLE COLABORATORY (COLAB) \r\n",
        "\r\n",
        "# Function for quicksort considering middle element as Pivot\r\n",
        "def quicksort(arr):\r\n",
        "    if len(arr) <= 1:      \r\n",
        "      return arr\r\n",
        "    pivot = arr[len(arr) // 2] # Pivot as middle element   \r\n",
        "    left = [x for x in arr if x < pivot]\r\n",
        "    middle = [x for x in arr if x == pivot]\r\n",
        "    right = [x for x in arr if x > pivot]\r\n",
        "    return quicksort(left) + middle + quicksort(right)\r\n",
        "\r\n",
        "# Driver Programm      \r\n",
        "lst = []  # creating an empty list \r\n",
        "n = int(input(\"Enter number of elements : \"))   # number of elemetns as input \r\n",
        "for i in range(0, n): # iterating till the range \r\n",
        "    ele = int(input()) \r\n",
        "    lst.append(ele) # adding the element \r\n",
        "      \r\n",
        "print('User input list before sorting : ',lst)\r\n",
        "print('User input list after sorting : ')\r\n",
        "quicksort(lst)"
      ],
      "execution_count": null,
      "outputs": [
        {
          "output_type": "stream",
          "text": [
            "Enter number of elements : 15\n",
            "-78\n",
            "96\n",
            "24\n",
            "42\n",
            "33\n",
            "15\n",
            "51\n",
            "96\n",
            "69\n",
            "-123\n",
            "951\n",
            "16\n",
            "37\n",
            "28\n",
            "24\n",
            "User input list before sorting :  [-78, 96, 24, 42, 33, 15, 51, 96, 69, -123, 951, 16, 37, 28, 24]\n",
            "User input list after sorting : \n"
          ],
          "name": "stdout"
        },
        {
          "output_type": "execute_result",
          "data": {
            "text/plain": [
              "[-123, -78, 15, 16, 24, 24, 28, 33, 37, 42, 51, 69, 96, 96, 951]"
            ]
          },
          "metadata": {
            "tags": []
          },
          "execution_count": 12
        }
      ]
    }
  ]
}