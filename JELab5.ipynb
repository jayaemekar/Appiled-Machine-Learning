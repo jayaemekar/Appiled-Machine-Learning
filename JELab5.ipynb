{
  "nbformat": 4,
  "nbformat_minor": 0,
  "metadata": {
    "kernelspec": {
      "display_name": "Python 3",
      "language": "python",
      "name": "python3"
    },
    "language_info": {
      "codemirror_mode": {
        "name": "ipython",
        "version": 3
      },
      "file_extension": ".py",
      "mimetype": "text/x-python",
      "name": "python",
      "nbconvert_exporter": "python",
      "pygments_lexer": "ipython3",
      "version": "3.6.9"
    },
    "colab": {
      "name": "JELab5.ipynb",
      "provenance": [],
      "collapsed_sections": [],
      "toc_visible": true,
      "include_colab_link": true
    },
    "accelerator": "TPU"
  },
  "cells": [
    {
      "cell_type": "markdown",
      "metadata": {
        "id": "view-in-github",
        "colab_type": "text"
      },
      "source": [
        "<a href=\"https://colab.research.google.com/github/jayaemekar/CSCI-611-AppiledMachineLearning/blob/main/JELab5.ipynb\" target=\"_parent\"><img src=\"https://colab.research.google.com/assets/colab-badge.svg\" alt=\"Open In Colab\"/></a>"
      ]
    },
    {
      "cell_type": "code",
      "metadata": {
        "id": "Earhvp8hur2_"
      },
      "source": [
        "import pandas as pd\n",
        "import seaborn as sns\n",
        "from sklearn import preprocessing\n",
        "from sklearn.model_selection import train_test_split, GridSearchCV\n",
        "from sklearn.tree import DecisionTreeClassifier\n",
        "from sklearn.metrics import classification_report, confusion_matrix, accuracy_score\n",
        "from sklearn.ensemble import RandomForestClassifier\n",
        "import matplotlib.pyplot as plt\n",
        "import numpy as np\n",
        "from sklearn.tree import export_graphviz\n",
        "import graphviz\n",
        "from sklearn.ensemble import GradientBoostingClassifier"
      ],
      "execution_count": null,
      "outputs": []
    },
    {
      "cell_type": "markdown",
      "metadata": {
        "id": "uJ88W-mf4y2O"
      },
      "source": [
        "## GET KYPHOSIS DATA and GATHER INFORMATION\n",
        "Load the Kyphosis data from the .csv file provided (BBLearn, week 8) and read into a pandas Dataframe \n"
      ]
    },
    {
      "cell_type": "code",
      "metadata": {
        "colab": {
          "base_uri": "https://localhost:8080/",
          "height": 359
        },
        "id": "aGST_Calur3a",
        "outputId": "10a79740-63d3-4801-8208-254813be8ec0"
      },
      "source": [
        "df = pd.read_csv(\"/content/sample_data/kyphosis.csv\")\n",
        "df.head(10)"
      ],
      "execution_count": null,
      "outputs": [
        {
          "output_type": "execute_result",
          "data": {
            "text/html": [
              "<div>\n",
              "<style scoped>\n",
              "    .dataframe tbody tr th:only-of-type {\n",
              "        vertical-align: middle;\n",
              "    }\n",
              "\n",
              "    .dataframe tbody tr th {\n",
              "        vertical-align: top;\n",
              "    }\n",
              "\n",
              "    .dataframe thead th {\n",
              "        text-align: right;\n",
              "    }\n",
              "</style>\n",
              "<table border=\"1\" class=\"dataframe\">\n",
              "  <thead>\n",
              "    <tr style=\"text-align: right;\">\n",
              "      <th></th>\n",
              "      <th>Kyphosis</th>\n",
              "      <th>Age</th>\n",
              "      <th>Number</th>\n",
              "      <th>Start</th>\n",
              "    </tr>\n",
              "  </thead>\n",
              "  <tbody>\n",
              "    <tr>\n",
              "      <th>0</th>\n",
              "      <td>absent</td>\n",
              "      <td>71</td>\n",
              "      <td>3</td>\n",
              "      <td>5</td>\n",
              "    </tr>\n",
              "    <tr>\n",
              "      <th>1</th>\n",
              "      <td>absent</td>\n",
              "      <td>158</td>\n",
              "      <td>3</td>\n",
              "      <td>14</td>\n",
              "    </tr>\n",
              "    <tr>\n",
              "      <th>2</th>\n",
              "      <td>present</td>\n",
              "      <td>128</td>\n",
              "      <td>4</td>\n",
              "      <td>5</td>\n",
              "    </tr>\n",
              "    <tr>\n",
              "      <th>3</th>\n",
              "      <td>absent</td>\n",
              "      <td>2</td>\n",
              "      <td>5</td>\n",
              "      <td>1</td>\n",
              "    </tr>\n",
              "    <tr>\n",
              "      <th>4</th>\n",
              "      <td>absent</td>\n",
              "      <td>1</td>\n",
              "      <td>4</td>\n",
              "      <td>15</td>\n",
              "    </tr>\n",
              "    <tr>\n",
              "      <th>5</th>\n",
              "      <td>absent</td>\n",
              "      <td>1</td>\n",
              "      <td>2</td>\n",
              "      <td>16</td>\n",
              "    </tr>\n",
              "    <tr>\n",
              "      <th>6</th>\n",
              "      <td>absent</td>\n",
              "      <td>61</td>\n",
              "      <td>2</td>\n",
              "      <td>17</td>\n",
              "    </tr>\n",
              "    <tr>\n",
              "      <th>7</th>\n",
              "      <td>absent</td>\n",
              "      <td>37</td>\n",
              "      <td>3</td>\n",
              "      <td>16</td>\n",
              "    </tr>\n",
              "    <tr>\n",
              "      <th>8</th>\n",
              "      <td>absent</td>\n",
              "      <td>113</td>\n",
              "      <td>2</td>\n",
              "      <td>16</td>\n",
              "    </tr>\n",
              "    <tr>\n",
              "      <th>9</th>\n",
              "      <td>present</td>\n",
              "      <td>59</td>\n",
              "      <td>6</td>\n",
              "      <td>12</td>\n",
              "    </tr>\n",
              "  </tbody>\n",
              "</table>\n",
              "</div>"
            ],
            "text/plain": [
              "  Kyphosis  Age  Number  Start\n",
              "0   absent   71       3      5\n",
              "1   absent  158       3     14\n",
              "2  present  128       4      5\n",
              "3   absent    2       5      1\n",
              "4   absent    1       4     15\n",
              "5   absent    1       2     16\n",
              "6   absent   61       2     17\n",
              "7   absent   37       3     16\n",
              "8   absent  113       2     16\n",
              "9  present   59       6     12"
            ]
          },
          "metadata": {
            "tags": []
          },
          "execution_count": 4
        }
      ]
    },
    {
      "cell_type": "markdown",
      "metadata": {
        "id": "Odzc3p6Iur3e"
      },
      "source": [
        "Explore the data using Pandas dataframe methods to display general information, statisticalanalysis, check for missing values, display some of the rows of values, get value counts for thetwo classifications (absent, present), etc"
      ]
    },
    {
      "cell_type": "markdown",
      "metadata": {
        "id": "pRbe1G-rzPXn"
      },
      "source": [
        "display general information"
      ]
    },
    {
      "cell_type": "code",
      "metadata": {
        "colab": {
          "base_uri": "https://localhost:8080/"
        },
        "id": "CDbUdR90ur3e",
        "outputId": "52bfe10d-2b2d-491b-8498-6ac17c7078f3"
      },
      "source": [
        "df.info()"
      ],
      "execution_count": null,
      "outputs": [
        {
          "output_type": "stream",
          "text": [
            "<class 'pandas.core.frame.DataFrame'>\n",
            "RangeIndex: 81 entries, 0 to 80\n",
            "Data columns (total 4 columns):\n",
            " #   Column    Non-Null Count  Dtype \n",
            "---  ------    --------------  ----- \n",
            " 0   Kyphosis  81 non-null     object\n",
            " 1   Age       81 non-null     int64 \n",
            " 2   Number    81 non-null     int64 \n",
            " 3   Start     81 non-null     int64 \n",
            "dtypes: int64(3), object(1)\n",
            "memory usage: 2.7+ KB\n"
          ],
          "name": "stdout"
        }
      ]
    },
    {
      "cell_type": "code",
      "metadata": {
        "colab": {
          "base_uri": "https://localhost:8080/"
        },
        "id": "g4q7U3mkz0_E",
        "outputId": "8a3a9c63-bd71-4c3e-c6d7-d2c940851277"
      },
      "source": [
        "print(\"Type of data :\",type(df))\n",
        "print(\"Length of data :\",len(df))\n",
        "print(\"Shape of data :\",df.shape)"
      ],
      "execution_count": null,
      "outputs": [
        {
          "output_type": "stream",
          "text": [
            "Type of data : <class 'pandas.core.frame.DataFrame'>\n",
            "Length of data : 81\n",
            "Shape of data : (81, 4)\n"
          ],
          "name": "stdout"
        }
      ]
    },
    {
      "cell_type": "code",
      "metadata": {
        "colab": {
          "base_uri": "https://localhost:8080/",
          "height": 297
        },
        "id": "Yl3DmIJzd7DL",
        "outputId": "c2ec8e16-a2b4-464d-bebb-05f18101e0a5"
      },
      "source": [
        "df.describe()"
      ],
      "execution_count": null,
      "outputs": [
        {
          "output_type": "execute_result",
          "data": {
            "text/html": [
              "<div>\n",
              "<style scoped>\n",
              "    .dataframe tbody tr th:only-of-type {\n",
              "        vertical-align: middle;\n",
              "    }\n",
              "\n",
              "    .dataframe tbody tr th {\n",
              "        vertical-align: top;\n",
              "    }\n",
              "\n",
              "    .dataframe thead th {\n",
              "        text-align: right;\n",
              "    }\n",
              "</style>\n",
              "<table border=\"1\" class=\"dataframe\">\n",
              "  <thead>\n",
              "    <tr style=\"text-align: right;\">\n",
              "      <th></th>\n",
              "      <th>Age</th>\n",
              "      <th>Number</th>\n",
              "      <th>Start</th>\n",
              "    </tr>\n",
              "  </thead>\n",
              "  <tbody>\n",
              "    <tr>\n",
              "      <th>count</th>\n",
              "      <td>81.000000</td>\n",
              "      <td>81.000000</td>\n",
              "      <td>81.000000</td>\n",
              "    </tr>\n",
              "    <tr>\n",
              "      <th>mean</th>\n",
              "      <td>83.654321</td>\n",
              "      <td>4.049383</td>\n",
              "      <td>11.493827</td>\n",
              "    </tr>\n",
              "    <tr>\n",
              "      <th>std</th>\n",
              "      <td>58.104251</td>\n",
              "      <td>1.619423</td>\n",
              "      <td>4.883962</td>\n",
              "    </tr>\n",
              "    <tr>\n",
              "      <th>min</th>\n",
              "      <td>1.000000</td>\n",
              "      <td>2.000000</td>\n",
              "      <td>1.000000</td>\n",
              "    </tr>\n",
              "    <tr>\n",
              "      <th>25%</th>\n",
              "      <td>26.000000</td>\n",
              "      <td>3.000000</td>\n",
              "      <td>9.000000</td>\n",
              "    </tr>\n",
              "    <tr>\n",
              "      <th>50%</th>\n",
              "      <td>87.000000</td>\n",
              "      <td>4.000000</td>\n",
              "      <td>13.000000</td>\n",
              "    </tr>\n",
              "    <tr>\n",
              "      <th>75%</th>\n",
              "      <td>130.000000</td>\n",
              "      <td>5.000000</td>\n",
              "      <td>16.000000</td>\n",
              "    </tr>\n",
              "    <tr>\n",
              "      <th>max</th>\n",
              "      <td>206.000000</td>\n",
              "      <td>10.000000</td>\n",
              "      <td>18.000000</td>\n",
              "    </tr>\n",
              "  </tbody>\n",
              "</table>\n",
              "</div>"
            ],
            "text/plain": [
              "              Age     Number      Start\n",
              "count   81.000000  81.000000  81.000000\n",
              "mean    83.654321   4.049383  11.493827\n",
              "std     58.104251   1.619423   4.883962\n",
              "min      1.000000   2.000000   1.000000\n",
              "25%     26.000000   3.000000   9.000000\n",
              "50%     87.000000   4.000000  13.000000\n",
              "75%    130.000000   5.000000  16.000000\n",
              "max    206.000000  10.000000  18.000000"
            ]
          },
          "metadata": {
            "tags": []
          },
          "execution_count": 13
        }
      ]
    },
    {
      "cell_type": "code",
      "metadata": {
        "colab": {
          "base_uri": "https://localhost:8080/",
          "height": 173
        },
        "id": "13Vop8Md3Kl8",
        "outputId": "9a530768-a36b-4b75-9143-0ae4e5e7a210"
      },
      "source": [
        "df.describe(include=np.object)"
      ],
      "execution_count": null,
      "outputs": [
        {
          "output_type": "execute_result",
          "data": {
            "text/html": [
              "<div>\n",
              "<style scoped>\n",
              "    .dataframe tbody tr th:only-of-type {\n",
              "        vertical-align: middle;\n",
              "    }\n",
              "\n",
              "    .dataframe tbody tr th {\n",
              "        vertical-align: top;\n",
              "    }\n",
              "\n",
              "    .dataframe thead th {\n",
              "        text-align: right;\n",
              "    }\n",
              "</style>\n",
              "<table border=\"1\" class=\"dataframe\">\n",
              "  <thead>\n",
              "    <tr style=\"text-align: right;\">\n",
              "      <th></th>\n",
              "      <th>Kyphosis</th>\n",
              "    </tr>\n",
              "  </thead>\n",
              "  <tbody>\n",
              "    <tr>\n",
              "      <th>count</th>\n",
              "      <td>81</td>\n",
              "    </tr>\n",
              "    <tr>\n",
              "      <th>unique</th>\n",
              "      <td>2</td>\n",
              "    </tr>\n",
              "    <tr>\n",
              "      <th>top</th>\n",
              "      <td>absent</td>\n",
              "    </tr>\n",
              "    <tr>\n",
              "      <th>freq</th>\n",
              "      <td>64</td>\n",
              "    </tr>\n",
              "  </tbody>\n",
              "</table>\n",
              "</div>"
            ],
            "text/plain": [
              "       Kyphosis\n",
              "count        81\n",
              "unique        2\n",
              "top      absent\n",
              "freq         64"
            ]
          },
          "metadata": {
            "tags": []
          },
          "execution_count": 14
        }
      ]
    },
    {
      "cell_type": "markdown",
      "metadata": {
        "id": "LcgOdLCAur3f"
      },
      "source": [
        "check for missing values"
      ]
    },
    {
      "cell_type": "code",
      "metadata": {
        "colab": {
          "base_uri": "https://localhost:8080/"
        },
        "id": "RGlTAUQOur3g",
        "outputId": "3c58a5d7-6b6d-4957-c3a0-b9782d25be7e"
      },
      "source": [
        "df.isnull().values.any()"
      ],
      "execution_count": null,
      "outputs": [
        {
          "output_type": "execute_result",
          "data": {
            "text/plain": [
              "False"
            ]
          },
          "metadata": {
            "tags": []
          },
          "execution_count": 8
        }
      ]
    },
    {
      "cell_type": "markdown",
      "metadata": {
        "id": "hHaI6kYM1u0n"
      },
      "source": [
        "display some of the rows of values"
      ]
    },
    {
      "cell_type": "code",
      "metadata": {
        "colab": {
          "base_uri": "https://localhost:8080/",
          "height": 235
        },
        "id": "d7gYUTMf10Lh",
        "outputId": "e3e75c34-6b3d-43cb-b5ce-37f647e85e15"
      },
      "source": [
        "df[:6]"
      ],
      "execution_count": null,
      "outputs": [
        {
          "output_type": "execute_result",
          "data": {
            "text/html": [
              "<div>\n",
              "<style scoped>\n",
              "    .dataframe tbody tr th:only-of-type {\n",
              "        vertical-align: middle;\n",
              "    }\n",
              "\n",
              "    .dataframe tbody tr th {\n",
              "        vertical-align: top;\n",
              "    }\n",
              "\n",
              "    .dataframe thead th {\n",
              "        text-align: right;\n",
              "    }\n",
              "</style>\n",
              "<table border=\"1\" class=\"dataframe\">\n",
              "  <thead>\n",
              "    <tr style=\"text-align: right;\">\n",
              "      <th></th>\n",
              "      <th>Kyphosis</th>\n",
              "      <th>Age</th>\n",
              "      <th>Number</th>\n",
              "      <th>Start</th>\n",
              "    </tr>\n",
              "  </thead>\n",
              "  <tbody>\n",
              "    <tr>\n",
              "      <th>0</th>\n",
              "      <td>0</td>\n",
              "      <td>71</td>\n",
              "      <td>3</td>\n",
              "      <td>5</td>\n",
              "    </tr>\n",
              "    <tr>\n",
              "      <th>1</th>\n",
              "      <td>0</td>\n",
              "      <td>158</td>\n",
              "      <td>3</td>\n",
              "      <td>14</td>\n",
              "    </tr>\n",
              "    <tr>\n",
              "      <th>2</th>\n",
              "      <td>1</td>\n",
              "      <td>128</td>\n",
              "      <td>4</td>\n",
              "      <td>5</td>\n",
              "    </tr>\n",
              "    <tr>\n",
              "      <th>3</th>\n",
              "      <td>0</td>\n",
              "      <td>2</td>\n",
              "      <td>5</td>\n",
              "      <td>1</td>\n",
              "    </tr>\n",
              "    <tr>\n",
              "      <th>4</th>\n",
              "      <td>0</td>\n",
              "      <td>1</td>\n",
              "      <td>4</td>\n",
              "      <td>15</td>\n",
              "    </tr>\n",
              "    <tr>\n",
              "      <th>5</th>\n",
              "      <td>0</td>\n",
              "      <td>1</td>\n",
              "      <td>2</td>\n",
              "      <td>16</td>\n",
              "    </tr>\n",
              "  </tbody>\n",
              "</table>\n",
              "</div>"
            ],
            "text/plain": [
              "   Kyphosis  Age  Number  Start\n",
              "0         0   71       3      5\n",
              "1         0  158       3     14\n",
              "2         1  128       4      5\n",
              "3         0    2       5      1\n",
              "4         0    1       4     15\n",
              "5         0    1       2     16"
            ]
          },
          "metadata": {
            "tags": []
          },
          "execution_count": 21
        }
      ]
    },
    {
      "cell_type": "markdown",
      "metadata": {
        "id": "2U8bxPI5ur3i"
      },
      "source": [
        "get value counts for the\n",
        "two classifications (absent, present)"
      ]
    },
    {
      "cell_type": "code",
      "metadata": {
        "colab": {
          "base_uri": "https://localhost:8080/"
        },
        "id": "TC5NlHV9ur3i",
        "outputId": "f62634bb-81d2-480b-97bd-c1b07d78e342"
      },
      "source": [
        "df['Kyphosis'].value_counts()"
      ],
      "execution_count": null,
      "outputs": [
        {
          "output_type": "execute_result",
          "data": {
            "text/plain": [
              "0    64\n",
              "1    17\n",
              "Name: Kyphosis, dtype: int64"
            ]
          },
          "metadata": {
            "tags": []
          },
          "execution_count": 22
        }
      ]
    },
    {
      "cell_type": "code",
      "metadata": {
        "colab": {
          "base_uri": "https://localhost:8080/"
        },
        "id": "9cl82N0aur3k",
        "outputId": "038420bc-b1a7-4491-8d14-564320b2a91f"
      },
      "source": [
        "label_encoder = preprocessing.LabelEncoder()\n",
        "df['Kyphosis'] = label_encoder.fit_transform(df['Kyphosis'])\n",
        "df['Kyphosis'].unique()"
      ],
      "execution_count": null,
      "outputs": [
        {
          "output_type": "execute_result",
          "data": {
            "text/plain": [
              "array([0, 1])"
            ]
          },
          "metadata": {
            "tags": []
          },
          "execution_count": 23
        }
      ]
    },
    {
      "cell_type": "code",
      "metadata": {
        "colab": {
          "base_uri": "https://localhost:8080/",
          "height": 960
        },
        "id": "3ifctBh58Ed4",
        "outputId": "b6eba7ac-a1ed-4015-9558-465f4c156a28"
      },
      "source": [
        "fig, axes = plt.subplots(1, 4,figsize=(15,15))\n",
        "sns.countplot(x=\"Age\", data=df, ax=axes[0])\n",
        "sns.countplot(x=\"Number\", data=df, ax=axes[1])\n",
        "sns.countplot(x=\"Start\", data=df, ax=axes[2])\n",
        "sns.countplot(x=\"Kyphosis\", data=df, ax=axes[3])\n",
        "fig.tight_layout(pad=3.0)"
      ],
      "execution_count": null,
      "outputs": [
        {
          "output_type": "display_data",
          "data": {
            "image/png": "[encoded data removed]",
            "text/plain": [
              "<Figure size 1080x1080 with 4 Axes>"
            ]
          },
          "metadata": {
            "tags": [],
            "needs_background": "light"
          }
        }
      ]
    },
    {
      "cell_type": "code",
      "metadata": {
        "colab": {
          "base_uri": "https://localhost:8080/",
          "height": 567
        },
        "id": "So9ahPsYur3l",
        "outputId": "8ca5e9c9-e9da-4577-cbc0-dd979daa74d8"
      },
      "source": [
        "#sns.pairplot(df,hue='Kyphosis')\n",
        "sns.pairplot(df,hue='Kyphosis',palette='Set1')"
      ],
      "execution_count": null,
      "outputs": [
        {
          "output_type": "execute_result",
          "data": {
            "text/plain": [
              "<seaborn.axisgrid.PairGrid at 0x7fc4b87ff450>"
            ]
          },
          "metadata": {
            "tags": []
          },
          "execution_count": 26
        },
        {
          "output_type": "display_data",
          "data": {
            "image/png": "[encoded data removed]",
            "text/plain": [
              "<Figure size 591.625x540 with 12 Axes>"
            ]
          },
          "metadata": {
            "tags": [],
            "needs_background": "light"
          }
        }
      ]
    },
    {
      "cell_type": "code",
      "metadata": {
        "colab": {
          "base_uri": "https://localhost:8080/",
          "height": 286
        },
        "id": "OxAJEU7aur3n",
        "outputId": "3a0fd292-4a5e-448c-9d8f-ba05c741ced5"
      },
      "source": [
        "df_corr = df.corr()\n",
        "sns.heatmap(df_corr, cmap=\"YlGnBu\", annot=True)"
      ],
      "execution_count": null,
      "outputs": [
        {
          "output_type": "execute_result",
          "data": {
            "text/plain": [
              "<matplotlib.axes._subplots.AxesSubplot at 0x7f97cb1ec890>"
            ]
          },
          "metadata": {
            "tags": []
          },
          "execution_count": 14
        },
        {
          "output_type": "display_data",
          "data": {
            "image/png": "[encoded data removed]",
            "text/plain": [
              "<Figure size 432x288 with 2 Axes>"
            ]
          },
          "metadata": {
            "tags": [],
            "needs_background": "light"
          }
        }
      ]
    },
    {
      "cell_type": "markdown",
      "metadata": {
        "id": "YMnM6Zbyur3p"
      },
      "source": [
        "## Split the Data"
      ]
    },
    {
      "cell_type": "code",
      "metadata": {
        "id": "41jEwGNIur3n"
      },
      "source": [
        "X = df[['Age', 'Number', 'Start']]\n",
        "Y = df['Kyphosis']"
      ],
      "execution_count": null,
      "outputs": []
    },
    {
      "cell_type": "code",
      "metadata": {
        "id": "s7b8nJ76ur3o"
      },
      "source": [
        "X_train, X_test, y_train, y_test = train_test_split(X, Y, test_size=0.25, random_state=40)"
      ],
      "execution_count": null,
      "outputs": []
    },
    {
      "cell_type": "code",
      "metadata": {
        "colab": {
          "base_uri": "https://localhost:8080/"
        },
        "id": "odGEUrcRJm9s",
        "outputId": "53cae868-96f9-4f07-c5ee-67ad26a55bba"
      },
      "source": [
        "print(\"Length of training data X_train:\")\n",
        "print(len(X_train))\n",
        "print(\"Length of training data y_train:\")\n",
        "print(len(y_train))\n",
        "print(\"Length of test data X_test:\")\n",
        "print(len(X_test))\n",
        "print(\"Length of test data y_test:\")\n",
        "print(len(y_test))\n",
        "print(\"Training data info:\")\n",
        "print(X_train.describe())\n",
        "print(X_train.info())\n",
        "print(\"Test data info:\")\n",
        "print(X_test.describe())\n",
        "print(X_test.info())\n",
        "print(\"Data type training:\")\n",
        "print(type(X_train))\n",
        "print(\"Data type test:\")\n",
        "print(type(X_test))"
      ],
      "execution_count": null,
      "outputs": [
        {
          "output_type": "stream",
          "text": [
            "Length of training data X_train:\n",
            "60\n",
            "Length of training data y_train:\n",
            "60\n",
            "Length of test data X_test:\n",
            "21\n",
            "Length of test data y_test:\n",
            "21\n",
            "Training data info:\n",
            "              Age     Number      Start\n",
            "count   60.000000  60.000000  60.000000\n",
            "mean    84.183333   3.983333  11.500000\n",
            "std     57.095368   1.567592   4.917971\n",
            "min      1.000000   2.000000   1.000000\n",
            "25%     30.000000   3.000000   9.000000\n",
            "50%     89.000000   4.000000  13.000000\n",
            "75%    128.500000   5.000000  16.000000\n",
            "max    206.000000  10.000000  18.000000\n",
            "<class 'pandas.core.frame.DataFrame'>\n",
            "Int64Index: 60 entries, 33 to 70\n",
            "Data columns (total 3 columns):\n",
            " #   Column  Non-Null Count  Dtype\n",
            "---  ------  --------------  -----\n",
            " 0   Age     60 non-null     int64\n",
            " 1   Number  60 non-null     int64\n",
            " 2   Start   60 non-null     int64\n",
            "dtypes: int64(3)\n",
            "memory usage: 1.9 KB\n",
            "None\n",
            "Test data info:\n",
            "              Age     Number      Start\n",
            "count   21.000000  21.000000  21.000000\n",
            "mean    82.142857   4.238095  11.476190\n",
            "std     62.325986   1.786190   4.905294\n",
            "min      1.000000   2.000000   1.000000\n",
            "25%     22.000000   3.000000   9.000000\n",
            "50%     71.000000   4.000000  13.000000\n",
            "75%    131.000000   5.000000  15.000000\n",
            "max    195.000000   9.000000  17.000000\n",
            "<class 'pandas.core.frame.DataFrame'>\n",
            "Int64Index: 21 entries, 17 to 4\n",
            "Data columns (total 3 columns):\n",
            " #   Column  Non-Null Count  Dtype\n",
            "---  ------  --------------  -----\n",
            " 0   Age     21 non-null     int64\n",
            " 1   Number  21 non-null     int64\n",
            " 2   Start   21 non-null     int64\n",
            "dtypes: int64(3)\n",
            "memory usage: 672.0 bytes\n",
            "None\n",
            "Data type training:\n",
            "<class 'pandas.core.frame.DataFrame'>\n",
            "Data type test:\n",
            "<class 'pandas.core.frame.DataFrame'>\n"
          ],
          "name": "stdout"
        }
      ]
    },
    {
      "cell_type": "markdown",
      "metadata": {
        "id": "n1HfYLQMJYGe"
      },
      "source": [
        "## Decision Tree Classifier"
      ]
    },
    {
      "cell_type": "code",
      "metadata": {
        "colab": {
          "base_uri": "https://localhost:8080/"
        },
        "id": "7Tdz3FsJur3p",
        "outputId": "9d557c93-e436-45d7-bbab-fed39e2ab72d"
      },
      "source": [
        "tree = DecisionTreeClassifier(random_state=0)\n",
        "tree.fit(X_train, y_train)\n",
        "print(\"Accuracy on training set: {:.3f}\".format(tree.score(X_train, y_train)))\n",
        "print(\"Accuracy on test set: {:.3f}\".format(tree.score(X_test, y_test)))"
      ],
      "execution_count": null,
      "outputs": [
        {
          "output_type": "stream",
          "text": [
            "Accuracy on training set: 1.000\n",
            "Accuracy on test set: 0.810\n"
          ],
          "name": "stdout"
        }
      ]
    },
    {
      "cell_type": "code",
      "metadata": {
        "colab": {
          "base_uri": "https://localhost:8080/"
        },
        "id": "sk98JUNyur3q",
        "outputId": "c6c4d281-ca94-4c1e-c99e-bc949ffa54c1"
      },
      "source": [
        "y_pred_tree = tree.predict(X_test)\n",
        "y_pred_tree"
      ],
      "execution_count": null,
      "outputs": [
        {
          "output_type": "execute_result",
          "data": {
            "text/plain": [
              "array([0, 0, 0, 0, 0, 0, 0, 1, 1, 0, 0, 0, 0, 0, 0, 0, 1, 0, 0, 0, 0])"
            ]
          },
          "metadata": {
            "tags": []
          },
          "execution_count": 19
        }
      ]
    },
    {
      "cell_type": "code",
      "metadata": {
        "colab": {
          "base_uri": "https://localhost:8080/"
        },
        "id": "RzHEhMeMur3q",
        "outputId": "f3704073-8dd7-4d98-f07d-c5d2b36cdb6b"
      },
      "source": [
        "print(\"confusion matrix for Decision Tree Classifier: \")\n",
        "print(confusion_matrix(y_test, y_pred_tree))\n",
        "print(\"classification report for Decision Tree Classifier: \")\n",
        "print(classification_report(y_test, y_pred_tree))"
      ],
      "execution_count": null,
      "outputs": [
        {
          "output_type": "stream",
          "text": [
            "confusion matrix for Decision Tree Classifier: \n",
            "[[16  2]\n",
            " [ 2  1]]\n",
            "classification report for Decision Tree Classifier: \n",
            "              precision    recall  f1-score   support\n",
            "\n",
            "           0       0.89      0.89      0.89        18\n",
            "           1       0.33      0.33      0.33         3\n",
            "\n",
            "    accuracy                           0.81        21\n",
            "   macro avg       0.61      0.61      0.61        21\n",
            "weighted avg       0.81      0.81      0.81        21\n",
            "\n"
          ],
          "name": "stdout"
        }
      ]
    },
    {
      "cell_type": "code",
      "metadata": {
        "id": "EOiQKXWpur3r"
      },
      "source": [
        "export_graphviz(tree, out_file=\"tree.dot\", class_names=[\"present\", \"absent\"],\n",
        "                feature_names=X_train.columns, impurity=False, filled=True)"
      ],
      "execution_count": null,
      "outputs": []
    },
    {
      "cell_type": "code",
      "metadata": {
        "colab": {
          "base_uri": "https://localhost:8080/",
          "height": 1000
        },
        "id": "5uodtF9pP0hg",
        "outputId": "58e11a05-2631-4748-90f0-4267aaa095bf"
      },
      "source": [
        "with open(\"tree.dot\") as f:\n",
        "    dot_graph = f.read()\n",
        "display(graphviz.Source(dot_graph))"
      ],
      "execution_count": null,
      "outputs": [
        {
          "output_type": "display_data",
          "data": {
            "text/plain": [
              "<graphviz.files.Source at 0x7f97cb130a10>"
            ],
            "image/svg+xml": "<?xml version=\"1.0\" encoding=\"UTF-8\" standalone=\"no\"?>\n<!DOCTYPE svg PUBLIC \"-//W3C//DTD SVG 1.1//EN\"\n \"http://www.w3.org/Graphics/SVG/1.1/DTD/svg11.dtd\">\n<!-- Generated by graphviz version 2.40.1 (20161225.0304)\n -->\n<!-- Title: Tree Pages: 1 -->\n<svg width=\"829pt\" height=\"789pt\"\n viewBox=\"0.00 0.00 829.00 789.00\" xmlns=\"http://www.w3.org/2000/svg\" xmlns:xlink=\"http://www.w3.org/1999/xlink\">\n<g id=\"graph0\" class=\"graph\" transform=\"scale(1 1) rotate(0) translate(4 785)\">\n<title>Tree</title>\n<polygon fill=\"#ffffff\" stroke=\"transparent\" points=\"-4,4 -4,-785 825,-785 825,4 -4,4\"/>\n<!-- 0 -->\n<g id=\"node1\" class=\"node\">\n<title>0</title>\n<polygon fill=\"#eda775\" stroke=\"#000000\" points=\"384.5,-781 274.5,-781 274.5,-713 384.5,-713 384.5,-781\"/>\n<text text-anchor=\"middle\" x=\"329.5\" y=\"-765.8\" font-family=\"Times,serif\" font-size=\"14.00\" fill=\"#000000\">Start &lt;= 8.5</text>\n<text text-anchor=\"middle\" x=\"329.5\" y=\"-750.8\" font-family=\"Times,serif\" font-size=\"14.00\" fill=\"#000000\">samples = 60</text>\n<text text-anchor=\"middle\" x=\"329.5\" y=\"-735.8\" font-family=\"Times,serif\" font-size=\"14.00\" fill=\"#000000\">value = [46, 14]</text>\n<text text-anchor=\"middle\" x=\"329.5\" y=\"-720.8\" font-family=\"Times,serif\" font-size=\"14.00\" fill=\"#000000\">class = present</text>\n</g>\n<!-- 1 -->\n<g id=\"node2\" class=\"node\">\n<title>1</title>\n<polygon fill=\"#a7d3f3\" stroke=\"#000000\" points=\"322,-677 215,-677 215,-609 322,-609 322,-677\"/>\n<text text-anchor=\"middle\" x=\"268.5\" y=\"-661.8\" font-family=\"Times,serif\" font-size=\"14.00\" fill=\"#000000\">Number &lt;= 5.5</text>\n<text text-anchor=\"middle\" x=\"268.5\" y=\"-646.8\" font-family=\"Times,serif\" font-size=\"14.00\" fill=\"#000000\">samples = 14</text>\n<text text-anchor=\"middle\" x=\"268.5\" y=\"-631.8\" font-family=\"Times,serif\" font-size=\"14.00\" fill=\"#000000\">value = [5, 9]</text>\n<text text-anchor=\"middle\" x=\"268.5\" y=\"-616.8\" font-family=\"Times,serif\" font-size=\"14.00\" fill=\"#000000\">class = absent</text>\n</g>\n<!-- 0&#45;&gt;1 -->\n<g id=\"edge1\" class=\"edge\">\n<title>0&#45;&gt;1</title>\n<path fill=\"none\" stroke=\"#000000\" d=\"M309.5263,-712.9465C304.4707,-704.3271 298.9753,-694.9579 293.6983,-685.9611\"/>\n<polygon fill=\"#000000\" stroke=\"#000000\" points=\"296.5969,-683.985 288.5186,-677.13 290.5589,-687.5265 296.5969,-683.985\"/>\n<text text-anchor=\"middle\" x=\"282.214\" y=\"-697.622\" font-family=\"Times,serif\" font-size=\"14.00\" fill=\"#000000\">True</text>\n</g>\n<!-- 12 -->\n<g id=\"node13\" class=\"node\">\n<title>12</title>\n<polygon fill=\"#e89051\" stroke=\"#000000\" points=\"442.5,-677 340.5,-677 340.5,-609 442.5,-609 442.5,-677\"/>\n<text text-anchor=\"middle\" x=\"391.5\" y=\"-661.8\" font-family=\"Times,serif\" font-size=\"14.00\" fill=\"#000000\">Start &lt;= 14.5</text>\n<text text-anchor=\"middle\" x=\"391.5\" y=\"-646.8\" font-family=\"Times,serif\" font-size=\"14.00\" fill=\"#000000\">samples = 46</text>\n<text text-anchor=\"middle\" x=\"391.5\" y=\"-631.8\" font-family=\"Times,serif\" font-size=\"14.00\" fill=\"#000000\">value = [41, 5]</text>\n<text text-anchor=\"middle\" x=\"391.5\" y=\"-616.8\" font-family=\"Times,serif\" font-size=\"14.00\" fill=\"#000000\">class = present</text>\n</g>\n<!-- 0&#45;&gt;12 -->\n<g id=\"edge12\" class=\"edge\">\n<title>0&#45;&gt;12</title>\n<path fill=\"none\" stroke=\"#000000\" d=\"M349.8011,-712.9465C354.9396,-704.3271 360.5251,-694.9579 365.8886,-685.9611\"/>\n<polygon fill=\"#000000\" stroke=\"#000000\" points=\"369.0389,-687.5117 371.1533,-677.13 363.0263,-683.9272 369.0389,-687.5117\"/>\n<text text-anchor=\"middle\" x=\"377.2853\" y=\"-697.6663\" font-family=\"Times,serif\" font-size=\"14.00\" fill=\"#000000\">False</text>\n</g>\n<!-- 2 -->\n<g id=\"node3\" class=\"node\">\n<title>2</title>\n<polygon fill=\"#fae6d7\" stroke=\"#000000\" points=\"205,-573 106,-573 106,-505 205,-505 205,-573\"/>\n<text text-anchor=\"middle\" x=\"155.5\" y=\"-557.8\" font-family=\"Times,serif\" font-size=\"14.00\" fill=\"#000000\">Age &lt;= 35.0</text>\n<text text-anchor=\"middle\" x=\"155.5\" y=\"-542.8\" font-family=\"Times,serif\" font-size=\"14.00\" fill=\"#000000\">samples = 9</text>\n<text text-anchor=\"middle\" x=\"155.5\" y=\"-527.8\" font-family=\"Times,serif\" font-size=\"14.00\" fill=\"#000000\">value = [5, 4]</text>\n<text text-anchor=\"middle\" x=\"155.5\" y=\"-512.8\" font-family=\"Times,serif\" font-size=\"14.00\" fill=\"#000000\">class = present</text>\n</g>\n<!-- 1&#45;&gt;2 -->\n<g id=\"edge2\" class=\"edge\">\n<title>1&#45;&gt;2</title>\n<path fill=\"none\" stroke=\"#000000\" d=\"M231.4996,-608.9465C221.4514,-599.6986 210.4653,-589.5876 200.0474,-579.9994\"/>\n<polygon fill=\"#000000\" stroke=\"#000000\" points=\"202.3118,-577.3267 192.5836,-573.13 197.5714,-582.4773 202.3118,-577.3267\"/>\n</g>\n<!-- 11 -->\n<g id=\"node12\" class=\"node\">\n<title>11</title>\n<polygon fill=\"#399de5\" stroke=\"#000000\" points=\"318,-565.5 223,-565.5 223,-512.5 318,-512.5 318,-565.5\"/>\n<text text-anchor=\"middle\" x=\"270.5\" y=\"-550.3\" font-family=\"Times,serif\" font-size=\"14.00\" fill=\"#000000\">samples = 5</text>\n<text text-anchor=\"middle\" x=\"270.5\" y=\"-535.3\" font-family=\"Times,serif\" font-size=\"14.00\" fill=\"#000000\">value = [0, 5]</text>\n<text text-anchor=\"middle\" x=\"270.5\" y=\"-520.3\" font-family=\"Times,serif\" font-size=\"14.00\" fill=\"#000000\">class = absent</text>\n</g>\n<!-- 1&#45;&gt;11 -->\n<g id=\"edge11\" class=\"edge\">\n<title>1&#45;&gt;11</title>\n<path fill=\"none\" stroke=\"#000000\" d=\"M269.1549,-608.9465C269.3603,-598.2621 269.588,-586.4254 269.7966,-575.5742\"/>\n<polygon fill=\"#000000\" stroke=\"#000000\" points=\"273.2966,-575.6076 269.9896,-565.5422 266.2979,-575.473 273.2966,-575.6076\"/>\n</g>\n<!-- 3 -->\n<g id=\"node4\" class=\"node\">\n<title>3</title>\n<polygon fill=\"#e58139\" stroke=\"#000000\" points=\"99,-461.5 0,-461.5 0,-408.5 99,-408.5 99,-461.5\"/>\n<text text-anchor=\"middle\" x=\"49.5\" y=\"-446.3\" font-family=\"Times,serif\" font-size=\"14.00\" fill=\"#000000\">samples = 3</text>\n<text text-anchor=\"middle\" x=\"49.5\" y=\"-431.3\" font-family=\"Times,serif\" font-size=\"14.00\" fill=\"#000000\">value = [3, 0]</text>\n<text text-anchor=\"middle\" x=\"49.5\" y=\"-416.3\" font-family=\"Times,serif\" font-size=\"14.00\" fill=\"#000000\">class = present</text>\n</g>\n<!-- 2&#45;&gt;3 -->\n<g id=\"edge3\" class=\"edge\">\n<title>2&#45;&gt;3</title>\n<path fill=\"none\" stroke=\"#000000\" d=\"M120.7916,-504.9465C108.8913,-493.2707 95.5886,-480.219 83.7267,-468.5809\"/>\n<polygon fill=\"#000000\" stroke=\"#000000\" points=\"86.1419,-466.0473 76.5526,-461.5422 81.2395,-471.0439 86.1419,-466.0473\"/>\n</g>\n<!-- 4 -->\n<g id=\"node5\" class=\"node\">\n<title>4</title>\n<polygon fill=\"#9ccef2\" stroke=\"#000000\" points=\"224,-469 117,-469 117,-401 224,-401 224,-469\"/>\n<text text-anchor=\"middle\" x=\"170.5\" y=\"-453.8\" font-family=\"Times,serif\" font-size=\"14.00\" fill=\"#000000\">Number &lt;= 3.0</text>\n<text text-anchor=\"middle\" x=\"170.5\" y=\"-438.8\" font-family=\"Times,serif\" font-size=\"14.00\" fill=\"#000000\">samples = 6</text>\n<text text-anchor=\"middle\" x=\"170.5\" y=\"-423.8\" font-family=\"Times,serif\" font-size=\"14.00\" fill=\"#000000\">value = [2, 4]</text>\n<text text-anchor=\"middle\" x=\"170.5\" y=\"-408.8\" font-family=\"Times,serif\" font-size=\"14.00\" fill=\"#000000\">class = absent</text>\n</g>\n<!-- 2&#45;&gt;4 -->\n<g id=\"edge4\" class=\"edge\">\n<title>2&#45;&gt;4</title>\n<path fill=\"none\" stroke=\"#000000\" d=\"M160.4116,-504.9465C161.6029,-496.6863 162.8937,-487.7374 164.1412,-479.0875\"/>\n<polygon fill=\"#000000\" stroke=\"#000000\" points=\"167.6139,-479.5272 165.5774,-469.13 160.6856,-478.5279 167.6139,-479.5272\"/>\n</g>\n<!-- 5 -->\n<g id=\"node6\" class=\"node\">\n<title>5</title>\n<polygon fill=\"#e58139\" stroke=\"#000000\" points=\"108,-357.5 9,-357.5 9,-304.5 108,-304.5 108,-357.5\"/>\n<text text-anchor=\"middle\" x=\"58.5\" y=\"-342.3\" font-family=\"Times,serif\" font-size=\"14.00\" fill=\"#000000\">samples = 1</text>\n<text text-anchor=\"middle\" x=\"58.5\" y=\"-327.3\" font-family=\"Times,serif\" font-size=\"14.00\" fill=\"#000000\">value = [1, 0]</text>\n<text text-anchor=\"middle\" x=\"58.5\" y=\"-312.3\" font-family=\"Times,serif\" font-size=\"14.00\" fill=\"#000000\">class = present</text>\n</g>\n<!-- 4&#45;&gt;5 -->\n<g id=\"edge5\" class=\"edge\">\n<title>4&#45;&gt;5</title>\n<path fill=\"none\" stroke=\"#000000\" d=\"M133.827,-400.9465C121.2531,-389.2707 107.1974,-376.219 94.6641,-364.5809\"/>\n<polygon fill=\"#000000\" stroke=\"#000000\" points=\"96.7934,-361.7819 87.0839,-357.5422 92.0302,-366.9115 96.7934,-361.7819\"/>\n</g>\n<!-- 6 -->\n<g id=\"node7\" class=\"node\">\n<title>6</title>\n<polygon fill=\"#6ab6ec\" stroke=\"#000000\" points=\"221,-365 126,-365 126,-297 221,-297 221,-365\"/>\n<text text-anchor=\"middle\" x=\"173.5\" y=\"-349.8\" font-family=\"Times,serif\" font-size=\"14.00\" fill=\"#000000\">Age &lt;= 77.0</text>\n<text text-anchor=\"middle\" x=\"173.5\" y=\"-334.8\" font-family=\"Times,serif\" font-size=\"14.00\" fill=\"#000000\">samples = 5</text>\n<text text-anchor=\"middle\" x=\"173.5\" y=\"-319.8\" font-family=\"Times,serif\" font-size=\"14.00\" fill=\"#000000\">value = [1, 4]</text>\n<text text-anchor=\"middle\" x=\"173.5\" y=\"-304.8\" font-family=\"Times,serif\" font-size=\"14.00\" fill=\"#000000\">class = absent</text>\n</g>\n<!-- 4&#45;&gt;6 -->\n<g id=\"edge6\" class=\"edge\">\n<title>4&#45;&gt;6</title>\n<path fill=\"none\" stroke=\"#000000\" d=\"M171.4823,-400.9465C171.718,-392.776 171.9731,-383.9318 172.2201,-375.3697\"/>\n<polygon fill=\"#000000\" stroke=\"#000000\" points=\"175.7256,-375.2268 172.5155,-365.13 168.7285,-375.0249 175.7256,-375.2268\"/>\n</g>\n<!-- 7 -->\n<g id=\"node8\" class=\"node\">\n<title>7</title>\n<polygon fill=\"#399de5\" stroke=\"#000000\" points=\"120,-253.5 25,-253.5 25,-200.5 120,-200.5 120,-253.5\"/>\n<text text-anchor=\"middle\" x=\"72.5\" y=\"-238.3\" font-family=\"Times,serif\" font-size=\"14.00\" fill=\"#000000\">samples = 2</text>\n<text text-anchor=\"middle\" x=\"72.5\" y=\"-223.3\" font-family=\"Times,serif\" font-size=\"14.00\" fill=\"#000000\">value = [0, 2]</text>\n<text text-anchor=\"middle\" x=\"72.5\" y=\"-208.3\" font-family=\"Times,serif\" font-size=\"14.00\" fill=\"#000000\">class = absent</text>\n</g>\n<!-- 6&#45;&gt;7 -->\n<g id=\"edge7\" class=\"edge\">\n<title>6&#45;&gt;7</title>\n<path fill=\"none\" stroke=\"#000000\" d=\"M140.4288,-296.9465C129.1968,-285.3809 116.6537,-272.4652 105.4325,-260.9107\"/>\n<polygon fill=\"#000000\" stroke=\"#000000\" points=\"107.7542,-258.2776 98.2765,-253.5422 102.7326,-263.1544 107.7542,-258.2776\"/>\n</g>\n<!-- 8 -->\n<g id=\"node9\" class=\"node\">\n<title>8</title>\n<polygon fill=\"#9ccef2\" stroke=\"#000000\" points=\"236.5,-261 138.5,-261 138.5,-193 236.5,-193 236.5,-261\"/>\n<text text-anchor=\"middle\" x=\"187.5\" y=\"-245.8\" font-family=\"Times,serif\" font-size=\"14.00\" fill=\"#000000\">Age &lt;= 104.5</text>\n<text text-anchor=\"middle\" x=\"187.5\" y=\"-230.8\" font-family=\"Times,serif\" font-size=\"14.00\" fill=\"#000000\">samples = 3</text>\n<text text-anchor=\"middle\" x=\"187.5\" y=\"-215.8\" font-family=\"Times,serif\" font-size=\"14.00\" fill=\"#000000\">value = [1, 2]</text>\n<text text-anchor=\"middle\" x=\"187.5\" y=\"-200.8\" font-family=\"Times,serif\" font-size=\"14.00\" fill=\"#000000\">class = absent</text>\n</g>\n<!-- 6&#45;&gt;8 -->\n<g id=\"edge8\" class=\"edge\">\n<title>6&#45;&gt;8</title>\n<path fill=\"none\" stroke=\"#000000\" d=\"M178.0841,-296.9465C179.1961,-288.6863 180.4007,-279.7374 181.5651,-271.0875\"/>\n<polygon fill=\"#000000\" stroke=\"#000000\" points=\"185.0401,-271.5076 182.9056,-261.13 178.1027,-270.5736 185.0401,-271.5076\"/>\n</g>\n<!-- 9 -->\n<g id=\"node10\" class=\"node\">\n<title>9</title>\n<polygon fill=\"#e58139\" stroke=\"#000000\" points=\"182,-149.5 83,-149.5 83,-96.5 182,-96.5 182,-149.5\"/>\n<text text-anchor=\"middle\" x=\"132.5\" y=\"-134.3\" font-family=\"Times,serif\" font-size=\"14.00\" fill=\"#000000\">samples = 1</text>\n<text text-anchor=\"middle\" x=\"132.5\" y=\"-119.3\" font-family=\"Times,serif\" font-size=\"14.00\" fill=\"#000000\">value = [1, 0]</text>\n<text text-anchor=\"middle\" x=\"132.5\" y=\"-104.3\" font-family=\"Times,serif\" font-size=\"14.00\" fill=\"#000000\">class = present</text>\n</g>\n<!-- 8&#45;&gt;9 -->\n<g id=\"edge9\" class=\"edge\">\n<title>8&#45;&gt;9</title>\n<path fill=\"none\" stroke=\"#000000\" d=\"M169.4909,-192.9465C163.6658,-181.9316 157.193,-169.6922 151.3112,-158.5703\"/>\n<polygon fill=\"#000000\" stroke=\"#000000\" points=\"154.3057,-156.7459 146.5367,-149.5422 148.1178,-160.0184 154.3057,-156.7459\"/>\n</g>\n<!-- 10 -->\n<g id=\"node11\" class=\"node\">\n<title>10</title>\n<polygon fill=\"#399de5\" stroke=\"#000000\" points=\"295,-149.5 200,-149.5 200,-96.5 295,-96.5 295,-149.5\"/>\n<text text-anchor=\"middle\" x=\"247.5\" y=\"-134.3\" font-family=\"Times,serif\" font-size=\"14.00\" fill=\"#000000\">samples = 2</text>\n<text text-anchor=\"middle\" x=\"247.5\" y=\"-119.3\" font-family=\"Times,serif\" font-size=\"14.00\" fill=\"#000000\">value = [0, 2]</text>\n<text text-anchor=\"middle\" x=\"247.5\" y=\"-104.3\" font-family=\"Times,serif\" font-size=\"14.00\" fill=\"#000000\">class = absent</text>\n</g>\n<!-- 8&#45;&gt;10 -->\n<g id=\"edge10\" class=\"edge\">\n<title>8&#45;&gt;10</title>\n<path fill=\"none\" stroke=\"#000000\" d=\"M207.1462,-192.9465C213.5645,-181.8215 220.7035,-169.4473 227.171,-158.237\"/>\n<polygon fill=\"#000000\" stroke=\"#000000\" points=\"230.2216,-159.9531 232.1872,-149.5422 224.1583,-156.455 230.2216,-159.9531\"/>\n</g>\n<!-- 13 -->\n<g id=\"node14\" class=\"node\">\n<title>13</title>\n<polygon fill=\"#eca06a\" stroke=\"#000000\" points=\"441.5,-573 339.5,-573 339.5,-505 441.5,-505 441.5,-573\"/>\n<text text-anchor=\"middle\" x=\"390.5\" y=\"-557.8\" font-family=\"Times,serif\" font-size=\"14.00\" fill=\"#000000\">Age &lt;= 75.0</text>\n<text text-anchor=\"middle\" x=\"390.5\" y=\"-542.8\" font-family=\"Times,serif\" font-size=\"14.00\" fill=\"#000000\">samples = 25</text>\n<text text-anchor=\"middle\" x=\"390.5\" y=\"-527.8\" font-family=\"Times,serif\" font-size=\"14.00\" fill=\"#000000\">value = [20, 5]</text>\n<text text-anchor=\"middle\" x=\"390.5\" y=\"-512.8\" font-family=\"Times,serif\" font-size=\"14.00\" fill=\"#000000\">class = present</text>\n</g>\n<!-- 12&#45;&gt;13 -->\n<g id=\"edge13\" class=\"edge\">\n<title>12&#45;&gt;13</title>\n<path fill=\"none\" stroke=\"#000000\" d=\"M391.1726,-608.9465C391.094,-600.776 391.009,-591.9318 390.9266,-583.3697\"/>\n<polygon fill=\"#000000\" stroke=\"#000000\" points=\"394.4243,-583.0958 390.8282,-573.13 387.4246,-583.1632 394.4243,-583.0958\"/>\n</g>\n<!-- 26 -->\n<g id=\"node27\" class=\"node\">\n<title>26</title>\n<polygon fill=\"#e58139\" stroke=\"#000000\" points=\"561.5,-565.5 459.5,-565.5 459.5,-512.5 561.5,-512.5 561.5,-565.5\"/>\n<text text-anchor=\"middle\" x=\"510.5\" y=\"-550.3\" font-family=\"Times,serif\" font-size=\"14.00\" fill=\"#000000\">samples = 21</text>\n<text text-anchor=\"middle\" x=\"510.5\" y=\"-535.3\" font-family=\"Times,serif\" font-size=\"14.00\" fill=\"#000000\">value = [21, 0]</text>\n<text text-anchor=\"middle\" x=\"510.5\" y=\"-520.3\" font-family=\"Times,serif\" font-size=\"14.00\" fill=\"#000000\">class = present</text>\n</g>\n<!-- 12&#45;&gt;26 -->\n<g id=\"edge26\" class=\"edge\">\n<title>12&#45;&gt;26</title>\n<path fill=\"none\" stroke=\"#000000\" d=\"M430.4651,-608.9465C443.9509,-597.1606 459.0409,-583.9726 472.4521,-572.2519\"/>\n<polygon fill=\"#000000\" stroke=\"#000000\" points=\"474.9031,-574.7582 480.1296,-565.5422 470.2967,-569.4874 474.9031,-574.7582\"/>\n</g>\n<!-- 14 -->\n<g id=\"node15\" class=\"node\">\n<title>14</title>\n<polygon fill=\"#e58139\" stroke=\"#000000\" points=\"411,-461.5 312,-461.5 312,-408.5 411,-408.5 411,-461.5\"/>\n<text text-anchor=\"middle\" x=\"361.5\" y=\"-446.3\" font-family=\"Times,serif\" font-size=\"14.00\" fill=\"#000000\">samples = 9</text>\n<text text-anchor=\"middle\" x=\"361.5\" y=\"-431.3\" font-family=\"Times,serif\" font-size=\"14.00\" fill=\"#000000\">value = [9, 0]</text>\n<text text-anchor=\"middle\" x=\"361.5\" y=\"-416.3\" font-family=\"Times,serif\" font-size=\"14.00\" fill=\"#000000\">class = present</text>\n</g>\n<!-- 13&#45;&gt;14 -->\n<g id=\"edge14\" class=\"edge\">\n<title>13&#45;&gt;14</title>\n<path fill=\"none\" stroke=\"#000000\" d=\"M381.0043,-504.9465C377.9943,-494.1519 374.6563,-482.1813 371.6051,-471.2389\"/>\n<polygon fill=\"#000000\" stroke=\"#000000\" points=\"374.9586,-470.2346 368.9012,-461.5422 368.2159,-472.1148 374.9586,-470.2346\"/>\n</g>\n<!-- 15 -->\n<g id=\"node16\" class=\"node\">\n<title>15</title>\n<polygon fill=\"#f1ba93\" stroke=\"#000000\" points=\"530,-469 429,-469 429,-401 530,-401 530,-469\"/>\n<text text-anchor=\"middle\" x=\"479.5\" y=\"-453.8\" font-family=\"Times,serif\" font-size=\"14.00\" fill=\"#000000\">Age &lt;= 98.0</text>\n<text text-anchor=\"middle\" x=\"479.5\" y=\"-438.8\" font-family=\"Times,serif\" font-size=\"14.00\" fill=\"#000000\">samples = 16</text>\n<text text-anchor=\"middle\" x=\"479.5\" y=\"-423.8\" font-family=\"Times,serif\" font-size=\"14.00\" fill=\"#000000\">value = [11, 5]</text>\n<text text-anchor=\"middle\" x=\"479.5\" y=\"-408.8\" font-family=\"Times,serif\" font-size=\"14.00\" fill=\"#000000\">class = present</text>\n</g>\n<!-- 13&#45;&gt;15 -->\n<g id=\"edge15\" class=\"edge\">\n<title>13&#45;&gt;15</title>\n<path fill=\"none\" stroke=\"#000000\" d=\"M419.6419,-504.9465C427.3255,-495.968 435.7053,-486.1758 443.6959,-476.8385\"/>\n<polygon fill=\"#000000\" stroke=\"#000000\" points=\"446.4499,-479.0034 450.2926,-469.13 441.1315,-474.4521 446.4499,-479.0034\"/>\n</g>\n<!-- 16 -->\n<g id=\"node17\" class=\"node\">\n<title>16</title>\n<polygon fill=\"#399de5\" stroke=\"#000000\" points=\"438,-357.5 343,-357.5 343,-304.5 438,-304.5 438,-357.5\"/>\n<text text-anchor=\"middle\" x=\"390.5\" y=\"-342.3\" font-family=\"Times,serif\" font-size=\"14.00\" fill=\"#000000\">samples = 3</text>\n<text text-anchor=\"middle\" x=\"390.5\" y=\"-327.3\" font-family=\"Times,serif\" font-size=\"14.00\" fill=\"#000000\">value = [0, 3]</text>\n<text text-anchor=\"middle\" x=\"390.5\" y=\"-312.3\" font-family=\"Times,serif\" font-size=\"14.00\" fill=\"#000000\">class = absent</text>\n</g>\n<!-- 15&#45;&gt;16 -->\n<g id=\"edge16\" class=\"edge\">\n<title>15&#45;&gt;16</title>\n<path fill=\"none\" stroke=\"#000000\" d=\"M450.3581,-400.9465C440.5548,-389.491 429.6181,-376.711 419.8025,-365.2412\"/>\n<polygon fill=\"#000000\" stroke=\"#000000\" points=\"422.3751,-362.8642 413.214,-357.5422 417.0567,-367.4156 422.3751,-362.8642\"/>\n</g>\n<!-- 17 -->\n<g id=\"node18\" class=\"node\">\n<title>17</title>\n<polygon fill=\"#ea985d\" stroke=\"#000000\" points=\"557,-365 456,-365 456,-297 557,-297 557,-365\"/>\n<text text-anchor=\"middle\" x=\"506.5\" y=\"-349.8\" font-family=\"Times,serif\" font-size=\"14.00\" fill=\"#000000\">Start &lt;= 10.5</text>\n<text text-anchor=\"middle\" x=\"506.5\" y=\"-334.8\" font-family=\"Times,serif\" font-size=\"14.00\" fill=\"#000000\">samples = 13</text>\n<text text-anchor=\"middle\" x=\"506.5\" y=\"-319.8\" font-family=\"Times,serif\" font-size=\"14.00\" fill=\"#000000\">value = [11, 2]</text>\n<text text-anchor=\"middle\" x=\"506.5\" y=\"-304.8\" font-family=\"Times,serif\" font-size=\"14.00\" fill=\"#000000\">class = present</text>\n</g>\n<!-- 15&#45;&gt;17 -->\n<g id=\"edge17\" class=\"edge\">\n<title>15&#45;&gt;17</title>\n<path fill=\"none\" stroke=\"#000000\" d=\"M488.3408,-400.9465C490.4853,-392.6863 492.8086,-383.7374 495.0542,-375.0875\"/>\n<polygon fill=\"#000000\" stroke=\"#000000\" points=\"498.5141,-375.6887 497.6393,-365.13 491.7387,-373.9296 498.5141,-375.6887\"/>\n</g>\n<!-- 18 -->\n<g id=\"node19\" class=\"node\">\n<title>18</title>\n<polygon fill=\"#ffffff\" stroke=\"#000000\" points=\"528,-261 429,-261 429,-193 528,-193 528,-261\"/>\n<text text-anchor=\"middle\" x=\"478.5\" y=\"-245.8\" font-family=\"Times,serif\" font-size=\"14.00\" fill=\"#000000\">Age &lt;= 172.5</text>\n<text text-anchor=\"middle\" x=\"478.5\" y=\"-230.8\" font-family=\"Times,serif\" font-size=\"14.00\" fill=\"#000000\">samples = 2</text>\n<text text-anchor=\"middle\" x=\"478.5\" y=\"-215.8\" font-family=\"Times,serif\" font-size=\"14.00\" fill=\"#000000\">value = [1, 1]</text>\n<text text-anchor=\"middle\" x=\"478.5\" y=\"-200.8\" font-family=\"Times,serif\" font-size=\"14.00\" fill=\"#000000\">class = present</text>\n</g>\n<!-- 17&#45;&gt;18 -->\n<g id=\"edge18\" class=\"edge\">\n<title>17&#45;&gt;18</title>\n<path fill=\"none\" stroke=\"#000000\" d=\"M497.3318,-296.9465C495.0837,-288.5965 492.6461,-279.5427 490.2938,-270.8056\"/>\n<polygon fill=\"#000000\" stroke=\"#000000\" points=\"493.6683,-269.8762 487.6888,-261.13 486.909,-271.6961 493.6683,-269.8762\"/>\n</g>\n<!-- 21 -->\n<g id=\"node22\" class=\"node\">\n<title>21</title>\n<polygon fill=\"#e88e4d\" stroke=\"#000000\" points=\"648.5,-261 546.5,-261 546.5,-193 648.5,-193 648.5,-261\"/>\n<text text-anchor=\"middle\" x=\"597.5\" y=\"-245.8\" font-family=\"Times,serif\" font-size=\"14.00\" fill=\"#000000\">Age &lt;= 148.5</text>\n<text text-anchor=\"middle\" x=\"597.5\" y=\"-230.8\" font-family=\"Times,serif\" font-size=\"14.00\" fill=\"#000000\">samples = 11</text>\n<text text-anchor=\"middle\" x=\"597.5\" y=\"-215.8\" font-family=\"Times,serif\" font-size=\"14.00\" fill=\"#000000\">value = [10, 1]</text>\n<text text-anchor=\"middle\" x=\"597.5\" y=\"-200.8\" font-family=\"Times,serif\" font-size=\"14.00\" fill=\"#000000\">class = present</text>\n</g>\n<!-- 17&#45;&gt;21 -->\n<g id=\"edge21\" class=\"edge\">\n<title>17&#45;&gt;21</title>\n<path fill=\"none\" stroke=\"#000000\" d=\"M536.2968,-296.9465C544.153,-287.968 552.7212,-278.1758 560.8913,-268.8385\"/>\n<polygon fill=\"#000000\" stroke=\"#000000\" points=\"563.6852,-270.9606 567.6363,-261.13 558.4171,-266.351 563.6852,-270.9606\"/>\n</g>\n<!-- 19 -->\n<g id=\"node20\" class=\"node\">\n<title>19</title>\n<polygon fill=\"#399de5\" stroke=\"#000000\" points=\"412,-149.5 317,-149.5 317,-96.5 412,-96.5 412,-149.5\"/>\n<text text-anchor=\"middle\" x=\"364.5\" y=\"-134.3\" font-family=\"Times,serif\" font-size=\"14.00\" fill=\"#000000\">samples = 1</text>\n<text text-anchor=\"middle\" x=\"364.5\" y=\"-119.3\" font-family=\"Times,serif\" font-size=\"14.00\" fill=\"#000000\">value = [0, 1]</text>\n<text text-anchor=\"middle\" x=\"364.5\" y=\"-104.3\" font-family=\"Times,serif\" font-size=\"14.00\" fill=\"#000000\">class = absent</text>\n</g>\n<!-- 18&#45;&gt;19 -->\n<g id=\"edge19\" class=\"edge\">\n<title>18&#45;&gt;19</title>\n<path fill=\"none\" stroke=\"#000000\" d=\"M441.1721,-192.9465C428.3737,-181.2707 414.067,-168.219 401.3099,-156.5809\"/>\n<polygon fill=\"#000000\" stroke=\"#000000\" points=\"403.3409,-153.6961 393.5943,-149.5422 398.6231,-158.8675 403.3409,-153.6961\"/>\n</g>\n<!-- 20 -->\n<g id=\"node21\" class=\"node\">\n<title>20</title>\n<polygon fill=\"#e58139\" stroke=\"#000000\" points=\"529,-149.5 430,-149.5 430,-96.5 529,-96.5 529,-149.5\"/>\n<text text-anchor=\"middle\" x=\"479.5\" y=\"-134.3\" font-family=\"Times,serif\" font-size=\"14.00\" fill=\"#000000\">samples = 1</text>\n<text text-anchor=\"middle\" x=\"479.5\" y=\"-119.3\" font-family=\"Times,serif\" font-size=\"14.00\" fill=\"#000000\">value = [1, 0]</text>\n<text text-anchor=\"middle\" x=\"479.5\" y=\"-104.3\" font-family=\"Times,serif\" font-size=\"14.00\" fill=\"#000000\">class = present</text>\n</g>\n<!-- 18&#45;&gt;20 -->\n<g id=\"edge20\" class=\"edge\">\n<title>18&#45;&gt;20</title>\n<path fill=\"none\" stroke=\"#000000\" d=\"M478.8274,-192.9465C478.9302,-182.2621 479.044,-170.4254 479.1483,-159.5742\"/>\n<polygon fill=\"#000000\" stroke=\"#000000\" points=\"482.6484,-159.5754 479.2448,-149.5422 475.6487,-159.508 482.6484,-159.5754\"/>\n</g>\n<!-- 22 -->\n<g id=\"node23\" class=\"node\">\n<title>22</title>\n<polygon fill=\"#e58139\" stroke=\"#000000\" points=\"647,-149.5 548,-149.5 548,-96.5 647,-96.5 647,-149.5\"/>\n<text text-anchor=\"middle\" x=\"597.5\" y=\"-134.3\" font-family=\"Times,serif\" font-size=\"14.00\" fill=\"#000000\">samples = 6</text>\n<text text-anchor=\"middle\" x=\"597.5\" y=\"-119.3\" font-family=\"Times,serif\" font-size=\"14.00\" fill=\"#000000\">value = [6, 0]</text>\n<text text-anchor=\"middle\" x=\"597.5\" y=\"-104.3\" font-family=\"Times,serif\" font-size=\"14.00\" fill=\"#000000\">class = present</text>\n</g>\n<!-- 21&#45;&gt;22 -->\n<g id=\"edge22\" class=\"edge\">\n<title>21&#45;&gt;22</title>\n<path fill=\"none\" stroke=\"#000000\" d=\"M597.5,-192.9465C597.5,-182.2621 597.5,-170.4254 597.5,-159.5742\"/>\n<polygon fill=\"#000000\" stroke=\"#000000\" points=\"601.0001,-159.5421 597.5,-149.5422 594.0001,-159.5422 601.0001,-159.5421\"/>\n</g>\n<!-- 23 -->\n<g id=\"node24\" class=\"node\">\n<title>23</title>\n<polygon fill=\"#eca06a\" stroke=\"#000000\" points=\"764,-157 665,-157 665,-89 764,-89 764,-157\"/>\n<text text-anchor=\"middle\" x=\"714.5\" y=\"-141.8\" font-family=\"Times,serif\" font-size=\"14.00\" fill=\"#000000\">Age &lt;= 157.5</text>\n<text text-anchor=\"middle\" x=\"714.5\" y=\"-126.8\" font-family=\"Times,serif\" font-size=\"14.00\" fill=\"#000000\">samples = 5</text>\n<text text-anchor=\"middle\" x=\"714.5\" y=\"-111.8\" font-family=\"Times,serif\" font-size=\"14.00\" fill=\"#000000\">value = [4, 1]</text>\n<text text-anchor=\"middle\" x=\"714.5\" y=\"-96.8\" font-family=\"Times,serif\" font-size=\"14.00\" fill=\"#000000\">class = present</text>\n</g>\n<!-- 21&#45;&gt;23 -->\n<g id=\"edge23\" class=\"edge\">\n<title>21&#45;&gt;23</title>\n<path fill=\"none\" stroke=\"#000000\" d=\"M635.8102,-192.9465C646.2141,-183.6986 657.589,-173.5876 668.3757,-163.9994\"/>\n<polygon fill=\"#000000\" stroke=\"#000000\" points=\"670.9549,-166.3896 676.1038,-157.13 666.3044,-161.1577 670.9549,-166.3896\"/>\n</g>\n<!-- 24 -->\n<g id=\"node25\" class=\"node\">\n<title>24</title>\n<polygon fill=\"#399de5\" stroke=\"#000000\" points=\"704,-53 609,-53 609,0 704,0 704,-53\"/>\n<text text-anchor=\"middle\" x=\"656.5\" y=\"-37.8\" font-family=\"Times,serif\" font-size=\"14.00\" fill=\"#000000\">samples = 1</text>\n<text text-anchor=\"middle\" x=\"656.5\" y=\"-22.8\" font-family=\"Times,serif\" font-size=\"14.00\" fill=\"#000000\">value = [0, 1]</text>\n<text text-anchor=\"middle\" x=\"656.5\" y=\"-7.8\" font-family=\"Times,serif\" font-size=\"14.00\" fill=\"#000000\">class = absent</text>\n</g>\n<!-- 23&#45;&gt;24 -->\n<g id=\"edge24\" class=\"edge\">\n<title>23&#45;&gt;24</title>\n<path fill=\"none\" stroke=\"#000000\" d=\"M694.0514,-88.9777C688.7678,-80.187 683.0684,-70.7044 677.7452,-61.8477\"/>\n<polygon fill=\"#000000\" stroke=\"#000000\" points=\"680.7282,-60.0165 672.5768,-53.2485 674.7285,-63.6225 680.7282,-60.0165\"/>\n</g>\n<!-- 25 -->\n<g id=\"node26\" class=\"node\">\n<title>25</title>\n<polygon fill=\"#e58139\" stroke=\"#000000\" points=\"821,-53 722,-53 722,0 821,0 821,-53\"/>\n<text text-anchor=\"middle\" x=\"771.5\" y=\"-37.8\" font-family=\"Times,serif\" font-size=\"14.00\" fill=\"#000000\">samples = 4</text>\n<text text-anchor=\"middle\" x=\"771.5\" y=\"-22.8\" font-family=\"Times,serif\" font-size=\"14.00\" fill=\"#000000\">value = [4, 0]</text>\n<text text-anchor=\"middle\" x=\"771.5\" y=\"-7.8\" font-family=\"Times,serif\" font-size=\"14.00\" fill=\"#000000\">class = present</text>\n</g>\n<!-- 23&#45;&gt;25 -->\n<g id=\"edge25\" class=\"edge\">\n<title>23&#45;&gt;25</title>\n<path fill=\"none\" stroke=\"#000000\" d=\"M734.5961,-88.9777C739.7344,-80.2786 745.273,-70.9018 750.4575,-62.1247\"/>\n<polygon fill=\"#000000\" stroke=\"#000000\" points=\"753.6281,-63.6387 755.7004,-53.2485 747.601,-60.0786 753.6281,-63.6387\"/>\n</g>\n</g>\n</svg>\n"
          },
          "metadata": {
            "tags": []
          }
        }
      ]
    },
    {
      "cell_type": "code",
      "metadata": {
        "colab": {
          "base_uri": "https://localhost:8080/"
        },
        "id": "qYHQqeh_RfRS",
        "outputId": "417c5b90-5ae2-4e74-fedd-5f78f58dace2"
      },
      "source": [
        "print(\"Feature importances:\")\n",
        "print(tree.feature_importances_)"
      ],
      "execution_count": null,
      "outputs": [
        {
          "output_type": "stream",
          "text": [
            "Feature importances:\n",
            "[0.50363405 0.14211772 0.35424824]\n"
          ],
          "name": "stdout"
        }
      ]
    },
    {
      "cell_type": "code",
      "metadata": {
        "colab": {
          "base_uri": "https://localhost:8080/",
          "height": 279
        },
        "id": "seF1VYnfRpLx",
        "outputId": "273005a6-6025-42c8-e975-b2c04a44984d"
      },
      "source": [
        "def plot_feature_importances_decision_tree_classifier(model):\n",
        "    n_features = X_train.shape[1]\n",
        "    plt.barh(np.arange(n_features), model.feature_importances_, align='center')\n",
        "    plt.yticks(np.arange(n_features), X_train.columns)\n",
        "    plt.xlabel(\"Feature importance\")\n",
        "    plt.ylabel(\"Feature\")\n",
        "    plt.ylim(-1, n_features)\n",
        "\n",
        "plot_feature_importances_decision_tree_classifier(tree)"
      ],
      "execution_count": null,
      "outputs": [
        {
          "output_type": "display_data",
          "data": {
            "image/png": "[encoded data removed]",
            "text/plain": [
              "<Figure size 432x288 with 1 Axes>"
            ]
          },
          "metadata": {
            "tags": [],
            "needs_background": "light"
          }
        }
      ]
    },
    {
      "cell_type": "markdown",
      "metadata": {
        "id": "DaU0bzIpur3r"
      },
      "source": [
        "## Hyperparameters Tuning for Decision Tree Classifier"
      ]
    },
    {
      "cell_type": "code",
      "metadata": {
        "id": "w6C0C9Yiur3s"
      },
      "source": [
        "param_dict = {\n",
        "    \"criterion\": ['gini', 'entropy'],\n",
        "    \"splitter\": [\"best\", \"random\"],\n",
        "    \"max_depth\": [2,4,6,8,10,12],\n",
        "    \"min_samples_split\": range(2,10),\n",
        "    \"min_samples_leaf\": range(1,5),\n",
        "    \"max_features\": [\"auto\", \"sqrt\", \"log2\"],\n",
        "    \"random_state\": range(1,10)\n",
        "}"
      ],
      "execution_count": null,
      "outputs": []
    },
    {
      "cell_type": "code",
      "metadata": {
        "id": "50MUJ71zur3s",
        "colab": {
          "base_uri": "https://localhost:8080/"
        },
        "outputId": "610cd97d-b5ef-4bc1-9942-3dcc8b19fd8d"
      },
      "source": [
        "grid = GridSearchCV(tree, param_grid=param_dict, n_jobs=-1)\n",
        "grid.fit(X_train, y_train)"
      ],
      "execution_count": null,
      "outputs": [
        {
          "output_type": "execute_result",
          "data": {
            "text/plain": [
              "GridSearchCV(cv=None, error_score=nan,\n",
              "             estimator=DecisionTreeClassifier(ccp_alpha=0.0, class_weight=None,\n",
              "                                              criterion='gini', max_depth=None,\n",
              "                                              max_features=None,\n",
              "                                              max_leaf_nodes=None,\n",
              "                                              min_impurity_decrease=0.0,\n",
              "                                              min_impurity_split=None,\n",
              "                                              min_samples_leaf=1,\n",
              "                                              min_samples_split=2,\n",
              "                                              min_weight_fraction_leaf=0.0,\n",
              "                                              presort='deprecated',\n",
              "                                              random_state=0, splitter='best'),\n",
              "             iid='deprecated', n_jobs=-1,\n",
              "             param_grid={'criterion': ['gini', 'entropy'],\n",
              "                         'max_depth': [2, 4, 6, 8, 10, 12],\n",
              "                         'max_features': ['auto', 'sqrt', 'log2'],\n",
              "                         'min_samples_leaf': range(1, 5),\n",
              "                         'min_samples_split': range(2, 10),\n",
              "                         'random_state': range(1, 10),\n",
              "                         'splitter': ['best', 'random']},\n",
              "             pre_dispatch='2*n_jobs', refit=True, return_train_score=False,\n",
              "             scoring=None, verbose=0)"
            ]
          },
          "metadata": {
            "tags": []
          },
          "execution_count": 26
        }
      ]
    },
    {
      "cell_type": "code",
      "metadata": {
        "id": "jGHB-DHvur3s",
        "colab": {
          "base_uri": "https://localhost:8080/"
        },
        "outputId": "277a2f68-ce3f-4e76-85a5-781ffcf5fd27"
      },
      "source": [
        "grid.best_params_"
      ],
      "execution_count": null,
      "outputs": [
        {
          "output_type": "execute_result",
          "data": {
            "text/plain": [
              "{'criterion': 'gini',\n",
              " 'max_depth': 8,\n",
              " 'max_features': 'auto',\n",
              " 'min_samples_leaf': 1,\n",
              " 'min_samples_split': 6,\n",
              " 'random_state': 6,\n",
              " 'splitter': 'random'}"
            ]
          },
          "metadata": {
            "tags": []
          },
          "execution_count": 27
        }
      ]
    },
    {
      "cell_type": "code",
      "metadata": {
        "id": "Ib3bT87Lur3t",
        "colab": {
          "base_uri": "https://localhost:8080/"
        },
        "outputId": "57489d11-5029-40db-d946-5e318c843623"
      },
      "source": [
        "print(\"accuracy score for Decision Tree Classifier after hyperparameter tuning:\")\n",
        "print(grid.best_score_)"
      ],
      "execution_count": null,
      "outputs": [
        {
          "output_type": "stream",
          "text": [
            "accuracy score for Decision Tree Classifier after hyperparameter tuning:\n",
            "0.8833333333333334\n"
          ],
          "name": "stdout"
        }
      ]
    },
    {
      "cell_type": "code",
      "metadata": {
        "id": "sUvRqxSAur3t",
        "colab": {
          "base_uri": "https://localhost:8080/"
        },
        "outputId": "b6f2c028-f56f-4b3c-fc17-50f1428c6575"
      },
      "source": [
        "print(grid.best_estimator_)"
      ],
      "execution_count": null,
      "outputs": [
        {
          "output_type": "stream",
          "text": [
            "DecisionTreeClassifier(ccp_alpha=0.0, class_weight=None, criterion='gini',\n",
            "                       max_depth=8, max_features='auto', max_leaf_nodes=None,\n",
            "                       min_impurity_decrease=0.0, min_impurity_split=None,\n",
            "                       min_samples_leaf=1, min_samples_split=6,\n",
            "                       min_weight_fraction_leaf=0.0, presort='deprecated',\n",
            "                       random_state=6, splitter='random')\n"
          ],
          "name": "stdout"
        }
      ]
    },
    {
      "cell_type": "markdown",
      "metadata": {
        "id": "zFCTdWsEur3u"
      },
      "source": [
        "# Random Forest Classifier"
      ]
    },
    {
      "cell_type": "code",
      "metadata": {
        "id": "ESImPj1Wur3u",
        "colab": {
          "base_uri": "https://localhost:8080/"
        },
        "outputId": "60c67c83-a8f4-4575-bcf8-1cf44cf71530"
      },
      "source": [
        "forest = RandomForestClassifier()\n",
        "forest.fit(X_train, y_train)"
      ],
      "execution_count": null,
      "outputs": [
        {
          "output_type": "execute_result",
          "data": {
            "text/plain": [
              "RandomForestClassifier(bootstrap=True, ccp_alpha=0.0, class_weight=None,\n",
              "                       criterion='gini', max_depth=None, max_features='auto',\n",
              "                       max_leaf_nodes=None, max_samples=None,\n",
              "                       min_impurity_decrease=0.0, min_impurity_split=None,\n",
              "                       min_samples_leaf=1, min_samples_split=2,\n",
              "                       min_weight_fraction_leaf=0.0, n_estimators=100,\n",
              "                       n_jobs=None, oob_score=False, random_state=None,\n",
              "                       verbose=0, warm_start=False)"
            ]
          },
          "metadata": {
            "tags": []
          },
          "execution_count": 30
        }
      ]
    },
    {
      "cell_type": "code",
      "metadata": {
        "id": "Dq6xj0iUur3u",
        "colab": {
          "base_uri": "https://localhost:8080/"
        },
        "outputId": "6159c1e7-d591-4e82-8372-d9daeb533ae1"
      },
      "source": [
        "y_pred_forest = forest.predict(X_test)\n",
        "y_pred_forest"
      ],
      "execution_count": null,
      "outputs": [
        {
          "output_type": "execute_result",
          "data": {
            "text/plain": [
              "array([0, 0, 0, 0, 0, 0, 0, 1, 0, 0, 0, 0, 0, 0, 0, 0, 1, 0, 0, 0, 0])"
            ]
          },
          "metadata": {
            "tags": []
          },
          "execution_count": 31
        }
      ]
    },
    {
      "cell_type": "code",
      "metadata": {
        "id": "w5UlmXZfur3v",
        "colab": {
          "base_uri": "https://localhost:8080/"
        },
        "outputId": "1f6edd42-204c-4545-a059-300d6bb8bb6a"
      },
      "source": [
        "print(\"accuracy score for Random Forest Classifier:\")\n",
        "print(accuracy_score(y_test, y_pred_forest))"
      ],
      "execution_count": null,
      "outputs": [
        {
          "output_type": "stream",
          "text": [
            "accuracy score for Random Forest Classifier:\n",
            "0.8571428571428571\n"
          ],
          "name": "stdout"
        }
      ]
    },
    {
      "cell_type": "code",
      "metadata": {
        "id": "ADNJkYTwur3w",
        "colab": {
          "base_uri": "https://localhost:8080/"
        },
        "outputId": "d38e3c8b-084b-461a-c4ee-f17263e2d957"
      },
      "source": [
        "print(\"confusion matrix for Random Forest Classifier:\")\n",
        "print(confusion_matrix(y_test, y_pred_forest))"
      ],
      "execution_count": null,
      "outputs": [
        {
          "output_type": "stream",
          "text": [
            "confusion matrix for Random Forest Classifier:\n",
            "[[17  1]\n",
            " [ 2  1]]\n"
          ],
          "name": "stdout"
        }
      ]
    },
    {
      "cell_type": "code",
      "metadata": {
        "id": "0hoooG0Xur3w",
        "colab": {
          "base_uri": "https://localhost:8080/"
        },
        "outputId": "5ccd8bf1-4f78-44fc-9d28-2a6222c8fbbe"
      },
      "source": [
        "print(\"classification report for Random Forest Classifier:\")\n",
        "print(classification_report(y_test, y_pred_forest))"
      ],
      "execution_count": null,
      "outputs": [
        {
          "output_type": "stream",
          "text": [
            "classification report for Random Forest Classifier:\n",
            "              precision    recall  f1-score   support\n",
            "\n",
            "           0       0.89      0.94      0.92        18\n",
            "           1       0.50      0.33      0.40         3\n",
            "\n",
            "    accuracy                           0.86        21\n",
            "   macro avg       0.70      0.64      0.66        21\n",
            "weighted avg       0.84      0.86      0.84        21\n",
            "\n"
          ],
          "name": "stdout"
        }
      ]
    },
    {
      "cell_type": "code",
      "metadata": {
        "colab": {
          "base_uri": "https://localhost:8080/"
        },
        "id": "rSiKpzB8Ucr9",
        "outputId": "ca5b8250-6a6a-46e6-ee51-b7f50395960c"
      },
      "source": [
        "print(\"Feature importances:\")\n",
        "print(forest.feature_importances_)"
      ],
      "execution_count": null,
      "outputs": [
        {
          "output_type": "stream",
          "text": [
            "Feature importances:\n",
            "[0.36906152 0.22244636 0.40849212]\n"
          ],
          "name": "stdout"
        }
      ]
    },
    {
      "cell_type": "code",
      "metadata": {
        "colab": {
          "base_uri": "https://localhost:8080/",
          "height": 279
        },
        "id": "Fy8Pb45NUgAB",
        "outputId": "02850dbb-7344-4e1b-9519-525dc17ebfd8"
      },
      "source": [
        "plot_feature_importances_decision_tree_classifier(forest)"
      ],
      "execution_count": null,
      "outputs": [
        {
          "output_type": "display_data",
          "data": {
            "image/png": "[encoded data removed]",
            "text/plain": [
              "<Figure size 432x288 with 1 Axes>"
            ]
          },
          "metadata": {
            "tags": [],
            "needs_background": "light"
          }
        }
      ]
    },
    {
      "cell_type": "markdown",
      "metadata": {
        "id": "Vhk-tUkUpGNE"
      },
      "source": [
        "## Hyperparameters Tuning for Random Forest Classifier"
      ]
    },
    {
      "cell_type": "code",
      "metadata": {
        "id": "PMS0WBEwpTXJ"
      },
      "source": [
        "param_dict = {\n",
        "    \"bootstrap\": [True],\n",
        "    \"max_depth\": [2,4,6,8,10,12],\n",
        "    \"min_samples_split\": [8, 10, 12],\n",
        "    \"min_samples_leaf\": [3, 4, 5],\n",
        "    \"max_features\": [\"auto\", \"sqrt\", \"log2\"],\n",
        "    \"n_estimators\": [100, 200, 300, 1000]\n",
        "}"
      ],
      "execution_count": null,
      "outputs": []
    },
    {
      "cell_type": "code",
      "metadata": {
        "colab": {
          "base_uri": "https://localhost:8080/"
        },
        "id": "9z8tcJWnpoKf",
        "outputId": "4f5d2f9b-0972-46fe-f419-3af7c02212bf"
      },
      "source": [
        "grid_forest = GridSearchCV(forest, param_grid=param_dict, n_jobs=-1)\n",
        "grid_forest.fit(X_train, y_train)"
      ],
      "execution_count": null,
      "outputs": [
        {
          "output_type": "stream",
          "text": [
            "{'bootstrap': True, 'ccp_alpha': 0.0, 'class_weight': None, 'criterion': 'gini', 'max_depth': None, 'max_features': 'auto', 'max_leaf_nodes': None, 'max_samples': None, 'min_impurity_decrease': 0.0, 'min_impurity_split': None, 'min_samples_leaf': 1, 'min_samples_split': 2, 'min_weight_fraction_leaf': 0.0, 'n_estimators': 100, 'n_jobs': None, 'oob_score': False, 'random_state': None, 'verbose': 0, 'warm_start': False}\n"
          ],
          "name": "stdout"
        },
        {
          "output_type": "execute_result",
          "data": {
            "text/plain": [
              "GridSearchCV(cv=None, error_score=nan,\n",
              "             estimator=RandomForestClassifier(bootstrap=True, ccp_alpha=0.0,\n",
              "                                              class_weight=None,\n",
              "                                              criterion='gini', max_depth=None,\n",
              "                                              max_features='auto',\n",
              "                                              max_leaf_nodes=None,\n",
              "                                              max_samples=None,\n",
              "                                              min_impurity_decrease=0.0,\n",
              "                                              min_impurity_split=None,\n",
              "                                              min_samples_leaf=1,\n",
              "                                              min_samples_split=2,\n",
              "                                              min_weight_fraction_leaf=0.0,\n",
              "                                              n_estimators=100, n_jobs=None,\n",
              "                                              oob_score=False,\n",
              "                                              random_state=None, verbose=0,\n",
              "                                              warm_start=False),\n",
              "             iid='deprecated', n_jobs=-1,\n",
              "             param_grid={'bootstrap': [True], 'max_depth': [2, 4, 6, 8, 10, 12],\n",
              "                         'max_features': ['auto', 'sqrt', 'log2'],\n",
              "                         'min_samples_leaf': [3, 4, 5],\n",
              "                         'min_samples_split': [8, 10, 12],\n",
              "                         'n_estimators': [100, 200, 300, 1000]},\n",
              "             pre_dispatch='2*n_jobs', refit=True, return_train_score=False,\n",
              "             scoring=None, verbose=0)"
            ]
          },
          "metadata": {
            "tags": []
          },
          "execution_count": 42
        }
      ]
    },
    {
      "cell_type": "code",
      "metadata": {
        "colab": {
          "base_uri": "https://localhost:8080/"
        },
        "id": "4KO6ai21pr6a",
        "outputId": "96d6bebb-f190-41f9-bad3-ce55c834da41"
      },
      "source": [
        "grid_forest.best_params_"
      ],
      "execution_count": null,
      "outputs": [
        {
          "output_type": "execute_result",
          "data": {
            "text/plain": [
              "{'bootstrap': True,\n",
              " 'max_depth': 6,\n",
              " 'max_features': 'sqrt',\n",
              " 'min_samples_leaf': 4,\n",
              " 'min_samples_split': 10,\n",
              " 'n_estimators': 100}"
            ]
          },
          "metadata": {
            "tags": []
          },
          "execution_count": 43
        }
      ]
    },
    {
      "cell_type": "code",
      "metadata": {
        "colab": {
          "base_uri": "https://localhost:8080/"
        },
        "id": "NxPR13n3pxhU",
        "outputId": "dcfbcb74-5b72-423b-f62f-b1b71d4219a9"
      },
      "source": [
        "print(\"accuracy score for Random Forest Classifier after hyperparameter tuning:\")\n",
        "print(grid_forest.best_score_)"
      ],
      "execution_count": null,
      "outputs": [
        {
          "output_type": "stream",
          "text": [
            "accuracy score for Random Forest Classifier after hyperparameter tuning:\n",
            "0.85\n"
          ],
          "name": "stdout"
        }
      ]
    },
    {
      "cell_type": "code",
      "metadata": {
        "colab": {
          "base_uri": "https://localhost:8080/"
        },
        "id": "qCYD1PBCp1Km",
        "outputId": "94ab8b6c-dee2-4e1a-feeb-845300c98540"
      },
      "source": [
        "print(grid_forest.best_estimator_)"
      ],
      "execution_count": null,
      "outputs": [
        {
          "output_type": "stream",
          "text": [
            "RandomForestClassifier(bootstrap=True, ccp_alpha=0.0, class_weight=None,\n",
            "                       criterion='gini', max_depth=6, max_features='sqrt',\n",
            "                       max_leaf_nodes=None, max_samples=None,\n",
            "                       min_impurity_decrease=0.0, min_impurity_split=None,\n",
            "                       min_samples_leaf=4, min_samples_split=10,\n",
            "                       min_weight_fraction_leaf=0.0, n_estimators=100,\n",
            "                       n_jobs=None, oob_score=False, random_state=None,\n",
            "                       verbose=0, warm_start=False)\n"
          ],
          "name": "stdout"
        }
      ]
    },
    {
      "cell_type": "markdown",
      "metadata": {
        "id": "E-phkoXVVVOV"
      },
      "source": [
        "## Gradient Boosting Classifier"
      ]
    },
    {
      "cell_type": "code",
      "metadata": {
        "colab": {
          "base_uri": "https://localhost:8080/"
        },
        "id": "w1McslPWVGaL",
        "outputId": "8eb541e8-8c22-4372-e84d-5e5b50ada40c"
      },
      "source": [
        "gradboost = GradientBoostingClassifier()\n",
        "gradboost.fit(X_train, y_train)"
      ],
      "execution_count": null,
      "outputs": [
        {
          "output_type": "execute_result",
          "data": {
            "text/plain": [
              "GradientBoostingClassifier(ccp_alpha=0.0, criterion='friedman_mse', init=None,\n",
              "                           learning_rate=0.1, loss='deviance', max_depth=3,\n",
              "                           max_features=None, max_leaf_nodes=None,\n",
              "                           min_impurity_decrease=0.0, min_impurity_split=None,\n",
              "                           min_samples_leaf=1, min_samples_split=2,\n",
              "                           min_weight_fraction_leaf=0.0, n_estimators=100,\n",
              "                           n_iter_no_change=None, presort='deprecated',\n",
              "                           random_state=None, subsample=1.0, tol=0.0001,\n",
              "                           validation_fraction=0.1, verbose=0,\n",
              "                           warm_start=False)"
            ]
          },
          "metadata": {
            "tags": []
          },
          "execution_count": 46
        }
      ]
    },
    {
      "cell_type": "code",
      "metadata": {
        "colab": {
          "base_uri": "https://localhost:8080/"
        },
        "id": "EYdCYD_-V4Hb",
        "outputId": "e56770a1-2965-455a-f59f-efb915dfe64d"
      },
      "source": [
        "y_pred_gradboost = gradboost.predict(X_test)\n",
        "y_pred_gradboost"
      ],
      "execution_count": null,
      "outputs": [
        {
          "output_type": "execute_result",
          "data": {
            "text/plain": [
              "array([0, 0, 0, 0, 0, 0, 0, 1, 0, 0, 0, 0, 0, 0, 0, 0, 1, 0, 0, 0, 0])"
            ]
          },
          "metadata": {
            "tags": []
          },
          "execution_count": 47
        }
      ]
    },
    {
      "cell_type": "code",
      "metadata": {
        "colab": {
          "base_uri": "https://localhost:8080/"
        },
        "id": "LmyeV0XqWCIt",
        "outputId": "6236314c-41d1-4369-f3e0-aa28126e4615"
      },
      "source": [
        "print(\"accuracy score for Gradient Boosting Classifier:\")\n",
        "print(accuracy_score(y_test, y_pred_gradboost))"
      ],
      "execution_count": null,
      "outputs": [
        {
          "output_type": "stream",
          "text": [
            "accuracy score for Gradient Boosting Classifier:\n",
            "0.8571428571428571\n"
          ],
          "name": "stdout"
        }
      ]
    },
    {
      "cell_type": "code",
      "metadata": {
        "colab": {
          "base_uri": "https://localhost:8080/"
        },
        "id": "QangI98tWPqI",
        "outputId": "dab1a2c2-f09d-4597-b8d3-d30987b20861"
      },
      "source": [
        "print(\"confusion matrix for Random Forest Classifier:\")\n",
        "print(confusion_matrix(y_test, y_pred_gradboost))"
      ],
      "execution_count": null,
      "outputs": [
        {
          "output_type": "stream",
          "text": [
            "confusion matrix for Random Forest Classifier:\n",
            "[[17  1]\n",
            " [ 2  1]]\n"
          ],
          "name": "stdout"
        }
      ]
    },
    {
      "cell_type": "code",
      "metadata": {
        "colab": {
          "base_uri": "https://localhost:8080/"
        },
        "id": "kV9buxI3WXDb",
        "outputId": "6ebde511-16f6-4939-84f1-c5b1ed33e44c"
      },
      "source": [
        "print(\"classification report for Random Forest Classifier:\")\n",
        "print(classification_report(y_test, y_pred_gradboost))"
      ],
      "execution_count": null,
      "outputs": [
        {
          "output_type": "stream",
          "text": [
            "classification report for Random Forest Classifier:\n",
            "              precision    recall  f1-score   support\n",
            "\n",
            "           0       0.89      0.94      0.92        18\n",
            "           1       0.50      0.33      0.40         3\n",
            "\n",
            "    accuracy                           0.86        21\n",
            "   macro avg       0.70      0.64      0.66        21\n",
            "weighted avg       0.84      0.86      0.84        21\n",
            "\n"
          ],
          "name": "stdout"
        }
      ]
    },
    {
      "cell_type": "code",
      "metadata": {
        "colab": {
          "base_uri": "https://localhost:8080/"
        },
        "id": "73ecjfBEWdK1",
        "outputId": "5692b618-5ebf-4046-e65a-257e4f09e990"
      },
      "source": [
        "print(\"Feature importances:\")\n",
        "print(gradboost.feature_importances_)"
      ],
      "execution_count": null,
      "outputs": [
        {
          "output_type": "stream",
          "text": [
            "Feature importances:\n",
            "[0.39393462 0.18310775 0.42295762]\n"
          ],
          "name": "stdout"
        }
      ]
    },
    {
      "cell_type": "code",
      "metadata": {
        "colab": {
          "base_uri": "https://localhost:8080/",
          "height": 279
        },
        "id": "H_-YgL9jWnVX",
        "outputId": "c1cae11c-cadc-4650-e594-eb40c53bbfc9"
      },
      "source": [
        "plot_feature_importances_decision_tree_classifier(gradboost)"
      ],
      "execution_count": null,
      "outputs": [
        {
          "output_type": "display_data",
          "data": {
            "image/png": "[encoded data removed]",
            "text/plain": [
              "<Figure size 432x288 with 1 Axes>"
            ]
          },
          "metadata": {
            "tags": [],
            "needs_background": "light"
          }
        }
      ]
    },
    {
      "cell_type": "markdown",
      "metadata": {
        "id": "6DLUlnCKGHKy"
      },
      "source": [
        "## Hyperparameters Tuning for Gradient Boosting Classifier"
      ]
    },
    {
      "cell_type": "code",
      "metadata": {
        "id": "VjKuHTcHGDWK"
      },
      "source": [
        "param_dict = {\n",
        "    \"max_depth\": [2,4,6,8,10,12],\n",
        "    \"min_samples_split\": range(2,10),\n",
        "    \"min_samples_leaf\": range(1,5),\n",
        "    \"max_features\": [\"auto\", \"sqrt\", \"log2\"],\n",
        "    \"random_state\": range(1,10)\n",
        "}"
      ],
      "execution_count": null,
      "outputs": []
    },
    {
      "cell_type": "code",
      "metadata": {
        "colab": {
          "base_uri": "https://localhost:8080/"
        },
        "id": "S_PmoPtBGziC",
        "outputId": "f5cc30f1-83e3-4de0-9533-d2e6513b8f2c"
      },
      "source": [
        "print(gradboost.get_params())\n",
        "grid_gradboost = GridSearchCV(gradboost, param_grid=param_dict, n_jobs=-1)\n",
        "grid_gradboost.fit(X_train, y_train)"
      ],
      "execution_count": null,
      "outputs": [
        {
          "output_type": "stream",
          "text": [
            "{'ccp_alpha': 0.0, 'criterion': 'friedman_mse', 'init': None, 'learning_rate': 0.1, 'loss': 'deviance', 'max_depth': 3, 'max_features': None, 'max_leaf_nodes': None, 'min_impurity_decrease': 0.0, 'min_impurity_split': None, 'min_samples_leaf': 1, 'min_samples_split': 2, 'min_weight_fraction_leaf': 0.0, 'n_estimators': 100, 'n_iter_no_change': None, 'presort': 'deprecated', 'random_state': None, 'subsample': 1.0, 'tol': 0.0001, 'validation_fraction': 0.1, 'verbose': 0, 'warm_start': False}\n"
          ],
          "name": "stdout"
        },
        {
          "output_type": "execute_result",
          "data": {
            "text/plain": [
              "GridSearchCV(cv=None, error_score=nan,\n",
              "             estimator=GradientBoostingClassifier(ccp_alpha=0.0,\n",
              "                                                  criterion='friedman_mse',\n",
              "                                                  init=None, learning_rate=0.1,\n",
              "                                                  loss='deviance', max_depth=3,\n",
              "                                                  max_features=None,\n",
              "                                                  max_leaf_nodes=None,\n",
              "                                                  min_impurity_decrease=0.0,\n",
              "                                                  min_impurity_split=None,\n",
              "                                                  min_samples_leaf=1,\n",
              "                                                  min_samples_split=2,\n",
              "                                                  min_weight_fraction_leaf=0.0,\n",
              "                                                  n_estimators=100,\n",
              "                                                  n_iter_n...\n",
              "                                                  subsample=1.0, tol=0.0001,\n",
              "                                                  validation_fraction=0.1,\n",
              "                                                  verbose=0, warm_start=False),\n",
              "             iid='deprecated', n_jobs=-1,\n",
              "             param_grid={'max_depth': [2, 4, 6, 8, 10, 12],\n",
              "                         'max_features': ['auto', 'sqrt', 'log2'],\n",
              "                         'min_samples_leaf': range(1, 5),\n",
              "                         'min_samples_split': range(2, 10),\n",
              "                         'random_state': range(1, 10)},\n",
              "             pre_dispatch='2*n_jobs', refit=True, return_train_score=False,\n",
              "             scoring=None, verbose=0)"
            ]
          },
          "metadata": {
            "tags": []
          },
          "execution_count": 62
        }
      ]
    },
    {
      "cell_type": "code",
      "metadata": {
        "colab": {
          "base_uri": "https://localhost:8080/"
        },
        "id": "H1php0oEKHJ_",
        "outputId": "9a419dae-1e85-432d-e842-ad8b1c24ef9a"
      },
      "source": [
        "grid_gradboost.best_params_"
      ],
      "execution_count": null,
      "outputs": [
        {
          "output_type": "execute_result",
          "data": {
            "text/plain": [
              "{'max_depth': 8,\n",
              " 'max_features': 'sqrt',\n",
              " 'min_samples_leaf': 4,\n",
              " 'min_samples_split': 9,\n",
              " 'random_state': 6}"
            ]
          },
          "metadata": {
            "tags": []
          },
          "execution_count": 63
        }
      ]
    },
    {
      "cell_type": "code",
      "metadata": {
        "colab": {
          "base_uri": "https://localhost:8080/"
        },
        "id": "i_oL8RnBKKXh",
        "outputId": "5d28b627-d19d-43cd-ddfd-aae40b31ea9d"
      },
      "source": [
        "print(\"accuracy score for Gradient Boosting Classifier after hyperparameter tuning:\")\n",
        "print(grid_gradboost.best_score_)"
      ],
      "execution_count": null,
      "outputs": [
        {
          "output_type": "stream",
          "text": [
            "accuracy score for Gradient Boosting Classifier after hyperparameter tuning:\n",
            "0.8666666666666668\n"
          ],
          "name": "stdout"
        }
      ]
    },
    {
      "cell_type": "code",
      "metadata": {
        "colab": {
          "base_uri": "https://localhost:8080/"
        },
        "id": "kl5MV0CcKMip",
        "outputId": "9a1e54ef-c804-4f50-d86a-5d2e7512b931"
      },
      "source": [
        "print(grid_gradboost.best_estimator_)"
      ],
      "execution_count": null,
      "outputs": [
        {
          "output_type": "stream",
          "text": [
            "GradientBoostingClassifier(ccp_alpha=0.0, criterion='friedman_mse', init=None,\n",
            "                           learning_rate=0.1, loss='deviance', max_depth=8,\n",
            "                           max_features='sqrt', max_leaf_nodes=None,\n",
            "                           min_impurity_decrease=0.0, min_impurity_split=None,\n",
            "                           min_samples_leaf=4, min_samples_split=9,\n",
            "                           min_weight_fraction_leaf=0.0, n_estimators=100,\n",
            "                           n_iter_no_change=None, presort='deprecated',\n",
            "                           random_state=6, subsample=1.0, tol=0.0001,\n",
            "                           validation_fraction=0.1, verbose=0,\n",
            "                           warm_start=False)\n"
          ],
          "name": "stdout"
        }
      ]
    },
    {
      "cell_type": "markdown",
      "metadata": {
        "id": "KPMZuT2TTCps"
      },
      "source": [
        "## CONCLUSION"
      ]
    },
    {
      "cell_type": "markdown",
      "metadata": {
        "id": "TyKqFXq-dv-x"
      },
      "source": [
        "1. Probability of kyphosis presence is 0.25.\n",
        "2. Number feature is least important across all classifiers compared to Age and Start columns."
      ]
    }
  ]
}