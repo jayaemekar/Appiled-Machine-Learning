{
  "nbformat": 4,
  "nbformat_minor": 0,
  "metadata": {
    "colab": {
      "name": "JE_Final_Exam_CSCI-611.ipynb",
      "provenance": [],
      "collapsed_sections": [
        "cPMY6YAQx9uF",
        "OZWpGaRY2vO5",
        "qZFTLdF3A2w1",
        "_04mcZ9zJJw3",
        "Q1qO7-aM_TaL",
        "pjPE0-3U_wu2",
        "HcIjUMDlORAr",
        "YS9uHV0WRQB9",
        "6yRsu8WIU7UM",
        "CfJmh0iAZAyw",
        "4Lyj7owMZCLD",
        "51Uq8Fi4d9rt",
        "4jRhIYLeeYqb"
      ],
      "include_colab_link": true
    },
    "kernelspec": {
      "name": "python3",
      "display_name": "Python 3"
    },
    "language_info": {
      "name": "python"
    }
  },
  "cells": [
    {
      "cell_type": "markdown",
      "metadata": {
        "id": "view-in-github",
        "colab_type": "text"
      },
      "source": [
        "<a href=\"https://colab.research.google.com/github/jayaemekar/CSCI-611-AppiledMachineLearning/blob/main/JE_Final_Exam_CSCI_611.ipynb\" target=\"_parent\"><img src=\"https://colab.research.google.com/assets/colab-badge.svg\" alt=\"Open In Colab\"/></a>"
      ]
    },
    {
      "cell_type": "markdown",
      "metadata": {
        "id": "vAu2IMbI_5uL"
      },
      "source": [
        "# Name: Jayarani Emekar, CSCI-611 Date- 13 May 2021\n",
        "# Sources/guidance/assistance received - Python tutorials scipy-lectures, Muller book\n",
        "# Enviorment Developed and Tested: GOOGLE COLABORATORY (COLAB) \n"
      ]
    },
    {
      "cell_type": "markdown",
      "metadata": {
        "id": "M0EsfRImkzTv"
      },
      "source": [
        "#Import Libraries"
      ]
    },
    {
      "cell_type": "code",
      "metadata": {
        "id": "Q6dEJdMxk2JW"
      },
      "source": [
        "# linear algebra\n",
        "import numpy as np \n",
        "\n",
        "# data processing\n",
        "import pandas as pd \n",
        "\n",
        "# data visualization\n",
        "import seaborn as sns\n",
        "%matplotlib inline\n",
        "from matplotlib import pyplot as plt\n",
        "from matplotlib import style\n",
        "\n",
        "# data preprocessing\n",
        "from sklearn.preprocessing import LabelEncoder\n",
        "\n",
        "# Algorithms\n",
        "from sklearn.linear_model import LogisticRegression\n",
        "from sklearn.neural_network import MLPClassifier\n",
        "\n",
        "#Feature Scaling\n",
        "from sklearn.preprocessing import StandardScaler\n",
        "\n",
        "\n",
        "# Model evaluation\n",
        "from sklearn.model_selection import cross_val_score\n",
        "\n",
        "# Create a classification report and confusion matrix for the model.\n",
        "from sklearn.metrics import classification_report, confusion_matrix\n",
        "from sklearn.metrics import precision_score\n",
        "from sklearn.metrics import f1_score\n",
        "from sklearn.metrics import recall_score\n",
        "\n",
        "# Hyperparameter tuning\n",
        "from sklearn.model_selection import GridSearchCV\n",
        "from sklearn.model_selection import train_test_split\n",
        "from sklearn.model_selection import cross_val_score\n",
        "from sklearn.model_selection import cross_validate\n",
        "from sklearn.model_selection import KFold\n",
        "from sklearn.model_selection import LeaveOneOut\n",
        "from sklearn.model_selection import ShuffleSplit\n",
        "from sklearn.model_selection import GroupKFold\n",
        "from sklearn.datasets import make_blobs\n",
        "\n",
        "# Remove warnings\n",
        "import warnings\n",
        "warnings.filterwarnings('ignore')\n"
      ],
      "execution_count": 224,
      "outputs": []
    },
    {
      "cell_type": "markdown",
      "metadata": {
        "id": "S4UuDTZYkA9l"
      },
      "source": [
        "#SECTION 1 - DATA INTERPRETATION "
      ]
    },
    {
      "cell_type": "markdown",
      "metadata": {
        "id": "lo2QaCbWkefv"
      },
      "source": [
        "##1. DATASET DIMENSIONS & TYPES\n",
        "\n",
        "Load the Data\n"
      ]
    },
    {
      "cell_type": "code",
      "metadata": {
        "id": "pOiSSqoDkCdn"
      },
      "source": [
        "#Load the data\n",
        "titanic = pd.read_csv('/content/titanic_train_exam.csv')"
      ],
      "execution_count": 225,
      "outputs": []
    },
    {
      "cell_type": "markdown",
      "metadata": {
        "id": "N_In1meFngW8"
      },
      "source": [
        "a. How many exemplars are in the dataset?"
      ]
    },
    {
      "cell_type": "code",
      "metadata": {
        "id": "lwHmmIT8njJF",
        "colab": {
          "base_uri": "https://localhost:8080/"
        },
        "outputId": "fec9c6a4-2702-4830-e153-6167346fdf3d"
      },
      "source": [
        "#How many exemplars are in the dataset?\n",
        "print ('Exemplars in the dataset are ',len(titanic))"
      ],
      "execution_count": 226,
      "outputs": [
        {
          "output_type": "stream",
          "text": [
            "Exemplars in the dataset are  884\n"
          ],
          "name": "stdout"
        }
      ]
    },
    {
      "cell_type": "markdown",
      "metadata": {
        "id": "Jmx5ewq3n4IA"
      },
      "source": [
        "b. How many total features?"
      ]
    },
    {
      "cell_type": "code",
      "metadata": {
        "id": "X_4GZM2_n7iy",
        "colab": {
          "base_uri": "https://localhost:8080/"
        },
        "outputId": "38b1729d-21ef-4d69-f598-c2205b625d65"
      },
      "source": [
        "#How many total features?\n",
        "print ('Total features in the dataset are ',len(titanic.columns))"
      ],
      "execution_count": 227,
      "outputs": [
        {
          "output_type": "stream",
          "text": [
            "Total features in the dataset are  12\n"
          ],
          "name": "stdout"
        }
      ]
    },
    {
      "cell_type": "markdown",
      "metadata": {
        "id": "jQvCc_KMpQkr"
      },
      "source": [
        "c. List the unique data types? "
      ]
    },
    {
      "cell_type": "code",
      "metadata": {
        "id": "St7wg9wqpRfG",
        "colab": {
          "base_uri": "https://localhost:8080/"
        },
        "outputId": "98b9056e-c86b-4d7b-f38d-99a4db9a2cd5"
      },
      "source": [
        "#List the unique data types? \n",
        "print ('Total unique data types the dataset are \\n ',titanic.dtypes.unique)"
      ],
      "execution_count": 228,
      "outputs": [
        {
          "output_type": "stream",
          "text": [
            "Total unique data types the dataset are \n",
            "  <bound method Series.unique of PassengerId      int64\n",
            "Survived         int64\n",
            "Pclass           int64\n",
            "Name            object\n",
            "Sex             object\n",
            "Age            float64\n",
            "SibSp            int64\n",
            "Parch            int64\n",
            "Ticket          object\n",
            "Fare           float64\n",
            "Cabin           object\n",
            "Embarked        object\n",
            "dtype: object>\n"
          ],
          "name": "stdout"
        }
      ]
    },
    {
      "cell_type": "markdown",
      "metadata": {
        "id": "MgiPE9nVr2XO"
      },
      "source": [
        "##2. EXPLORE NULL VALUES\n"
      ]
    },
    {
      "cell_type": "markdown",
      "metadata": {
        "id": "0E5Wqr7csJI2"
      },
      "source": [
        "a. Display the first four exemplars in this dataset. Do you see any null values displayed?"
      ]
    },
    {
      "cell_type": "code",
      "metadata": {
        "id": "7bh3DF_TsKJL",
        "colab": {
          "base_uri": "https://localhost:8080/",
          "height": 173
        },
        "outputId": "3e2d8223-71ad-47f5-db68-d0060707af09"
      },
      "source": [
        "#Display the first four exemplars in this dataset. Do you see any null values displayed?\n",
        "titanic.head(4)"
      ],
      "execution_count": 229,
      "outputs": [
        {
          "output_type": "execute_result",
          "data": {
            "text/html": [
              "<div>\n",
              "<style scoped>\n",
              "    .dataframe tbody tr th:only-of-type {\n",
              "        vertical-align: middle;\n",
              "    }\n",
              "\n",
              "    .dataframe tbody tr th {\n",
              "        vertical-align: top;\n",
              "    }\n",
              "\n",
              "    .dataframe thead th {\n",
              "        text-align: right;\n",
              "    }\n",
              "</style>\n",
              "<table border=\"1\" class=\"dataframe\">\n",
              "  <thead>\n",
              "    <tr style=\"text-align: right;\">\n",
              "      <th></th>\n",
              "      <th>PassengerId</th>\n",
              "      <th>Survived</th>\n",
              "      <th>Pclass</th>\n",
              "      <th>Name</th>\n",
              "      <th>Sex</th>\n",
              "      <th>Age</th>\n",
              "      <th>SibSp</th>\n",
              "      <th>Parch</th>\n",
              "      <th>Ticket</th>\n",
              "      <th>Fare</th>\n",
              "      <th>Cabin</th>\n",
              "      <th>Embarked</th>\n",
              "    </tr>\n",
              "  </thead>\n",
              "  <tbody>\n",
              "    <tr>\n",
              "      <th>0</th>\n",
              "      <td>302</td>\n",
              "      <td>1</td>\n",
              "      <td>3</td>\n",
              "      <td>McCoy, Mr. Bernard</td>\n",
              "      <td>male</td>\n",
              "      <td>NaN</td>\n",
              "      <td>2</td>\n",
              "      <td>0</td>\n",
              "      <td>367226</td>\n",
              "      <td>23.25</td>\n",
              "      <td>NaN</td>\n",
              "      <td>Q</td>\n",
              "    </tr>\n",
              "    <tr>\n",
              "      <th>1</th>\n",
              "      <td>829</td>\n",
              "      <td>1</td>\n",
              "      <td>3</td>\n",
              "      <td>McCormack, Mr. Thomas Joseph</td>\n",
              "      <td>male</td>\n",
              "      <td>NaN</td>\n",
              "      <td>0</td>\n",
              "      <td>0</td>\n",
              "      <td>367228</td>\n",
              "      <td>7.75</td>\n",
              "      <td>NaN</td>\n",
              "      <td>Q</td>\n",
              "    </tr>\n",
              "    <tr>\n",
              "      <th>2</th>\n",
              "      <td>215</td>\n",
              "      <td>0</td>\n",
              "      <td>3</td>\n",
              "      <td>Kiernan, Mr. Philip</td>\n",
              "      <td>male</td>\n",
              "      <td>NaN</td>\n",
              "      <td>1</td>\n",
              "      <td>0</td>\n",
              "      <td>367229</td>\n",
              "      <td>7.75</td>\n",
              "      <td>NaN</td>\n",
              "      <td>Q</td>\n",
              "    </tr>\n",
              "    <tr>\n",
              "      <th>3</th>\n",
              "      <td>242</td>\n",
              "      <td>1</td>\n",
              "      <td>3</td>\n",
              "      <td>Murphy, Miss. Katherine \"Kate\"</td>\n",
              "      <td>female</td>\n",
              "      <td>NaN</td>\n",
              "      <td>1</td>\n",
              "      <td>0</td>\n",
              "      <td>367230</td>\n",
              "      <td>15.50</td>\n",
              "      <td>NaN</td>\n",
              "      <td>Q</td>\n",
              "    </tr>\n",
              "  </tbody>\n",
              "</table>\n",
              "</div>"
            ],
            "text/plain": [
              "   PassengerId  Survived  Pclass  ...   Fare Cabin  Embarked\n",
              "0          302         1       3  ...  23.25   NaN         Q\n",
              "1          829         1       3  ...   7.75   NaN         Q\n",
              "2          215         0       3  ...   7.75   NaN         Q\n",
              "3          242         1       3  ...  15.50   NaN         Q\n",
              "\n",
              "[4 rows x 12 columns]"
            ]
          },
          "metadata": {
            "tags": []
          },
          "execution_count": 229
        }
      ]
    },
    {
      "cell_type": "markdown",
      "metadata": {
        "id": "5eserIFqsQWT"
      },
      "source": [
        "Yes , we can see null values in below columns:\n",
        "1. Age \n",
        "2. Cabin\n",
        "\n",
        "\n"
      ]
    },
    {
      "cell_type": "markdown",
      "metadata": {
        "id": "kNWKtJJ-sdRL"
      },
      "source": [
        "b. Visualize the null features using a graph of your choice. Which features stand out?"
      ]
    },
    {
      "cell_type": "markdown",
      "metadata": {
        "id": "uNDnDdGP_8Kq"
      },
      "source": [
        "Age plot for null values"
      ]
    },
    {
      "cell_type": "code",
      "metadata": {
        "colab": {
          "base_uri": "https://localhost:8080/",
          "height": 591
        },
        "id": "3SAMwV3w_17N",
        "outputId": "ac3ea264-680b-47df-af77-812a6746c1a6"
      },
      "source": [
        "#Plot the Cabin column\n",
        "print('Age Null values',titanic.Age.isnull().sum())\n",
        "print('Age Not Null values',titanic.Age.notnull().sum())\n",
        "\n",
        "# count plot on single categorical variable\n",
        "sns.countplot(x ='Age', data = titanic)\n",
        " \n",
        "# Show the plot\n",
        "plt.show()     \n",
        "\n",
        "left = [1, 2]\n",
        "  \n",
        "# heights of bars\n",
        "height = [titanic.Age.isnull().sum(), titanic.Age.notnull().sum()]\n",
        "  \n",
        "# labels for bars\n",
        "tick_label = ['Null values', 'Not null values']\n",
        "  \n",
        "# plotting a bar chart\n",
        "plt.bar(left, height, tick_label = tick_label)\n",
        "  \n",
        "plt.xlabel('Age values')\n",
        "plt.ylabel('Null/not null values')\n",
        "plt.title('Age Values --> Null values Vs Not Null values comparison')\n",
        "  \n",
        "# function to show the plot\n",
        "plt.show()"
      ],
      "execution_count": 230,
      "outputs": [
        {
          "output_type": "stream",
          "text": [
            "Age Null values 175\n",
            "Age Not Null values 709\n"
          ],
          "name": "stdout"
        },
        {
          "output_type": "display_data",
          "data": {
            "image/png": "[encoded data removed]",
            "text/plain": [
              "<Figure size 432x288 with 1 Axes>"
            ]
          },
          "metadata": {
            "tags": [],
            "needs_background": "light"
          }
        },
        {
          "output_type": "display_data",
          "data": {
            "image/png": "[encoded data removed]",
            "text/plain": [
              "<Figure size 432x288 with 1 Axes>"
            ]
          },
          "metadata": {
            "tags": [],
            "needs_background": "light"
          }
        }
      ]
    },
    {
      "cell_type": "markdown",
      "metadata": {
        "id": "BgPR4SBCAKnx"
      },
      "source": [
        "Plot for null values of cabin"
      ]
    },
    {
      "cell_type": "code",
      "metadata": {
        "id": "-7DFqPiFseGP",
        "colab": {
          "base_uri": "https://localhost:8080/",
          "height": 608
        },
        "outputId": "b75398da-5fea-4d4a-cea0-676317921ec2"
      },
      "source": [
        "#Visualize the null features using a graph of your choice. Which features stand out?\n",
        "\n",
        "#Plot the Cabin column\n",
        "titanic[\"Cabin\"]=titanic.Cabin.str[0]\n",
        "titanic[\"Cabin\"].unique() # 0 is for null values\n",
        "\n",
        "# count plot on single categorical variable\n",
        "sns.countplot(x ='Cabin', data = titanic)\n",
        " \n",
        "# Show the plot\n",
        "plt.show()     \n",
        "\n",
        "print(titanic['Cabin'].isnull().sum())\n",
        "print(titanic['Cabin'].notnull().sum())\n",
        "\n",
        "left = [1, 2]\n",
        "  \n",
        "# heights of bars\n",
        "height = [titanic['Cabin'].isnull().sum(), titanic['Cabin'].notnull().sum()]\n",
        "  \n",
        "# labels for bars\n",
        "tick_label = ['Null values', 'Not null values']\n",
        "  \n",
        "# plotting a bar chart\n",
        "plt.bar(left, height, tick_label = tick_label)\n",
        "  \n",
        "plt.xlabel('Cabin values')\n",
        "plt.ylabel('Null/not null values')\n",
        "plt.title('Cabin Values --> Null values Vs Not Null values comparison')\n",
        "  \n",
        "# function to show the plot\n",
        "plt.show()\n",
        "\n",
        "print('Cabin feature has most number of null values ')"
      ],
      "execution_count": 231,
      "outputs": [
        {
          "output_type": "display_data",
          "data": {
            "image/png": "[encoded data removed]",
            "text/plain": [
              "<Figure size 432x288 with 1 Axes>"
            ]
          },
          "metadata": {
            "tags": [],
            "needs_background": "light"
          }
        },
        {
          "output_type": "stream",
          "text": [
            "682\n",
            "202\n"
          ],
          "name": "stdout"
        },
        {
          "output_type": "display_data",
          "data": {
            "image/png": "[encoded data removed]",
            "text/plain": [
              "<Figure size 432x288 with 1 Axes>"
            ]
          },
          "metadata": {
            "tags": [],
            "needs_background": "light"
          }
        },
        {
          "output_type": "stream",
          "text": [
            "Cabin feature has most number of null values \n"
          ],
          "name": "stdout"
        }
      ]
    },
    {
      "cell_type": "markdown",
      "metadata": {
        "id": "iMq_vnG0vLiQ"
      },
      "source": [
        "\n",
        "Looking at the null values plot of feature Age and Cabin,\n",
        "\n",
        "Cabin has more null values than age.\n",
        "Age feature stands out in this case as it has less null values than cabin"
      ]
    },
    {
      "cell_type": "markdown",
      "metadata": {
        "id": "gHbaq70_vI-C"
      },
      "source": [
        "For the feature with the greatest number of nulls, how many rows are affected? "
      ]
    },
    {
      "cell_type": "code",
      "metadata": {
        "id": "UWIdFbibvX5A",
        "colab": {
          "base_uri": "https://localhost:8080/"
        },
        "outputId": "0a8999c0-8da7-4154-fc65-ede022a6bb91"
      },
      "source": [
        "#Below are the missing values \n",
        "titanic.isnull().sum()"
      ],
      "execution_count": 232,
      "outputs": [
        {
          "output_type": "execute_result",
          "data": {
            "text/plain": [
              "PassengerId      0\n",
              "Survived         0\n",
              "Pclass           0\n",
              "Name             0\n",
              "Sex              0\n",
              "Age            175\n",
              "SibSp            0\n",
              "Parch            0\n",
              "Ticket           0\n",
              "Fare             0\n",
              "Cabin          682\n",
              "Embarked         2\n",
              "dtype: int64"
            ]
          },
          "metadata": {
            "tags": []
          },
          "execution_count": 232
        }
      ]
    },
    {
      "cell_type": "code",
      "metadata": {
        "id": "RiJuvIfVvmWI",
        "colab": {
          "base_uri": "https://localhost:8080/"
        },
        "outputId": "094e36c6-7093-4e8a-f9ca-115c1862489e"
      },
      "source": [
        "print('Cabin feature is having highest number of null values = 682')\n"
      ],
      "execution_count": 233,
      "outputs": [
        {
          "output_type": "stream",
          "text": [
            "Cabin feature is having highest number of null values = 682\n"
          ],
          "name": "stdout"
        }
      ]
    },
    {
      "cell_type": "markdown",
      "metadata": {
        "id": "g04nCQnavl5y"
      },
      "source": [
        "Which Passenger Class has the greatest number of null valued cabins?"
      ]
    },
    {
      "cell_type": "code",
      "metadata": {
        "id": "3YEl4baQvtqy",
        "colab": {
          "base_uri": "https://localhost:8080/",
          "height": 570
        },
        "outputId": "847ea51e-8a73-477d-96b9-924d10a88ea2"
      },
      "source": [
        "print(titanic[titanic['Cabin'].isnull()].groupby('Pclass').count())\n",
        "print(\"\\n Passenger class with greatest number of null values cabins --> 3 (class 3)\\n\")\n",
        "sns.factorplot('Cabin', col = 'Pclass', data = titanic, kind = 'count')"
      ],
      "execution_count": 234,
      "outputs": [
        {
          "output_type": "stream",
          "text": [
            "        PassengerId  Survived  Name  Sex  ...  Ticket  Fare  Cabin  Embarked\n",
            "Pclass                                    ...                               \n",
            "1                40        40    40   40  ...      40    40      0        40\n",
            "2               166       166   166  166  ...     166   166      0       166\n",
            "3               476       476   476  476  ...     476   476      0       476\n",
            "\n",
            "[3 rows x 11 columns]\n",
            "\n",
            " Passenger class with greatest number of null values cabins --> 3 (class 3)\n",
            "\n"
          ],
          "name": "stdout"
        },
        {
          "output_type": "execute_result",
          "data": {
            "text/plain": [
              "<seaborn.axisgrid.FacetGrid at 0x7f2220b5cc10>"
            ]
          },
          "metadata": {
            "tags": []
          },
          "execution_count": 234
        },
        {
          "output_type": "display_data",
          "data": {
            "image/png": "[encoded data removed]",
            "text/plain": [
              "<Figure size 1080x360 with 3 Axes>"
            ]
          },
          "metadata": {
            "tags": [],
            "needs_background": "light"
          }
        }
      ]
    },
    {
      "cell_type": "markdown",
      "metadata": {
        "id": "cPMY6YAQx9uF"
      },
      "source": [
        "##TARGET CLASS - Survived\n",
        "\n",
        "a. How many Survivors are in the dataset? Non-survivors? \n"
      ]
    },
    {
      "cell_type": "code",
      "metadata": {
        "id": "do7JZOFKzrjB",
        "colab": {
          "base_uri": "https://localhost:8080/"
        },
        "outputId": "50e87a5b-9dd4-4446-c783-229c3f7e0d44"
      },
      "source": [
        "print('Survivors in the dataset ', len(titanic[titanic['Survived'] ==1]))\n",
        "print('Non survivors in the dataset ', len(titanic[titanic['Survived'] == 0]))\n"
      ],
      "execution_count": 235,
      "outputs": [
        {
          "output_type": "stream",
          "text": [
            "Survivors in the dataset  339\n",
            "Non survivors in the dataset  545\n"
          ],
          "name": "stdout"
        }
      ]
    },
    {
      "cell_type": "markdown",
      "metadata": {
        "id": "F8iBHkpf08ol"
      },
      "source": [
        "b. Compare the number of survivors to non-survivors in a labeled graph. "
      ]
    },
    {
      "cell_type": "code",
      "metadata": {
        "id": "poWpVTHsyKaq",
        "colab": {
          "base_uri": "https://localhost:8080/",
          "height": 297
        },
        "outputId": "47f83edd-5033-44a6-970e-1c088f07fd8f"
      },
      "source": [
        "# count plot on single categorical variable\n",
        "sns.countplot(x ='Survived', data = titanic)\n",
        "# Show the plot\n",
        "plt.title('Number of survivors and non-survivors',fontsize=15)\n",
        "plt.show()"
      ],
      "execution_count": 236,
      "outputs": [
        {
          "output_type": "display_data",
          "data": {
            "image/png": "[encoded data removed]",
            "text/plain": [
              "<Figure size 432x288 with 1 Axes>"
            ]
          },
          "metadata": {
            "tags": [],
            "needs_background": "light"
          }
        }
      ]
    },
    {
      "cell_type": "markdown",
      "metadata": {
        "id": "6K-W6exU0-Vq"
      },
      "source": [
        "c. Expand the graph to include survivor information by gender"
      ]
    },
    {
      "cell_type": "code",
      "metadata": {
        "id": "snZhOvS81CjP",
        "colab": {
          "base_uri": "https://localhost:8080/",
          "height": 314
        },
        "outputId": "972f9cd4-e5a6-4022-b6f9-678ab18382db"
      },
      "source": [
        "# Survival by gender \n",
        "sns.countplot(x ='Survived',hue = 'Sex', data = titanic)\n",
        "plt.ylabel('Survival Probability')\n",
        "plt.title('Survival Probability by Gender',fontsize=15)"
      ],
      "execution_count": 237,
      "outputs": [
        {
          "output_type": "execute_result",
          "data": {
            "text/plain": [
              "Text(0.5, 1.0, 'Survival Probability by Gender')"
            ]
          },
          "metadata": {
            "tags": []
          },
          "execution_count": 237
        },
        {
          "output_type": "display_data",
          "data": {
            "image/png": "[encoded data removed]",
            "text/plain": [
              "<Figure size 432x288 with 1 Axes>"
            ]
          },
          "metadata": {
            "tags": [],
            "needs_background": "light"
          }
        }
      ]
    },
    {
      "cell_type": "markdown",
      "metadata": {
        "id": "pD7C0BSz1zyQ"
      },
      "source": [
        "d. Expand the graph to include survivor information by Passenger class."
      ]
    },
    {
      "cell_type": "code",
      "metadata": {
        "id": "Sl0vXPF110-f",
        "colab": {
          "base_uri": "https://localhost:8080/",
          "height": 314
        },
        "outputId": "242c06ef-cab7-420b-b262-9d642528b8f3"
      },
      "source": [
        "# Survival by Pclass \n",
        "sns.countplot(x ='Survived',hue = 'Pclass', data = titanic)\n",
        "plt.ylabel('Survival Probability')\n",
        "plt.title('Survival Probability by Passenger Class',fontsize=15)"
      ],
      "execution_count": 238,
      "outputs": [
        {
          "output_type": "execute_result",
          "data": {
            "text/plain": [
              "Text(0.5, 1.0, 'Survival Probability by Passenger Class')"
            ]
          },
          "metadata": {
            "tags": []
          },
          "execution_count": 238
        },
        {
          "output_type": "display_data",
          "data": {
            "image/png": "[encoded data removed]",
            "text/plain": [
              "<Figure size 432x288 with 1 Axes>"
            ]
          },
          "metadata": {
            "tags": [],
            "needs_background": "light"
          }
        }
      ]
    },
    {
      "cell_type": "markdown",
      "metadata": {
        "id": "BQisbAYeJcmm"
      },
      "source": [
        "e Do these graphs provide a general picture of survival by gender or Pclass, if so, what?"
      ]
    },
    {
      "cell_type": "code",
      "metadata": {
        "id": "TmRpi_m32FfF",
        "colab": {
          "base_uri": "https://localhost:8080/",
          "height": 418
        },
        "outputId": "c3020bfa-c723-40e4-d5da-3d707b147b96"
      },
      "source": [
        "# Survival by gender and passenger class\n",
        "graph = sns.factorplot(x = 'Pclass', y = 'Survived',kind = 'bar',hue = 'Sex', data = titanic)\n",
        "graph.despine(left = True)\n",
        "plt.ylabel('Survival Probability')\n",
        "plt.title('Survival Probability by Gender and Passenger Class',fontsize=15)"
      ],
      "execution_count": 239,
      "outputs": [
        {
          "output_type": "execute_result",
          "data": {
            "text/plain": [
              "Text(0.5, 1.0, 'Survival Probability by Gender and Passenger Class')"
            ]
          },
          "metadata": {
            "tags": []
          },
          "execution_count": 239
        },
        {
          "output_type": "display_data",
          "data": {
            "image/png": "[encoded data removed]",
            "text/plain": [
              "<Figure size 430.5x360 with 1 Axes>"
            ]
          },
          "metadata": {
            "tags": [],
            "needs_background": "light"
          }
        }
      ]
    },
    {
      "cell_type": "markdown",
      "metadata": {
        "id": "Jh9TvFOZ2NnN"
      },
      "source": [
        "**Do these graphs provide a general picture of survival by gender or Pclass, if so, what?**\n",
        "\n",
        "\n",
        "\n"
      ]
    },
    {
      "cell_type": "markdown",
      "metadata": {
        "id": "H8qNX84h2QHv"
      },
      "source": [
        "Yes. these graphs provide a general picture of survival by gender or Pclass\n",
        "\n",
        "1. Pclass is contributing to a persons chance of survival, especially if this person is in class 1\n",
        "2. Gender survival rate for female is more.\n",
        "\n",
        "Combine both of these things survival rate for females in the first class is highest"
      ]
    },
    {
      "cell_type": "markdown",
      "metadata": {
        "id": "OZWpGaRY2vO5"
      },
      "source": [
        "## DISTRIBUTIONS"
      ]
    },
    {
      "cell_type": "markdown",
      "metadata": {
        "id": "io37Xhbr3ANX"
      },
      "source": [
        "a. Create a visual to graph the Age distribution."
      ]
    },
    {
      "cell_type": "code",
      "metadata": {
        "colab": {
          "base_uri": "https://localhost:8080/",
          "height": 297
        },
        "id": "DylbxJzHDcI0",
        "outputId": "d8e4f053-c890-4d4f-8b90-893cae2926a3"
      },
      "source": [
        "#Create a visual to graph the Age distribution.\n",
        "sns.set_style(\"whitegrid\")\n",
        "sns.distplot(titanic[\"Age\"].dropna(),\n",
        "                 bins=80,\n",
        "                 kde=False,\n",
        "                 color=\"blue\")\n",
        "plt.title(\"Age Distribution\",fontsize=15)\n",
        "plt.ylabel(\"Count\");\n"
      ],
      "execution_count": 240,
      "outputs": [
        {
          "output_type": "display_data",
          "data": {
            "image/png": "[encoded data removed]",
            "text/plain": [
              "<Figure size 432x288 with 1 Axes>"
            ]
          },
          "metadata": {
            "tags": []
          }
        }
      ]
    },
    {
      "cell_type": "markdown",
      "metadata": {
        "id": "8OOe4yhK56sP"
      },
      "source": [
        "b. What is the min?  max?  mean?  and mode age?"
      ]
    },
    {
      "cell_type": "code",
      "metadata": {
        "id": "o5T1LJqD58IN",
        "colab": {
          "base_uri": "https://localhost:8080/"
        },
        "outputId": "8eeb5f17-cb5e-4f0d-8af0-51a567fa01c3"
      },
      "source": [
        "# using groupby function with aggregation\n",
        "# to get mean, min and max values\n",
        "result = titanic.agg({'Age': ['mean', 'min', 'max']}) \n",
        "print(\"Mean, min, and max values of Age\")\n",
        "print(result)\n",
        "print('Mode Value : ',titanic.Age.mode())"
      ],
      "execution_count": 241,
      "outputs": [
        {
          "output_type": "stream",
          "text": [
            "Mean, min, and max values of Age\n",
            "            Age\n",
            "mean  29.627884\n",
            "min    0.420000\n",
            "max   80.000000\n"
          ],
          "name": "stdout"
        }
      ]
    },
    {
      "cell_type": "markdown",
      "metadata": {
        "id": "mhGmhPSBEj-3"
      },
      "source": [
        "Below are the values of Mean, min, and max values of Age\n",
        "\n",
        "1. Mean  29.627884\n",
        "2. min    0.420000\n",
        "3. max   80.000000"
      ]
    },
    {
      "cell_type": "markdown",
      "metadata": {
        "id": "Rt0BcB2J7CWa"
      },
      "source": [
        "c. Use a labeled graph of your choice to show the distribution of Fares."
      ]
    },
    {
      "cell_type": "code",
      "metadata": {
        "id": "CQTnxGif7Dar",
        "colab": {
          "base_uri": "https://localhost:8080/",
          "height": 297
        },
        "outputId": "0650a28b-f661-46c0-c8c6-19b9233e8de2"
      },
      "source": [
        "#Use a labeled graph of your choice to show the distribution of Fares.\n",
        "#Create a visual to graph the Fare distribution.\n",
        "sns.set_style(\"whitegrid\")\n",
        "sns.distplot(titanic[\"Fare\"].dropna(),\n",
        "                 bins=80,\n",
        "                 kde=False,\n",
        "                 color=\"blue\")\n",
        "plt.title(\"Fare Distribution\",fontsize=15)\n",
        "plt.ylabel(\"Count\");"
      ],
      "execution_count": 242,
      "outputs": [
        {
          "output_type": "display_data",
          "data": {
            "image/png": "[encoded data removed]",
            "text/plain": [
              "<Figure size 432x288 with 1 Axes>"
            ]
          },
          "metadata": {
            "tags": []
          }
        }
      ]
    },
    {
      "cell_type": "markdown",
      "metadata": {
        "id": "iUbFXEGu8Khh"
      },
      "source": [
        "d. Describe the full range of statistics for Fares."
      ]
    },
    {
      "cell_type": "code",
      "metadata": {
        "colab": {
          "base_uri": "https://localhost:8080/"
        },
        "id": "DEfsqFcJFKis",
        "outputId": "f8716374-a569-41e1-c051-100d150d4bc6"
      },
      "source": [
        "# using groupby function with aggregation\n",
        "# to get mean, min and max values\n",
        "result = titanic.agg({'Fare': ['mean', 'min', 'max']}) \n",
        "print(\"Mean, min, and max values of Fare\")\n",
        "print(result)\n",
        "print('Mode Value : ',titanic.Fare.mode())"
      ],
      "execution_count": 243,
      "outputs": [
        {
          "output_type": "stream",
          "text": [
            "Mean, min, and max values of Fare\n",
            "            Fare\n",
            "mean   32.057013\n",
            "min     0.000000\n",
            "max   512.329200\n"
          ],
          "name": "stdout"
        }
      ]
    },
    {
      "cell_type": "markdown",
      "metadata": {
        "id": "OIu8YoRSFSmX"
      },
      "source": [
        "Mean, min, and max values of Fare\n",
        "\n",
        "1. mean   32.057013\n",
        "2. min     0.000000\n",
        "3. max   512.329200"
      ]
    },
    {
      "cell_type": "markdown",
      "metadata": {
        "id": "B60JzFcCsgCL"
      },
      "source": [
        "Both of the continuous features (Age and Fare) have good split points and spikes.\n",
        "\n",
        "1. Distribution of Age feature clearly shows that children younger than 15 has a higher survival rate than any of the other age groups\n",
        "2. In distribution of Fare feature, the survival rate is higher on distribution tails. The distribution also has positive skew because of the extremely large outliers"
      ]
    },
    {
      "cell_type": "code",
      "metadata": {
        "colab": {
          "base_uri": "https://localhost:8080/",
          "height": 581
        },
        "id": "PMyKHRLMsegR",
        "outputId": "8a72eca1-5d63-4dff-f15a-82347fd57f48"
      },
      "source": [
        "\n",
        "cont_features = ['Age', 'Fare']\n",
        "surv = titanic['Survived'] == 1\n",
        "\n",
        "fig, axs = plt.subplots(ncols=2, nrows=2, figsize=(15, 15))\n",
        "plt.subplots_adjust(right=1.5)\n",
        "\n",
        "for i, feature in enumerate(cont_features):    \n",
        "    # Distribution of survival in feature\n",
        "    sns.distplot(titanic[~surv][feature], label='Not Survived', hist=True, color='#e74c3c', ax=axs[0][i])\n",
        "    sns.distplot(titanic[surv][feature], label='Survived', hist=True, color='#2ecc71', ax=axs[0][i])\n",
        "    \n",
        "      # Distribution of feature in dataset\n",
        "    sns.distplot(titanic[feature], hist=False, color='#e74c3c', ax=axs[1][i])\n",
        "    sns.distplot(titanic[feature], hist=False, color='#2ecc71', ax=axs[1][i])\n",
        "    \n",
        "\n",
        "    axs[0][i].set_xlabel('')\n",
        "    axs[1][i].set_xlabel('')\n",
        "    \n",
        "    for j in range(2):        \n",
        "        axs[i][j].tick_params(axis='x', labelsize=20)\n",
        "        axs[i][j].tick_params(axis='y', labelsize=20)\n",
        "    \n",
        "    axs[0][i].legend(loc='upper right', prop={'size': 20})\n",
        "    axs[1][i].legend(loc='upper right', prop={'size': 20})\n",
        "    axs[0][i].set_title('Distribution of Survival in {}'.format(feature), size=20, y=1.05)\n",
        "\n",
        "axs[1][0].set_title('Distribution of {} Feature'.format('Age'), size=20, y=1.05)\n",
        "axs[1][1].set_title('Distribution of {} Feature'.format('Fare'), size=20, y=1.05)\n",
        "        \n",
        "plt.show()"
      ],
      "execution_count": 244,
      "outputs": [
        {
          "output_type": "stream",
          "text": [
            "No handles with labels found to put in legend.\n",
            "No handles with labels found to put in legend.\n"
          ],
          "name": "stderr"
        },
        {
          "output_type": "display_data",
          "data": {
            "image/png": "[encoded data removed]",
            "text/plain": [
              "<Figure size 1080x1080 with 4 Axes>"
            ]
          },
          "metadata": {
            "tags": []
          }
        }
      ]
    },
    {
      "cell_type": "markdown",
      "metadata": {
        "id": "oJgMVn9uA1iN"
      },
      "source": [
        "#SECTION 2 – PREPROCESSING the DATA"
      ]
    },
    {
      "cell_type": "markdown",
      "metadata": {
        "id": "qZFTLdF3A2w1"
      },
      "source": [
        "##NULL VALUES\n"
      ]
    },
    {
      "cell_type": "markdown",
      "metadata": {
        "id": "G_D-GZD5A9Qq"
      },
      "source": [
        "a. For any feature with > 50% null values, drop the feature from the dataset. What, if any,\n",
        "feature(s) did you drop? \n"
      ]
    },
    {
      "cell_type": "code",
      "metadata": {
        "id": "SSY5GQtQA5e-",
        "colab": {
          "base_uri": "https://localhost:8080/",
          "height": 204
        },
        "outputId": "3c490bc5-289e-48e8-b9d5-c40a4dd7e19f"
      },
      "source": [
        "#For any feature with > 50% null values, drop the feature from the dataset. \n",
        "#Percentage missing values from titanic data for each table\n",
        "total = titanic.isnull().sum().sort_values(ascending=False)\n",
        "percent = titanic.isnull().sum()/titanic.isnull().count()*100\n",
        "missing_data = pd.concat([total, percent], axis=1, keys=['Total', '%'])\n",
        "missing_data.head(5)"
      ],
      "execution_count": 245,
      "outputs": [
        {
          "output_type": "execute_result",
          "data": {
            "text/html": [
              "<div>\n",
              "<style scoped>\n",
              "    .dataframe tbody tr th:only-of-type {\n",
              "        vertical-align: middle;\n",
              "    }\n",
              "\n",
              "    .dataframe tbody tr th {\n",
              "        vertical-align: top;\n",
              "    }\n",
              "\n",
              "    .dataframe thead th {\n",
              "        text-align: right;\n",
              "    }\n",
              "</style>\n",
              "<table border=\"1\" class=\"dataframe\">\n",
              "  <thead>\n",
              "    <tr style=\"text-align: right;\">\n",
              "      <th></th>\n",
              "      <th>Total</th>\n",
              "      <th>%</th>\n",
              "    </tr>\n",
              "  </thead>\n",
              "  <tbody>\n",
              "    <tr>\n",
              "      <th>Cabin</th>\n",
              "      <td>682</td>\n",
              "      <td>77.149321</td>\n",
              "    </tr>\n",
              "    <tr>\n",
              "      <th>Age</th>\n",
              "      <td>175</td>\n",
              "      <td>19.796380</td>\n",
              "    </tr>\n",
              "    <tr>\n",
              "      <th>Embarked</th>\n",
              "      <td>2</td>\n",
              "      <td>0.226244</td>\n",
              "    </tr>\n",
              "    <tr>\n",
              "      <th>Fare</th>\n",
              "      <td>0</td>\n",
              "      <td>0.000000</td>\n",
              "    </tr>\n",
              "    <tr>\n",
              "      <th>Ticket</th>\n",
              "      <td>0</td>\n",
              "      <td>0.000000</td>\n",
              "    </tr>\n",
              "  </tbody>\n",
              "</table>\n",
              "</div>"
            ],
            "text/plain": [
              "          Total          %\n",
              "Cabin       682  77.149321\n",
              "Age         175  19.796380\n",
              "Embarked      2   0.226244\n",
              "Fare          0   0.000000\n",
              "Ticket        0   0.000000"
            ]
          },
          "metadata": {
            "tags": []
          },
          "execution_count": 245
        }
      ]
    },
    {
      "cell_type": "markdown",
      "metadata": {
        "id": "fw_503PqBbxe"
      },
      "source": [
        "Yes 'Cabin' column has more than 50% Null values. I am planning to drop this feature\n",
        "\n",
        "From above data we can analyze that\n",
        "\n",
        "The Embarked feature has only 2 missing values, which can easily be filled.\n",
        "1. 'Age' feature, which has 175 missing values.It will be much more tricky, to deal with the Age feature.\n",
        "2. The ‘Cabin’ feature needs further investigation, but it looks like that we might want to drop it from the dataset, since 77 % of it are missing."
      ]
    },
    {
      "cell_type": "markdown",
      "metadata": {
        "id": "UIn9_4emBoL3"
      },
      "source": [
        "Also, Looking at the titanic data The features contribute to a high survival rate are everything except ‘PassengerId’, ‘Ticket’ and ‘Name’."
      ]
    },
    {
      "cell_type": "markdown",
      "metadata": {
        "id": "Hwi-Pi-EBya2"
      },
      "source": [
        "**b. For any feature with < 10% null values, remove the associated exemplars from the dataset.\n",
        "How many, if any, rows did you remove?**\n",
        "\n",
        "<br> Yes. For 'Embarked' column has less  2 null values. (0.22%) removing these two rows doesnt impact much on our prediction hence i will remove these two rows.\n",
        "\n"
      ]
    },
    {
      "cell_type": "markdown",
      "metadata": {
        "id": "jV4ypmSVDOdG"
      },
      "source": [
        "c. Use a seaborn boxplot (or other labeled graph of choice) to visualize the Age distribution per\n",
        "Passenger class. What do you observe about the Age/Pclass relationship? "
      ]
    },
    {
      "cell_type": "code",
      "metadata": {
        "colab": {
          "base_uri": "https://localhost:8080/",
          "height": 359
        },
        "id": "HM3Btq7-J-Hl",
        "outputId": "7ee3f123-2c1d-4ee4-d5c6-c45769121b62"
      },
      "source": [
        "# Survival by gender and passenger class\n",
        "for x in [titanic]:\n",
        "    x['Age_bin']=np.nan\n",
        "    for i in range(8,0,-1):\n",
        "        x.loc[ x['Age'] <= i*10, 'Age_bin'] = i\n",
        "titanic[[\"Age\" , \"Age_bin\"]].head(10)"
      ],
      "execution_count": 246,
      "outputs": [
        {
          "output_type": "execute_result",
          "data": {
            "text/html": [
              "<div>\n",
              "<style scoped>\n",
              "    .dataframe tbody tr th:only-of-type {\n",
              "        vertical-align: middle;\n",
              "    }\n",
              "\n",
              "    .dataframe tbody tr th {\n",
              "        vertical-align: top;\n",
              "    }\n",
              "\n",
              "    .dataframe thead th {\n",
              "        text-align: right;\n",
              "    }\n",
              "</style>\n",
              "<table border=\"1\" class=\"dataframe\">\n",
              "  <thead>\n",
              "    <tr style=\"text-align: right;\">\n",
              "      <th></th>\n",
              "      <th>Age</th>\n",
              "      <th>Age_bin</th>\n",
              "    </tr>\n",
              "  </thead>\n",
              "  <tbody>\n",
              "    <tr>\n",
              "      <th>0</th>\n",
              "      <td>NaN</td>\n",
              "      <td>NaN</td>\n",
              "    </tr>\n",
              "    <tr>\n",
              "      <th>1</th>\n",
              "      <td>NaN</td>\n",
              "      <td>NaN</td>\n",
              "    </tr>\n",
              "    <tr>\n",
              "      <th>2</th>\n",
              "      <td>NaN</td>\n",
              "      <td>NaN</td>\n",
              "    </tr>\n",
              "    <tr>\n",
              "      <th>3</th>\n",
              "      <td>NaN</td>\n",
              "      <td>NaN</td>\n",
              "    </tr>\n",
              "    <tr>\n",
              "      <th>4</th>\n",
              "      <td>NaN</td>\n",
              "      <td>NaN</td>\n",
              "    </tr>\n",
              "    <tr>\n",
              "      <th>5</th>\n",
              "      <td>16.0</td>\n",
              "      <td>2.0</td>\n",
              "    </tr>\n",
              "    <tr>\n",
              "      <th>6</th>\n",
              "      <td>40.5</td>\n",
              "      <td>5.0</td>\n",
              "    </tr>\n",
              "    <tr>\n",
              "      <th>7</th>\n",
              "      <td>NaN</td>\n",
              "      <td>NaN</td>\n",
              "    </tr>\n",
              "    <tr>\n",
              "      <th>8</th>\n",
              "      <td>NaN</td>\n",
              "      <td>NaN</td>\n",
              "    </tr>\n",
              "    <tr>\n",
              "      <th>9</th>\n",
              "      <td>NaN</td>\n",
              "      <td>NaN</td>\n",
              "    </tr>\n",
              "  </tbody>\n",
              "</table>\n",
              "</div>"
            ],
            "text/plain": [
              "    Age  Age_bin\n",
              "0   NaN      NaN\n",
              "1   NaN      NaN\n",
              "2   NaN      NaN\n",
              "3   NaN      NaN\n",
              "4   NaN      NaN\n",
              "5  16.0      2.0\n",
              "6  40.5      5.0\n",
              "7   NaN      NaN\n",
              "8   NaN      NaN\n",
              "9   NaN      NaN"
            ]
          },
          "metadata": {
            "tags": []
          },
          "execution_count": 246
        }
      ]
    },
    {
      "cell_type": "code",
      "metadata": {
        "id": "GGXp96VtDPWU",
        "colab": {
          "base_uri": "https://localhost:8080/",
          "height": 401
        },
        "outputId": "5fb973a0-04f5-42b7-edad-8161d2bee5e0"
      },
      "source": [
        "sns.factorplot('Age_bin',data=titanic,hue='Pclass',kind='count')"
      ],
      "execution_count": 247,
      "outputs": [
        {
          "output_type": "execute_result",
          "data": {
            "text/plain": [
              "<seaborn.axisgrid.FacetGrid at 0x7f221ab1a510>"
            ]
          },
          "metadata": {
            "tags": []
          },
          "execution_count": 247
        },
        {
          "output_type": "display_data",
          "data": {
            "image/png": "[encoded data removed]",
            "text/plain": [
              "<Figure size 402.375x360 with 1 Axes>"
            ]
          },
          "metadata": {
            "tags": []
          }
        }
      ]
    },
    {
      "cell_type": "markdown",
      "metadata": {
        "id": "9-JNQ3j6xXf7"
      },
      "source": [
        "Age PClass Relationship"
      ]
    },
    {
      "cell_type": "code",
      "metadata": {
        "colab": {
          "base_uri": "https://localhost:8080/",
          "height": 400
        },
        "id": "XNwJVvV6xaft",
        "outputId": "59b9978d-ce98-4ed9-fe9a-d783c18f3ccf"
      },
      "source": [
        "generations=[10,20,40,60,80]\n",
        "sns.lmplot('Age','Survived',hue='Pclass',data=titanic,palette='winter', x_bins=generations)\n"
      ],
      "execution_count": 248,
      "outputs": [
        {
          "output_type": "execute_result",
          "data": {
            "text/plain": [
              "<seaborn.axisgrid.FacetGrid at 0x7f221ac5d1d0>"
            ]
          },
          "metadata": {
            "tags": []
          },
          "execution_count": 248
        },
        {
          "output_type": "display_data",
          "data": {
            "image/png": "[encoded data removed]",
            "text/plain": [
              "<Figure size 402.375x360 with 1 Axes>"
            ]
          },
          "metadata": {
            "tags": []
          }
        }
      ]
    },
    {
      "cell_type": "markdown",
      "metadata": {
        "id": "43D5vuNzxkc-"
      },
      "source": [
        "From above graph, Surrivival rate is higher when person is from class 1 and age is around 30"
      ]
    },
    {
      "cell_type": "markdown",
      "metadata": {
        "id": "XHfrnVm8FpAt"
      },
      "source": [
        "d. Apply imputation (based on Passenger class mean) to fill empty age values. Show your code.\n",
        "Verify results. What is the mean age per class? "
      ]
    },
    {
      "cell_type": "code",
      "metadata": {
        "id": "7ZNTTub8FqJS",
        "colab": {
          "base_uri": "https://localhost:8080/"
        },
        "outputId": "23924749-e626-4edf-97f8-f4395df4bd30"
      },
      "source": [
        "# using groupby function with aggregation\n",
        "# to get mean, min and max values\n",
        "result = titanic.groupby('Pclass').agg({'Age': ['mean', 'min', 'max']})\n",
        "print(\"Mean, min, and max values of Survived grouped by Pclass\")\n",
        "print(result)\n",
        "print (\"Mode value : \",titanic.Age.mode())"
      ],
      "execution_count": 249,
      "outputs": [
        {
          "output_type": "stream",
          "text": [
            "Mean, min, and max values of Survived grouped by Pclass\n",
            "              Age            \n",
            "             mean   min   max\n",
            "Pclass                       \n",
            "1       38.105543  0.92  80.0\n",
            "2       29.842035  0.67  70.0\n",
            "3       25.104589  0.42  74.0\n",
            "Mode value :  0    24.0\n",
            "dtype: float64\n"
          ],
          "name": "stdout"
        }
      ]
    },
    {
      "cell_type": "markdown",
      "metadata": {
        "id": "V0uz_2y5Gi7M"
      },
      "source": [
        "Filling Null values for age"
      ]
    },
    {
      "cell_type": "code",
      "metadata": {
        "id": "QTLDY_2vGnN5"
      },
      "source": [
        "# replacing na values in college with No college\n",
        "titanic.Age = np.where(titanic.Pclass==1, titanic[\"Age\"].fillna(float(38.105543)), titanic.Age)\n",
        "titanic.Age = np.where(titanic.Pclass==2, titanic[\"Age\"].fillna(float(29.842035)), titanic.Age)\n",
        "titanic.Age = np.where(titanic.Pclass==3, titanic[\"Age\"].fillna(float(25.104589)), titanic.Age)\n",
        "  "
      ],
      "execution_count": 250,
      "outputs": []
    },
    {
      "cell_type": "code",
      "metadata": {
        "id": "PahzsCPYI2DD",
        "colab": {
          "base_uri": "https://localhost:8080/"
        },
        "outputId": "295c65f9-43d3-4133-b58b-3dcc27a2df69"
      },
      "source": [
        "titanic.isnull().sum()"
      ],
      "execution_count": 251,
      "outputs": [
        {
          "output_type": "execute_result",
          "data": {
            "text/plain": [
              "PassengerId      0\n",
              "Survived         0\n",
              "Pclass           0\n",
              "Name             0\n",
              "Sex              0\n",
              "Age              0\n",
              "SibSp            0\n",
              "Parch            0\n",
              "Ticket           0\n",
              "Fare             0\n",
              "Cabin          682\n",
              "Embarked         2\n",
              "Age_bin        175\n",
              "dtype: int64"
            ]
          },
          "metadata": {
            "tags": []
          },
          "execution_count": 251
        }
      ]
    },
    {
      "cell_type": "markdown",
      "metadata": {
        "id": "_04mcZ9zJJw3"
      },
      "source": [
        "##6. CATEGORICAL DATA\n"
      ]
    },
    {
      "cell_type": "markdown",
      "metadata": {
        "id": "hhnmFvjzJuG6"
      },
      "source": [
        "**a. We will want to keep the categorical features that can be reasonably encoded and have intrinsic\n",
        "value. Which categorical feature have you already observed to be highly correlated with\n",
        "Survival?  Encode that one.**"
      ]
    },
    {
      "cell_type": "markdown",
      "metadata": {
        "id": "HCNSlmx_J3iJ"
      },
      "source": [
        "From above data we can analyze that\n",
        "\n",
        "The Embarked feature has only 2 missing values, which can easily be filled.\n",
        "\n",
        "1. 'Age' feature, which has 175 missing values.which is filled using the mean value of Pclass.\n",
        "2. The ‘Cabin’ feature needs further investigation, but it looks like that we might want to drop it from the dataset, since 77 % of it are missing. and that doesnt count for surrival prediction so decided to drop the column\n",
        "\n",
        "Also, Looking at the titanic data The features contribute to a high survival rate are everything except ‘PassengerId’, ‘Ticket’ and ‘Name’.\n",
        "\n",
        "Lets drop the column which are not contributing to high surrival rate"
      ]
    },
    {
      "cell_type": "code",
      "metadata": {
        "id": "0OI_LEuLJLBl"
      },
      "source": [
        "# Drop the columns\n",
        "titanic = titanic.drop([ 'Name', 'Ticket', 'Cabin','PassengerId','Age_bin'], axis=1)\n"
      ],
      "execution_count": 252,
      "outputs": []
    },
    {
      "cell_type": "markdown",
      "metadata": {
        "id": "lJR9OsalLm0Y"
      },
      "source": [
        "**b. In fact, encode any remaining categorical features that have a value-set of size < 5. Which?**"
      ]
    },
    {
      "cell_type": "markdown",
      "metadata": {
        "id": "WEctC8I1Lx7Q"
      },
      "source": [
        "'Embarked' feature has less than 5 values, so those rows can be dropped"
      ]
    },
    {
      "cell_type": "code",
      "metadata": {
        "id": "HzS9owo_LvGe"
      },
      "source": [
        "#Remove the rows with missing values\n",
        "titanic = titanic.dropna(subset =['Embarked'])\n",
        "titanic_after_drop =titanic"
      ],
      "execution_count": 253,
      "outputs": []
    },
    {
      "cell_type": "code",
      "metadata": {
        "id": "IAe_Br0jLBdB",
        "colab": {
          "base_uri": "https://localhost:8080/"
        },
        "outputId": "14d3c69c-29bd-4981-dd97-07dee6743e59"
      },
      "source": [
        "#Count the NEW number of rows and columns in the data set\n",
        "titanic.shape"
      ],
      "execution_count": 254,
      "outputs": [
        {
          "output_type": "execute_result",
          "data": {
            "text/plain": [
              "(882, 8)"
            ]
          },
          "metadata": {
            "tags": []
          },
          "execution_count": 254
        }
      ]
    },
    {
      "cell_type": "code",
      "metadata": {
        "colab": {
          "base_uri": "https://localhost:8080/",
          "height": 527
        },
        "id": "U4M6XMaOMuvc",
        "outputId": "7c80bc10-5dba-471f-a78b-d0771ce796fa"
      },
      "source": [
        "sns.heatmap(titanic.corr(),annot=True,cmap='RdYlGn',linewidths=0.2) #data.corr()-->correlation matrix\n",
        "fig=plt.gcf()\n",
        "fig.set_size_inches(10,8)\n",
        "plt.show()"
      ],
      "execution_count": 286,
      "outputs": [
        {
          "output_type": "display_data",
          "data": {
            "image/png": "[encoded data removed]",
            "text/plain": [
              "<Figure size 720x576 with 2 Axes>"
            ]
          },
          "metadata": {
            "tags": []
          }
        }
      ]
    },
    {
      "cell_type": "markdown",
      "metadata": {
        "id": "dDvwA6GkLv6L"
      },
      "source": [
        "Encoding categorical data values (Transforming object data types to integers)"
      ]
    },
    {
      "cell_type": "code",
      "metadata": {
        "id": "STGffoUOLszh",
        "colab": {
          "base_uri": "https://localhost:8080/"
        },
        "outputId": "79d1293e-b4b8-470e-b7ba-90923bab0ac3"
      },
      "source": [
        "#Print the NEW unique values in the columns\n",
        "print(titanic['Sex'].unique())\n",
        "print(titanic['Embarked'].unique())"
      ],
      "execution_count": 256,
      "outputs": [
        {
          "output_type": "stream",
          "text": [
            "['male' 'female']\n",
            "['Q' 'S' 'C']\n"
          ],
          "name": "stdout"
        }
      ]
    },
    {
      "cell_type": "markdown",
      "metadata": {
        "id": "sj3jolCSLktV"
      },
      "source": [
        "Label Encoding \n",
        "Encoding categorical data values (Transforming object data types to integers)"
      ]
    },
    {
      "cell_type": "code",
      "metadata": {
        "id": "8FpmTfqFML4C",
        "colab": {
          "base_uri": "https://localhost:8080/"
        },
        "outputId": "28639e4e-1661-4781-d3ae-9a6e80678e35"
      },
      "source": [
        "#Encoding categorical data values (Transforming object data types to integers)\n",
        "labelencoder = LabelEncoder()\n",
        "\n",
        "titanic.iloc[:,2]= labelencoder.fit_transform(titanic.iloc[:,2].values) #Encode sex column\n",
        "titanic.iloc[:,7]= labelencoder.fit_transform(titanic.iloc[:,7].values) #Encode embarked\n",
        "\n",
        "#Print the NEW unique values in the columns\n",
        "print(titanic['Sex'].unique())\n",
        "print(titanic['Embarked'].unique())"
      ],
      "execution_count": 257,
      "outputs": [
        {
          "output_type": "stream",
          "text": [
            "[1 0]\n",
            "[1 2 0]\n"
          ],
          "name": "stdout"
        }
      ]
    },
    {
      "cell_type": "markdown",
      "metadata": {
        "id": "WgddWIX6NLbW"
      },
      "source": [
        "**c. Remove any remaining unwanted categorical features (we will do no further feature\n",
        "engineering). Also remove the Passenger ID. Display the top 4 exemplars. How many features\n",
        "are remaining?**\n",
        "\n",
        "Removed unwanted features , now 8 features are remaining"
      ]
    },
    {
      "cell_type": "code",
      "metadata": {
        "colab": {
          "base_uri": "https://localhost:8080/",
          "height": 173
        },
        "id": "Ob31fCQfNQjT",
        "outputId": "49944b4d-de07-4f58-a3ae-aabb123e87fe"
      },
      "source": [
        "titanic.head(4)"
      ],
      "execution_count": 287,
      "outputs": [
        {
          "output_type": "execute_result",
          "data": {
            "text/html": [
              "<div>\n",
              "<style scoped>\n",
              "    .dataframe tbody tr th:only-of-type {\n",
              "        vertical-align: middle;\n",
              "    }\n",
              "\n",
              "    .dataframe tbody tr th {\n",
              "        vertical-align: top;\n",
              "    }\n",
              "\n",
              "    .dataframe thead th {\n",
              "        text-align: right;\n",
              "    }\n",
              "</style>\n",
              "<table border=\"1\" class=\"dataframe\">\n",
              "  <thead>\n",
              "    <tr style=\"text-align: right;\">\n",
              "      <th></th>\n",
              "      <th>Survived</th>\n",
              "      <th>Pclass</th>\n",
              "      <th>Sex</th>\n",
              "      <th>Age</th>\n",
              "      <th>SibSp</th>\n",
              "      <th>Parch</th>\n",
              "      <th>Fare</th>\n",
              "      <th>Embarked</th>\n",
              "    </tr>\n",
              "  </thead>\n",
              "  <tbody>\n",
              "    <tr>\n",
              "      <th>0</th>\n",
              "      <td>1</td>\n",
              "      <td>3</td>\n",
              "      <td>1</td>\n",
              "      <td>25.104589</td>\n",
              "      <td>2</td>\n",
              "      <td>0</td>\n",
              "      <td>23.25</td>\n",
              "      <td>1</td>\n",
              "    </tr>\n",
              "    <tr>\n",
              "      <th>1</th>\n",
              "      <td>1</td>\n",
              "      <td>3</td>\n",
              "      <td>1</td>\n",
              "      <td>25.104589</td>\n",
              "      <td>0</td>\n",
              "      <td>0</td>\n",
              "      <td>7.75</td>\n",
              "      <td>1</td>\n",
              "    </tr>\n",
              "    <tr>\n",
              "      <th>2</th>\n",
              "      <td>0</td>\n",
              "      <td>3</td>\n",
              "      <td>1</td>\n",
              "      <td>25.104589</td>\n",
              "      <td>1</td>\n",
              "      <td>0</td>\n",
              "      <td>7.75</td>\n",
              "      <td>1</td>\n",
              "    </tr>\n",
              "    <tr>\n",
              "      <th>3</th>\n",
              "      <td>1</td>\n",
              "      <td>3</td>\n",
              "      <td>0</td>\n",
              "      <td>25.104589</td>\n",
              "      <td>1</td>\n",
              "      <td>0</td>\n",
              "      <td>15.50</td>\n",
              "      <td>1</td>\n",
              "    </tr>\n",
              "  </tbody>\n",
              "</table>\n",
              "</div>"
            ],
            "text/plain": [
              "   Survived  Pclass  Sex        Age  SibSp  Parch   Fare  Embarked\n",
              "0         1       3    1  25.104589      2      0  23.25         1\n",
              "1         1       3    1  25.104589      0      0   7.75         1\n",
              "2         0       3    1  25.104589      1      0   7.75         1\n",
              "3         1       3    0  25.104589      1      0  15.50         1"
            ]
          },
          "metadata": {
            "tags": []
          },
          "execution_count": 287
        }
      ]
    },
    {
      "cell_type": "markdown",
      "metadata": {
        "id": "vo9MPasb_M_l"
      },
      "source": [
        "#SECTION 3 – MODELING "
      ]
    },
    {
      "cell_type": "markdown",
      "metadata": {
        "id": "Q1qO7-aM_TaL"
      },
      "source": [
        "##TRAIN-TEST SPLIT"
      ]
    },
    {
      "cell_type": "code",
      "metadata": {
        "id": "u8EctTBi_QOc",
        "colab": {
          "base_uri": "https://localhost:8080/"
        },
        "outputId": "acfc5761-21a0-498b-951e-f8b8d1294615"
      },
      "source": [
        "#TRAIN-TEST SPLIT\n",
        "\n",
        "#Split the data into independent 'X' and dependent 'Y' variables\n",
        "X = titanic.iloc[:, 1:8].values \n",
        "Y = titanic.iloc[:, 0].values \n",
        "\n",
        "# Split the dataset into 80% Training set and 20% Testing set\n",
        "from sklearn.model_selection import train_test_split\n",
        "X_train, X_test, Y_train, Y_test = train_test_split(X, Y, test_size = 0.2, \n",
        "                                                    random_state = 6, shuffle=True)\n",
        "\n",
        "print(\"Size of X_train data \",X_train.shape)\n",
        "print(\"Size of Y_train data \",Y_train.shape)\n",
        "print(\"Size of X_test data \",X_test.shape)\n",
        "print(\"Size of Y_test data \",Y_test.shape)"
      ],
      "execution_count": 258,
      "outputs": [
        {
          "output_type": "stream",
          "text": [
            "Size of X_train data  (705, 7)\n",
            "Size of Y_train data  (705,)\n",
            "Size of X_test data  (177, 7)\n",
            "Size of Y_test data  (177,)\n"
          ],
          "name": "stdout"
        }
      ]
    },
    {
      "cell_type": "markdown",
      "metadata": {
        "id": "pjPE0-3U_wu2"
      },
      "source": [
        "##LOGISTIC REGRESSION"
      ]
    },
    {
      "cell_type": "markdown",
      "metadata": {
        "id": "RyPrr8qKAOv3"
      },
      "source": [
        "Create a LOGISTIC REGRESSION classifier, (you may need to modify max_iter). What is\n",
        "your training score? test score? \n",
        "\n",
        "\n",
        "Modified max tire parameter from defalut value 100 to 150"
      ]
    },
    {
      "cell_type": "code",
      "metadata": {
        "id": "vGBP-dWW_xbM",
        "colab": {
          "base_uri": "https://localhost:8080/"
        },
        "outputId": "f542e656-bae9-4c7e-f832-1b44251f1cc4"
      },
      "source": [
        "#Using Logistic Regression Algorithm to the Training Set\n",
        "log = LogisticRegression(random_state = 24, max_iter=150)\n",
        "log.fit(X_train, Y_train)\n",
        "print('Logistic Regression Training Accuracy:', log.score(X_train, Y_train))\n",
        "print('Logistic Regression Testing Accuracy:', log.score(X_test, Y_test))"
      ],
      "execution_count": 259,
      "outputs": [
        {
          "output_type": "stream",
          "text": [
            "Logistic Regression Training Accuracy: 0.8156028368794326\n",
            "Logistic Regression Testing Accuracy: 0.7457627118644068\n"
          ],
          "name": "stdout"
        }
      ]
    },
    {
      "cell_type": "markdown",
      "metadata": {
        "id": "1R1e2putAW_J"
      },
      "source": [
        "Evaluate the results of this model using classification_report. \n",
        "<br>What additional insight can you\n",
        "glean from the report about the two classes? "
      ]
    },
    {
      "cell_type": "code",
      "metadata": {
        "colab": {
          "base_uri": "https://localhost:8080/"
        },
        "id": "a1Z1L4T5N9gB",
        "outputId": "4324a517-fc76-4e2d-9bf2-a2b1472cd7a1"
      },
      "source": [
        "# Predictions and Evaluations\n",
        "# Now predict values for the testing data.\n",
        "predictions = log.predict(X_test)\n",
        "# Create a classification report and confusion matrix for the model.\n",
        "print ('Classification Report : \\n',classification_report(Y_test,predictions))"
      ],
      "execution_count": 260,
      "outputs": [
        {
          "output_type": "stream",
          "text": [
            "Classification Report : \n",
            "               precision    recall  f1-score   support\n",
            "\n",
            "           0       0.81      0.75      0.78       106\n",
            "           1       0.67      0.73      0.70        71\n",
            "\n",
            "    accuracy                           0.75       177\n",
            "   macro avg       0.74      0.74      0.74       177\n",
            "weighted avg       0.75      0.75      0.75       177\n",
            "\n"
          ],
          "name": "stdout"
        }
      ]
    },
    {
      "cell_type": "markdown",
      "metadata": {
        "id": "6iEnu4tHOdgS"
      },
      "source": [
        "A Classification report is used to measure the quality of predictions from a classification algorithm. How many predictions are True and how many are False. \n",
        "\n",
        "More specifically, True Positives, False Positives, True negatives and False Negatives are used to predict the metrics of a classification report as shown below."
      ]
    },
    {
      "cell_type": "markdown",
      "metadata": {
        "id": "6sESvn4TOpkx"
      },
      "source": [
        "Precision – Accuracy of positive predictions.\n",
        "Precision = TP/(TP + FP)\n",
        "\n",
        "Recall: Fraction of positives that were correctly identified.\n",
        "Recall = TP/(TP+FN)\n",
        "\n",
        "F1 score – What percent of positive predictions were correct\n",
        "F1 Score = 2*(Recall * Precision) / (Recall + Precision)"
      ]
    },
    {
      "cell_type": "code",
      "metadata": {
        "id": "Q6wc_V9dAX23",
        "colab": {
          "base_uri": "https://localhost:8080/"
        },
        "outputId": "a390f22a-fb40-49b4-bfcd-a7c87669fcbf"
      },
      "source": [
        "# Constructing the confusion matrix.\n",
        "cm = confusion_matrix(Y_test, log.predict(X_test)) \n",
        "print('Confusion Matrix :\\n', cm)\n",
        "TN, FP, FN, TP = confusion_matrix(Y_test, log.predict(X_test)).ravel()\n",
        "print('Logistic Regression Testing Accuracy = '  ,(TP + TN) / (TP + TN + FN + FP))\n"
      ],
      "execution_count": 261,
      "outputs": [
        {
          "output_type": "stream",
          "text": [
            "Confusion Matrix :\n",
            " [[80 26]\n",
            " [19 52]]\n",
            "Logistic Regression Testing Accuracy =  0.7457627118644068\n"
          ],
          "name": "stdout"
        }
      ]
    },
    {
      "cell_type": "markdown",
      "metadata": {
        "id": "az5yCyuFN7XM"
      },
      "source": [
        "Evaluate the results of this model using confusion_matrix. \n",
        "1. How many True-Negatives (NonSurvivors) did your model correctly identify?  \n",
        "--> There are 52 NonSurvivors model correctly identified\n",
        "2. How many actual Non-Survivors were\n",
        "there? \n",
        "--> Actual there are 78 Non-Survivors were\n",
        "there\n",
        "\n",
        "That ratio represents what metric from the classification_report?\n",
        "\n",
        "--> The ratio represents precision for 1"
      ]
    },
    {
      "cell_type": "code",
      "metadata": {
        "id": "hiukC-xaNegY",
        "colab": {
          "base_uri": "https://localhost:8080/"
        },
        "outputId": "6460e1e8-27ad-43cc-b66e-8805dd968d01"
      },
      "source": [
        "# Predictions and Evaluations\n",
        "# Now predict values for the testing data.\n",
        "predictions = log.predict(X_test)\n",
        "\n",
        "# Create a classification report and confusion matrix for the model.\n",
        "print ('Classification Report : \\n',classification_report(Y_test,predictions))\n"
      ],
      "execution_count": 262,
      "outputs": [
        {
          "output_type": "stream",
          "text": [
            "Classification Report : \n",
            "               precision    recall  f1-score   support\n",
            "\n",
            "           0       0.81      0.75      0.78       106\n",
            "           1       0.67      0.73      0.70        71\n",
            "\n",
            "    accuracy                           0.75       177\n",
            "   macro avg       0.74      0.74      0.74       177\n",
            "weighted avg       0.75      0.75      0.75       177\n",
            "\n"
          ],
          "name": "stdout"
        }
      ]
    },
    {
      "cell_type": "code",
      "metadata": {
        "id": "efZA5RdmN0jM",
        "colab": {
          "base_uri": "https://localhost:8080/"
        },
        "outputId": "754ff6b6-d701-4045-dfe2-8024e24ed5e3"
      },
      "source": [
        "print ('Confusion Matrix : \\n',confusion_matrix(Y_test,predictions))"
      ],
      "execution_count": 263,
      "outputs": [
        {
          "output_type": "stream",
          "text": [
            "Confusion Matrix : \n",
            " [[80 26]\n",
            " [19 52]]\n"
          ],
          "name": "stdout"
        }
      ]
    },
    {
      "cell_type": "markdown",
      "metadata": {
        "id": "HcIjUMDlORAr"
      },
      "source": [
        "##MULTI-LAYER PERCEPTRON\n"
      ]
    },
    {
      "cell_type": "markdown",
      "metadata": {
        "id": "RiWy-ylHOiLO"
      },
      "source": [
        "Create a MULTI-LAYER PERCEPTRON (Neural Network), (you may need to modify\n",
        "max_iter). What is your training score? test score?  "
      ]
    },
    {
      "cell_type": "code",
      "metadata": {
        "id": "_q1u4Ja9Of5l",
        "colab": {
          "base_uri": "https://localhost:8080/"
        },
        "outputId": "7e3bc1f6-b3ed-4a2f-9148-96a739bdd412"
      },
      "source": [
        "#Create a MULTI-LAYER PERCEPTRON (Neural Network),\n",
        "mlp_classifier = MLPClassifier(random_state=1,shuffle=True,max_iter=100)\n",
        "\n",
        "mlp_classifier.fit(X_train, Y_train)\n",
        "print('MLP Classifier Training Accuracy:', mlp_classifier.score(X_train, Y_train))\n",
        "print('MLP Classifier Testing Accuracy:', mlp_classifier.score(X_test, Y_test))\n"
      ],
      "execution_count": 264,
      "outputs": [
        {
          "output_type": "stream",
          "text": [
            "MLP Classifier Training Accuracy: 0.8141843971631205\n",
            "MLP Classifier Testing Accuracy: 0.7627118644067796\n"
          ],
          "name": "stdout"
        }
      ]
    },
    {
      "cell_type": "markdown",
      "metadata": {
        "id": "Z89v3hgFQbdP"
      },
      "source": [
        "Now change the hidden_layer_sizes from the default to [30,30], and refit & score. What are the\n",
        "new scores on training? testing? \n"
      ]
    },
    {
      "cell_type": "code",
      "metadata": {
        "id": "OFm5XcRJQf64",
        "colab": {
          "base_uri": "https://localhost:8080/"
        },
        "outputId": "2c7a510a-c756-4976-a408-92ae66e2cb9e"
      },
      "source": [
        "mlp_classifier = MLPClassifier(hidden_layer_sizes=(30,30,),random_state=1,shuffle=True,max_iter=200)\n",
        "\n",
        "mlp_classifier.fit(X_train, Y_train)\n",
        "\n",
        "print('MLP Classifier Training Accuracy:', mlp_classifier.score(X_train, Y_train))\n",
        "print('MLP Classifier Training Accuracy:', mlp_classifier.score(X_test, Y_test))\n",
        "print('MLP Classifier hidden_layer_sizes layers:', mlp_classifier.hidden_layer_sizes)\n",
        "print('MLP Classifier N layers:', mlp_classifier.n_layers_)"
      ],
      "execution_count": 265,
      "outputs": [
        {
          "output_type": "stream",
          "text": [
            "MLP Classifier Training Accuracy: 0.8198581560283688\n",
            "MLP Classifier Training Accuracy: 0.768361581920904\n",
            "MLP Classifier hidden_layer_sizes layers: (30, 30)\n",
            "MLP Classifier N layers: 4\n"
          ],
          "name": "stdout"
        }
      ]
    },
    {
      "cell_type": "markdown",
      "metadata": {
        "id": "WvXUoMb3Q7W4"
      },
      "source": [
        "How many layers are in your model for b?  Was there improvement?\n",
        "1. MLP Classifier hidden_layer_sizes layers: (30, 30)\n",
        "2. MLP Classifier N layers: 4\n",
        "3. There is no improvement in score, either way score is declined from 83.13 to 81.98"
      ]
    },
    {
      "cell_type": "code",
      "metadata": {
        "id": "UTI0-hRbOf17",
        "colab": {
          "base_uri": "https://localhost:8080/"
        },
        "outputId": "2d167644-1f7e-49ca-e14b-ec642d14fb29"
      },
      "source": [
        "# Constructing the confusion matrix.\n",
        "cm = confusion_matrix(Y_test, mlp_classifier.predict(X_test)) \n",
        "print('Confusion Matrix :\\n', cm)\n",
        "TN, FP, FN, TP = confusion_matrix(Y_test, mlp_classifier.predict(X_test)).ravel()\n",
        "print('MLP Classifier Testing Accuracy = '  ,(TP + TN) / (TP + TN + FN + FP))"
      ],
      "execution_count": 266,
      "outputs": [
        {
          "output_type": "stream",
          "text": [
            "Confusion Matrix :\n",
            " [[80 26]\n",
            " [15 56]]\n",
            "MLP Classifier Testing Accuracy =  0.768361581920904\n"
          ],
          "name": "stdout"
        }
      ]
    },
    {
      "cell_type": "markdown",
      "metadata": {
        "id": "JMPOF5oURHEn"
      },
      "source": [
        "#SECTION 4 - MODEL SELECTION\n"
      ]
    },
    {
      "cell_type": "markdown",
      "metadata": {
        "id": "VaTpewRIRNhJ"
      },
      "source": [
        "MLP MODEL SEARCH & SELECTION – try a variety of methods from below, to improve upon\n",
        "your MLP model, creating a model that generalizes well and takes advantage of the entire dataset for\n",
        "model selection. COMMENT your CODE\n"
      ]
    },
    {
      "cell_type": "markdown",
      "metadata": {
        "id": "YS9uHV0WRQB9"
      },
      "source": [
        "##Scaling"
      ]
    },
    {
      "cell_type": "code",
      "metadata": {
        "id": "XVgPN8cJRV2g"
      },
      "source": [
        "#Feature Scaling\n",
        "sc = StandardScaler()\n",
        "# calling fit and transform in sequence (using method chaining)\n",
        "X_train = sc.fit_transform(X_train)\n",
        "# same result, but more efficient computation\n",
        "X_test = sc.transform(X_test)"
      ],
      "execution_count": 267,
      "outputs": []
    },
    {
      "cell_type": "code",
      "metadata": {
        "id": "J-8fBLIXTwpI",
        "colab": {
          "base_uri": "https://localhost:8080/"
        },
        "outputId": "1fecd0a8-c6fa-4334-dafd-17c3fd461b00"
      },
      "source": [
        "mlp_classifier = MLPClassifier(random_state=1,shuffle=True)\n",
        "\n",
        "mlp_classifier.fit(X_train, Y_train)\n",
        "print('MLP Classifier Training Accuracy:', mlp_classifier.score(X_train, Y_train))\n",
        "print('MLP Classifier Training Accuracy:', mlp_classifier.score(X_test, Y_test))"
      ],
      "execution_count": 268,
      "outputs": [
        {
          "output_type": "stream",
          "text": [
            "MLP Classifier Training Accuracy: 0.8453900709219858\n",
            "MLP Classifier Training Accuracy: 0.8022598870056498\n"
          ],
          "name": "stdout"
        }
      ]
    },
    {
      "cell_type": "markdown",
      "metadata": {
        "id": "jMcnFoVcUQA9"
      },
      "source": [
        "Accuricy of Model is increased after sandered Feature Scaling"
      ]
    },
    {
      "cell_type": "markdown",
      "metadata": {
        "id": "4Lyj7owMZCLD"
      },
      "source": [
        "##Cross validation"
      ]
    },
    {
      "cell_type": "markdown",
      "metadata": {
        "id": "3YPQ415uhAww"
      },
      "source": [
        "Cross-Validation in scikit-learn"
      ]
    },
    {
      "cell_type": "code",
      "metadata": {
        "colab": {
          "base_uri": "https://localhost:8080/"
        },
        "id": "hoTb8KuRZIY3",
        "outputId": "a9435038-ba2e-4250-cc2f-3038cdf7568e"
      },
      "source": [
        "mlp_classifier = MLPClassifier(random_state=1,shuffle=True)\n",
        "scores = cross_val_score(mlp_classifier, X, Y)\n",
        "print(\"Cross-Validation in scikit-learn\")\n",
        "print(\"%0.2f accuracy with a standard deviation of %0.2f\" % (scores.mean()*100, scores.std()*100))\n"
      ],
      "execution_count": 269,
      "outputs": [
        {
          "output_type": "stream",
          "text": [
            "Cross-Validation in scikit-learn\n",
            "76.76 accuracy with a standard deviation of 3.02\n"
          ],
          "name": "stdout"
        }
      ]
    },
    {
      "cell_type": "code",
      "metadata": {
        "colab": {
          "base_uri": "https://localhost:8080/",
          "height": 85
        },
        "id": "Xx0alQCIhIhT",
        "outputId": "64c1b80f-68c6-43fb-d648-8419d4c43ea8"
      },
      "source": [
        "res = cross_validate(mlp_classifier, X, Y, cv=5,\n",
        "                     return_train_score=True)\n",
        "display(res)\n"
      ],
      "execution_count": 270,
      "outputs": [
        {
          "output_type": "display_data",
          "data": {
            "text/plain": [
              "{'fit_time': array([0.78198266, 0.75536823, 0.76579261, 0.75539923, 0.79669452]),\n",
              " 'score_time': array([0.00084352, 0.00080824, 0.00412273, 0.00086331, 0.00079679]),\n",
              " 'test_score': array([0.76836158, 0.78531073, 0.80681818, 0.76136364, 0.71590909]),\n",
              " 'train_score': array([0.84397163, 0.82269504, 0.82719547, 0.83711048, 0.82436261])}"
            ]
          },
          "metadata": {
            "tags": []
          }
        }
      ]
    },
    {
      "cell_type": "code",
      "metadata": {
        "colab": {
          "base_uri": "https://localhost:8080/",
          "height": 306
        },
        "id": "29bVSHT6h7wo",
        "outputId": "26b0e305-2939-47a0-de3a-ea26b6f90747"
      },
      "source": [
        "res_df = pd.DataFrame(res)\n",
        "display(res_df)\n",
        "print(\"Mean times and scores:\\n\", res_df.mean())"
      ],
      "execution_count": 271,
      "outputs": [
        {
          "output_type": "display_data",
          "data": {
            "text/html": [
              "<div>\n",
              "<style scoped>\n",
              "    .dataframe tbody tr th:only-of-type {\n",
              "        vertical-align: middle;\n",
              "    }\n",
              "\n",
              "    .dataframe tbody tr th {\n",
              "        vertical-align: top;\n",
              "    }\n",
              "\n",
              "    .dataframe thead th {\n",
              "        text-align: right;\n",
              "    }\n",
              "</style>\n",
              "<table border=\"1\" class=\"dataframe\">\n",
              "  <thead>\n",
              "    <tr style=\"text-align: right;\">\n",
              "      <th></th>\n",
              "      <th>fit_time</th>\n",
              "      <th>score_time</th>\n",
              "      <th>test_score</th>\n",
              "      <th>train_score</th>\n",
              "    </tr>\n",
              "  </thead>\n",
              "  <tbody>\n",
              "    <tr>\n",
              "      <th>0</th>\n",
              "      <td>0.781983</td>\n",
              "      <td>0.000844</td>\n",
              "      <td>0.768362</td>\n",
              "      <td>0.843972</td>\n",
              "    </tr>\n",
              "    <tr>\n",
              "      <th>1</th>\n",
              "      <td>0.755368</td>\n",
              "      <td>0.000808</td>\n",
              "      <td>0.785311</td>\n",
              "      <td>0.822695</td>\n",
              "    </tr>\n",
              "    <tr>\n",
              "      <th>2</th>\n",
              "      <td>0.765793</td>\n",
              "      <td>0.004123</td>\n",
              "      <td>0.806818</td>\n",
              "      <td>0.827195</td>\n",
              "    </tr>\n",
              "    <tr>\n",
              "      <th>3</th>\n",
              "      <td>0.755399</td>\n",
              "      <td>0.000863</td>\n",
              "      <td>0.761364</td>\n",
              "      <td>0.837110</td>\n",
              "    </tr>\n",
              "    <tr>\n",
              "      <th>4</th>\n",
              "      <td>0.796695</td>\n",
              "      <td>0.000797</td>\n",
              "      <td>0.715909</td>\n",
              "      <td>0.824363</td>\n",
              "    </tr>\n",
              "  </tbody>\n",
              "</table>\n",
              "</div>"
            ],
            "text/plain": [
              "   fit_time  score_time  test_score  train_score\n",
              "0  0.781983    0.000844    0.768362     0.843972\n",
              "1  0.755368    0.000808    0.785311     0.822695\n",
              "2  0.765793    0.004123    0.806818     0.827195\n",
              "3  0.755399    0.000863    0.761364     0.837110\n",
              "4  0.796695    0.000797    0.715909     0.824363"
            ]
          },
          "metadata": {
            "tags": []
          }
        },
        {
          "output_type": "stream",
          "text": [
            "Mean times and scores:\n",
            " fit_time       0.771047\n",
            "score_time     0.001487\n",
            "test_score     0.767553\n",
            "train_score    0.831067\n",
            "dtype: float64\n"
          ],
          "name": "stdout"
        }
      ]
    },
    {
      "cell_type": "markdown",
      "metadata": {
        "id": "QIIh7zXshE5C"
      },
      "source": [
        "Stratified K-Fold cross-validation and other strategies"
      ]
    },
    {
      "cell_type": "code",
      "metadata": {
        "colab": {
          "base_uri": "https://localhost:8080/"
        },
        "id": "udKj6TkDiCyP",
        "outputId": "8062ba4a-7e60-4217-bba4-f6b304368d16"
      },
      "source": [
        "kfold = KFold(n_splits=5)\n",
        "mlp_classifier = MLPClassifier(random_state=1,shuffle=True)\n",
        "scores = cross_val_score(mlp_classifier, X, Y, cv=kfold)\n",
        "\n",
        "print(\"Cross-Validation with n_splits= 5\")\n",
        "print(\"%0.2f accuracy with a standard deviation of %0.2f\" % (scores.mean()*100, scores.std()*100))"
      ],
      "execution_count": 272,
      "outputs": [
        {
          "output_type": "stream",
          "text": [
            "Cross-Validation with n_splits= 5\n",
            "77.44 accuracy with a standard deviation of 5.63\n"
          ],
          "name": "stdout"
        }
      ]
    },
    {
      "cell_type": "code",
      "metadata": {
        "colab": {
          "base_uri": "https://localhost:8080/"
        },
        "id": "j59Xox9Kib6t",
        "outputId": "259e7b64-2ab0-4efe-a686-5c0bbe2c5679"
      },
      "source": [
        "kfold = KFold(n_splits=3)\n",
        "mlp_classifier = MLPClassifier(random_state=1,shuffle=True)\n",
        "scores = cross_val_score(mlp_classifier, X, Y, cv=kfold)\n",
        "\n",
        "print(\"Cross-Validation with n_splits= 3\")\n",
        "print(\"%0.2f accuracy with a standard deviation of %0.2f\" % (scores.mean()*100, scores.std()*100))"
      ],
      "execution_count": 273,
      "outputs": [
        {
          "output_type": "stream",
          "text": [
            "Cross-Validation with n_splits= 3\n",
            "79.82 accuracy with a standard deviation of 1.95\n"
          ],
          "name": "stdout"
        }
      ]
    },
    {
      "cell_type": "code",
      "metadata": {
        "colab": {
          "base_uri": "https://localhost:8080/"
        },
        "id": "Z5_5QUgFitpw",
        "outputId": "510e64b1-6307-4e06-85c7-afecca25df0a"
      },
      "source": [
        "kfold = KFold(n_splits=3, shuffle=True, random_state=1)\n",
        "mlp_classifier = MLPClassifier(random_state=1,shuffle=True)\n",
        "scores = cross_val_score(mlp_classifier, X, Y, cv=kfold)\n",
        "\n",
        "print(\"Cross-Validation with n_splits= 3\")\n",
        "print(\"%0.2f accuracy with a standard deviation of %0.2f\" % (scores.mean()*100, scores.std()*100))"
      ],
      "execution_count": 274,
      "outputs": [
        {
          "output_type": "stream",
          "text": [
            "Cross-Validation with n_splits= 3\n",
            "80.27 accuracy with a standard deviation of 1.27\n"
          ],
          "name": "stdout"
        }
      ]
    },
    {
      "cell_type": "markdown",
      "metadata": {
        "id": "kVot1Z5Hi5PT"
      },
      "source": [
        "Leave-one-out cross-validation"
      ]
    },
    {
      "cell_type": "code",
      "metadata": {
        "id": "wb8VQDWQi6AQ",
        "colab": {
          "base_uri": "https://localhost:8080/"
        },
        "outputId": "b7eba39b-67f4-478f-e539-44eeca8e846b"
      },
      "source": [
        "loo = LeaveOneOut()\n",
        "mlp_classifier = MLPClassifier(random_state=1,shuffle=True)\n",
        "scores = cross_val_score(mlp_classifier, X, Y, cv=loo)\n",
        "print(\"Cross-Validation with LeaveOneOut\")\n",
        "print(\"%0.2f accuracy with a standard deviation of %0.2f\" % (scores.mean()*100, scores.std()*100))\n"
      ],
      "execution_count": 275,
      "outputs": [
        {
          "output_type": "stream",
          "text": [
            "Cross-Validation with LeaveOneOut\n",
            "80.61 accuracy with a standard deviation of 39.53\n"
          ],
          "name": "stdout"
        }
      ]
    },
    {
      "cell_type": "markdown",
      "metadata": {
        "id": "h9uKFyAJjRYN"
      },
      "source": [
        "Shuffle-split cross-validation"
      ]
    },
    {
      "cell_type": "code",
      "metadata": {
        "id": "tf9_vGzfjUOb",
        "colab": {
          "base_uri": "https://localhost:8080/"
        },
        "outputId": "c4b85dcf-5352-4fc7-9515-03f9fdce87e6"
      },
      "source": [
        "shuffle_split = ShuffleSplit(test_size=.5, train_size=.5, n_splits=10)\n",
        "mlp_classifier = MLPClassifier(random_state=1,shuffle=True)\n",
        "scores = cross_val_score(mlp_classifier, X, Y, cv=shuffle_split)\n",
        "print(\"Cross-Validation with ShuffleSplit\")\n",
        "print(\"%0.2f accuracy with a standard deviation of %0.2f\" % (scores.mean()*100, scores.std()*100))"
      ],
      "execution_count": 276,
      "outputs": [
        {
          "output_type": "stream",
          "text": [
            "Cross-Validation with ShuffleSplit\n",
            "79.25 accuracy with a standard deviation of 1.56\n"
          ],
          "name": "stdout"
        }
      ]
    },
    {
      "cell_type": "markdown",
      "metadata": {
        "id": "zT52_vqFjgTq"
      },
      "source": [
        "Cross-validation with groups"
      ]
    },
    {
      "cell_type": "code",
      "metadata": {
        "id": "JKitSdbcjhFd",
        "colab": {
          "base_uri": "https://localhost:8080/"
        },
        "outputId": "faeb48bf-fc48-4ece-9fa0-c7dec5e7175d"
      },
      "source": [
        "# create synthetic dataset\n",
        "X_groupKfold, y_groupKfold = make_blobs(n_samples=12, random_state=0)\n",
        "mlp_classifier = MLPClassifier(random_state=1,shuffle=True)\n",
        "groups = [0, 0, 0, 1, 1, 1, 1, 2, 2, 3, 3, 3]\n",
        "scores = cross_val_score(mlp_classifier, X_groupKfold, y_groupKfold, \n",
        "                         groups=groups, cv=GroupKFold(n_splits=3))\n",
        "\n",
        "print(\"Cross-Validation with ShuffleSplit\")\n",
        "print(\"%0.2f accuracy with a standard deviation of %0.2f\" % (scores.mean()*100, scores.std()*100))"
      ],
      "execution_count": 277,
      "outputs": [
        {
          "output_type": "stream",
          "text": [
            "Cross-Validation with ShuffleSplit\n",
            "60.56 accuracy with a standard deviation of 14.93\n"
          ],
          "name": "stdout"
        }
      ]
    },
    {
      "cell_type": "markdown",
      "metadata": {
        "id": "51Uq8Fi4d9rt"
      },
      "source": [
        "##Grid Search\n"
      ]
    },
    {
      "cell_type": "markdown",
      "metadata": {
        "id": "JMxsa1rekTFR"
      },
      "source": [
        "Simple Grid Search"
      ]
    },
    {
      "cell_type": "code",
      "metadata": {
        "id": "84hunkcWe1AY",
        "colab": {
          "base_uri": "https://localhost:8080/"
        },
        "outputId": "157aa22f-8ccb-4060-c33b-15bd6082c148"
      },
      "source": [
        "parameter_space = {\n",
        "    'hidden_layer_sizes': [(100,75,50), (50,100,50), (150,100,50)],\n",
        "    'activation': ['tanh', 'relu'],\n",
        "    'solver': ['sgd', 'adam'],\n",
        "    'alpha': [0.0001, 0.05],\n",
        "    'learning_rate': ['constant','adaptive'],\n",
        "    'max_iter' : [100,300,50]\n",
        "}\n",
        "mlp = MLPClassifier()\n",
        "grid_mlp = GridSearchCV(mlp, parameter_space, n_jobs=-1, cv=3)\n",
        "grid_mlp.fit(X_train, Y_train)\n",
        "print(f'Best params: {grid_mlp.best_params_}')\n",
        "print(f'Best score: {grid_mlp.best_score_}')\n"
      ],
      "execution_count": 278,
      "outputs": [
        {
          "output_type": "stream",
          "text": [
            "Best params: {'activation': 'tanh', 'alpha': 0.0001, 'hidden_layer_sizes': (150, 100, 50), 'learning_rate': 'adaptive', 'max_iter': 50, 'solver': 'adam'}\n",
            "Best score: 0.825531914893617\n"
          ],
          "name": "stdout"
        }
      ]
    },
    {
      "cell_type": "code",
      "metadata": {
        "id": "KmT4x-gOkY4A",
        "colab": {
          "base_uri": "https://localhost:8080/"
        },
        "outputId": "d44d326c-200a-4d1e-cb46-64348257c260"
      },
      "source": [
        "mlp_classifier = MLPClassifier(random_state=1,shuffle=True,activation='tanh', alpha= 0.0001, \n",
        "                               hidden_layer_sizes = (50, 100, 50), \n",
        "                               learning_rate='adaptive', max_iter= 100,\n",
        "                               solver = 'adam')\n",
        "\n",
        "mlp_classifier.fit(X_train, Y_train)\n",
        "mlp_classifier.fit(X_test, Y_test)\n",
        "print('MLP Classifier Training Accuracy:', mlp_classifier.score(X_train, Y_train))\n",
        "print('MLP Classifier Testing Accuracy:', mlp_classifier.score(X_test, Y_test))"
      ],
      "execution_count": 279,
      "outputs": [
        {
          "output_type": "stream",
          "text": [
            "MLP Classifier Training Accuracy: 0.8241134751773049\n",
            "MLP Classifier Testing Accuracy: 0.8531073446327684\n"
          ],
          "name": "stdout"
        }
      ]
    },
    {
      "cell_type": "markdown",
      "metadata": {
        "id": "x6fI43HilABe"
      },
      "source": [
        "Grid Search with Cross-Validation"
      ]
    },
    {
      "cell_type": "code",
      "metadata": {
        "id": "v-6aTAmhlkit",
        "colab": {
          "base_uri": "https://localhost:8080/"
        },
        "outputId": "1aa2c4e7-bc92-4201-d888-0756e8413e38"
      },
      "source": [
        "best_score = 0\n",
        "for max_iter in [ 1, 200, 100]:\n",
        "    for hidden_layer_sizes in [(100,75,50), (50,100,50), (150,100,50)]:\n",
        "        # for each combination of parameters,\n",
        "        # train an MLPClassifier\n",
        "        mpl_classifier = MLPClassifier(max_iter=max_iter, hidden_layer_sizes=hidden_layer_sizes)\n",
        "        # perform cross-validation\n",
        "        scores = cross_val_score(mpl_classifier, X_train, Y_train, cv=5)\n",
        "        # compute mean cross-validation accuracy\n",
        "        score = np.mean(scores)\n",
        "        # if we got a better score, store the score and parameters\n",
        "        if score > best_score:\n",
        "            best_score = score\n",
        "            best_parameters = {'max_iter': max_iter, 'hidden_layer_sizes': hidden_layer_sizes}\n",
        "# rebuild a model on the combined training and validation set\n",
        "mpl_classifier = MLPClassifier(**best_parameters)\n",
        "mpl_classifier.fit(X_train, Y_train)\n",
        "print('MLP Classifier Training Accuracy:', mlp_classifier.score(X_train, Y_train))\n",
        "print('MLP Classifier Testing Accuracy:', mlp_classifier.score(X_test, Y_test))"
      ],
      "execution_count": 280,
      "outputs": [
        {
          "output_type": "stream",
          "text": [
            "MLP Classifier Training Accuracy: 0.8241134751773049\n",
            "MLP Classifier Testing Accuracy: 0.8531073446327684\n"
          ],
          "name": "stdout"
        }
      ]
    },
    {
      "cell_type": "markdown",
      "metadata": {
        "id": "4jRhIYLeeYqb"
      },
      "source": [
        "##Common Hyperparameter Options\n"
      ]
    },
    {
      "cell_type": "code",
      "metadata": {
        "id": "eS2DSmkbrWvd",
        "colab": {
          "base_uri": "https://localhost:8080/"
        },
        "outputId": "492a1037-e503-404e-e9b7-c097571ffb1f"
      },
      "source": [
        "mlp_classifier = MLPClassifier(hidden_layer_sizes=(100,), activation='relu', solver='adam',\n",
        "                               alpha=0.0001, batch_size='auto', learning_rate='constant',\n",
        "                               learning_rate_init=0.001, power_t=0.5, max_iter=200, \n",
        "                               shuffle=True, random_state=None, tol=0.0001, verbose=False, \n",
        "                               warm_start=False, momentum=0.9, nesterovs_momentum=True, \n",
        "                               early_stopping=False, validation_fraction=0.1, beta_1=0.9, \n",
        "                               beta_2=0.999, epsilon=1e-08, n_iter_no_change=10, max_fun=15000)\n",
        "mlp_classifier.fit(X_train, Y_train)\n",
        "\n",
        "\n",
        "print('MLP Classifier Training Accuracy:', mlp_classifier.score(X_train, Y_train))\n",
        "print('MLP Classifier Training Accuracy:', mlp_classifier.score(X_test, Y_test))"
      ],
      "execution_count": 281,
      "outputs": [
        {
          "output_type": "stream",
          "text": [
            "MLP Classifier Training Accuracy: 0.8453900709219858\n",
            "MLP Classifier Training Accuracy: 0.7909604519774012\n"
          ],
          "name": "stdout"
        }
      ]
    },
    {
      "cell_type": "markdown",
      "metadata": {
        "id": "vlpaYCQGebov"
      },
      "source": [
        "##Further Feature Engineering or alternative encoding"
      ]
    },
    {
      "cell_type": "markdown",
      "metadata": {
        "id": "X7O7saaZ0wlV"
      },
      "source": [
        "**Label Encoding**\n",
        "\n",
        "It is used to transform non-numerical labels to numerical labels (or nominal categorical variables). Numerical labels are always between 0 and n_classes-1. \n",
        "\n",
        "which is already done for class Sex and Embarked"
      ]
    },
    {
      "cell_type": "markdown",
      "metadata": {
        "id": "EBPg5PKZ2got"
      },
      "source": [
        "**Correlation between features**\n",
        "Non-graphical method : This correlation matrix is to understand the strength between variables. Correlation varies between -1 and +1.\n",
        "\n",
        "-1: Perfect negative linear correlation\n",
        "\n",
        "+1: Perfect positive linear correlation\n",
        "\n",
        "0: No correlation\n",
        "\n",
        "Generally, if the correlation between the two independent variables are high (>= 0.8) then we drop one independent variable otherwise it may lead to multi collinearity problem as both of them contains almost the same information.\n",
        "\n",
        "So do you think we should use both of them as one of them is redundant. While making or training models, we should try to eliminate redundant features as it reduces training time and many such advantages."
      ]
    },
    {
      "cell_type": "code",
      "metadata": {
        "id": "DZ353eKd2jI_",
        "colab": {
          "base_uri": "https://localhost:8080/",
          "height": 527
        },
        "outputId": "dcd12b60-29d9-4a9c-9e15-2d4f398109ed"
      },
      "source": [
        "sns.heatmap(titanic.corr(),annot=True,cmap='RdYlGn',linewidths=0.2) #data.corr()-->correlation matrix\n",
        "fig=plt.gcf()\n",
        "fig.set_size_inches(10,8)\n",
        "plt.show()"
      ],
      "execution_count": 282,
      "outputs": [
        {
          "output_type": "display_data",
          "data": {
            "image/png": "[encoded data removed]",
            "text/plain": [
              "<Figure size 720x576 with 2 Axes>"
            ]
          },
          "metadata": {
            "tags": []
          }
        }
      ]
    },
    {
      "cell_type": "markdown",
      "metadata": {
        "id": "9K4YUnGT9apr"
      },
      "source": [
        "One Hot Encoding"
      ]
    },
    {
      "cell_type": "code",
      "metadata": {
        "colab": {
          "base_uri": "https://localhost:8080/",
          "height": 204
        },
        "id": "33ZxoilR-DbQ",
        "outputId": "07b4328a-8b14-4462-e13f-52d77273b364"
      },
      "source": [
        "#One Hot Encoding for all categorical variables\"\n",
        "train = pd.get_dummies(columns=[\"Pclass\", \"Embarked\", \"Sex\"], data=titanic_after_drop, drop_first=True)\n",
        "display(train.head())"
      ],
      "execution_count": 283,
      "outputs": [
        {
          "output_type": "display_data",
          "data": {
            "text/html": [
              "<div>\n",
              "<style scoped>\n",
              "    .dataframe tbody tr th:only-of-type {\n",
              "        vertical-align: middle;\n",
              "    }\n",
              "\n",
              "    .dataframe tbody tr th {\n",
              "        vertical-align: top;\n",
              "    }\n",
              "\n",
              "    .dataframe thead th {\n",
              "        text-align: right;\n",
              "    }\n",
              "</style>\n",
              "<table border=\"1\" class=\"dataframe\">\n",
              "  <thead>\n",
              "    <tr style=\"text-align: right;\">\n",
              "      <th></th>\n",
              "      <th>Survived</th>\n",
              "      <th>Age</th>\n",
              "      <th>SibSp</th>\n",
              "      <th>Parch</th>\n",
              "      <th>Fare</th>\n",
              "      <th>Pclass_2</th>\n",
              "      <th>Pclass_3</th>\n",
              "      <th>Embarked_1</th>\n",
              "      <th>Embarked_2</th>\n",
              "      <th>Sex_1</th>\n",
              "    </tr>\n",
              "  </thead>\n",
              "  <tbody>\n",
              "    <tr>\n",
              "      <th>0</th>\n",
              "      <td>1</td>\n",
              "      <td>25.104589</td>\n",
              "      <td>2</td>\n",
              "      <td>0</td>\n",
              "      <td>23.25</td>\n",
              "      <td>0</td>\n",
              "      <td>1</td>\n",
              "      <td>1</td>\n",
              "      <td>0</td>\n",
              "      <td>1</td>\n",
              "    </tr>\n",
              "    <tr>\n",
              "      <th>1</th>\n",
              "      <td>1</td>\n",
              "      <td>25.104589</td>\n",
              "      <td>0</td>\n",
              "      <td>0</td>\n",
              "      <td>7.75</td>\n",
              "      <td>0</td>\n",
              "      <td>1</td>\n",
              "      <td>1</td>\n",
              "      <td>0</td>\n",
              "      <td>1</td>\n",
              "    </tr>\n",
              "    <tr>\n",
              "      <th>2</th>\n",
              "      <td>0</td>\n",
              "      <td>25.104589</td>\n",
              "      <td>1</td>\n",
              "      <td>0</td>\n",
              "      <td>7.75</td>\n",
              "      <td>0</td>\n",
              "      <td>1</td>\n",
              "      <td>1</td>\n",
              "      <td>0</td>\n",
              "      <td>1</td>\n",
              "    </tr>\n",
              "    <tr>\n",
              "      <th>3</th>\n",
              "      <td>1</td>\n",
              "      <td>25.104589</td>\n",
              "      <td>1</td>\n",
              "      <td>0</td>\n",
              "      <td>15.50</td>\n",
              "      <td>0</td>\n",
              "      <td>1</td>\n",
              "      <td>1</td>\n",
              "      <td>0</td>\n",
              "      <td>0</td>\n",
              "    </tr>\n",
              "    <tr>\n",
              "      <th>4</th>\n",
              "      <td>1</td>\n",
              "      <td>25.104589</td>\n",
              "      <td>1</td>\n",
              "      <td>0</td>\n",
              "      <td>15.50</td>\n",
              "      <td>0</td>\n",
              "      <td>1</td>\n",
              "      <td>1</td>\n",
              "      <td>0</td>\n",
              "      <td>0</td>\n",
              "    </tr>\n",
              "  </tbody>\n",
              "</table>\n",
              "</div>"
            ],
            "text/plain": [
              "   Survived        Age  SibSp  Parch  ...  Pclass_3  Embarked_1  Embarked_2  Sex_1\n",
              "0         1  25.104589      2      0  ...         1           1           0      1\n",
              "1         1  25.104589      0      0  ...         1           1           0      1\n",
              "2         0  25.104589      1      0  ...         1           1           0      1\n",
              "3         1  25.104589      1      0  ...         1           1           0      0\n",
              "4         1  25.104589      1      0  ...         1           1           0      0\n",
              "\n",
              "[5 rows x 10 columns]"
            ]
          },
          "metadata": {
            "tags": []
          }
        }
      ]
    },
    {
      "cell_type": "code",
      "metadata": {
        "colab": {
          "base_uri": "https://localhost:8080/"
        },
        "id": "OFlcfIeS-jDs",
        "outputId": "e706e53a-eb07-4766-ea15-37d4fefd9403"
      },
      "source": [
        "print(train.info())"
      ],
      "execution_count": 284,
      "outputs": [
        {
          "output_type": "stream",
          "text": [
            "<class 'pandas.core.frame.DataFrame'>\n",
            "Int64Index: 882 entries, 0 to 883\n",
            "Data columns (total 10 columns):\n",
            " #   Column      Non-Null Count  Dtype  \n",
            "---  ------      --------------  -----  \n",
            " 0   Survived    882 non-null    int64  \n",
            " 1   Age         882 non-null    float64\n",
            " 2   SibSp       882 non-null    int64  \n",
            " 3   Parch       882 non-null    int64  \n",
            " 4   Fare        882 non-null    float64\n",
            " 5   Pclass_2    882 non-null    uint8  \n",
            " 6   Pclass_3    882 non-null    uint8  \n",
            " 7   Embarked_1  882 non-null    uint8  \n",
            " 8   Embarked_2  882 non-null    uint8  \n",
            " 9   Sex_1       882 non-null    uint8  \n",
            "dtypes: float64(2), int64(3), uint8(5)\n",
            "memory usage: 45.7 KB\n",
            "None\n"
          ],
          "name": "stdout"
        }
      ]
    },
    {
      "cell_type": "code",
      "metadata": {
        "colab": {
          "base_uri": "https://localhost:8080/"
        },
        "id": "wRzoG18w-mZI",
        "outputId": "74280ece-5135-4083-f9ad-6d194cb82ab5"
      },
      "source": [
        "#Split the data into independent 'X' and dependent 'Y' variables\n",
        "X = train.iloc[:, 1:8].values \n",
        "Y = train.iloc[:, 0].values \n",
        "\n",
        "# Split the dataset into 80% Training set and 20% Testing set\n",
        "from sklearn.model_selection import train_test_split\n",
        "X_train, X_test, Y_train, Y_test = train_test_split(X, Y, test_size = 0.2, \n",
        "                                                    random_state = 6, shuffle=True)\n",
        "\n",
        "parameter_space = {\n",
        "    'hidden_layer_sizes': [(100,75,50), (50,100,50), (150,100,50)],\n",
        "    'activation': ['tanh', 'relu'],\n",
        "    'solver': ['sgd', 'adam'],\n",
        "    'alpha': [0.0001, 0.05],\n",
        "    'learning_rate': ['constant','adaptive'],\n",
        "    'max_iter' : [100,300,50]\n",
        "}\n",
        "mlp = MLPClassifier()\n",
        "grid_mlp = GridSearchCV(mlp, parameter_space, n_jobs=-1, cv=3)\n",
        "grid_mlp.fit(X_train, Y_train)\n",
        "print(f'Best params: {grid_mlp.best_params_}')\n",
        "print(f'Best score: {grid_mlp.best_score_}')"
      ],
      "execution_count": 285,
      "outputs": [
        {
          "output_type": "stream",
          "text": [
            "Best params: {'activation': 'tanh', 'alpha': 0.05, 'hidden_layer_sizes': (150, 100, 50), 'learning_rate': 'constant', 'max_iter': 300, 'solver': 'sgd'}\n",
            "Best score: 0.7148936170212766\n"
          ],
          "name": "stdout"
        }
      ]
    },
    {
      "cell_type": "markdown",
      "metadata": {
        "id": "bxFAZd7DPDJ-"
      },
      "source": [
        "#Final Model Selection Using all Techniques"
      ]
    },
    {
      "cell_type": "code",
      "metadata": {
        "colab": {
          "base_uri": "https://localhost:8080/"
        },
        "id": "wcZ7c0XwPInr",
        "outputId": "505cd3d8-d894-4cea-8192-298911d9e615"
      },
      "source": [
        "#Final Model Selection\n",
        "\n",
        "#Split the data into independent 'X' and dependent 'Y' variables\n",
        "X = titanic.iloc[:, 1:8].values \n",
        "Y = titanic.iloc[:, 0].values \n",
        "\n",
        "# Split the dataset into 80% Training set and 20% Testing set\n",
        "from sklearn.model_selection import train_test_split\n",
        "X_train, X_test, Y_train, Y_test = train_test_split(X, Y, test_size = 0.2, \n",
        "                                                    random_state = 6, shuffle=True)\n",
        "#Feature Scaling\n",
        "sc = StandardScaler()\n",
        "# calling fit and transform in sequence (using method chaining)\n",
        "X_train = sc.fit_transform(X_train)\n",
        "# same result, but more efficient computation\n",
        "X_test = sc.transform(X_test)\n",
        "\n",
        "mlp_classifier = MLPClassifier(hidden_layer_sizes=(100,50,25), activation='relu', solver='adam',\n",
        "                               alpha=0.0001, batch_size='auto', learning_rate='constant',\n",
        "                               learning_rate_init=0.001, power_t=0.5, max_iter=500, \n",
        "                               shuffle=True, random_state=24, tol=0.0001, verbose=False, \n",
        "                               warm_start=False, momentum=0.9, nesterovs_momentum=True, \n",
        "                               early_stopping=False, validation_fraction=0.05, beta_1=0.9, \n",
        "                               beta_2=0.999, epsilon=1e-08, n_iter_no_change=10, max_fun=15000)\n",
        "mlp_classifier.fit(X_train, Y_train)\n",
        "\n",
        "\n",
        "print('MLP Classifier Training Accuracy:', mlp_classifier.score(X_train, Y_train))\n",
        "print('MLP Classifier Testing Accuracy:', mlp_classifier.score(X_test, Y_test))"
      ],
      "execution_count": 297,
      "outputs": [
        {
          "output_type": "stream",
          "text": [
            "MLP Classifier Training Accuracy: 0.9120567375886525\n",
            "MLP Classifier Testing Accuracy: 0.7740112994350282\n"
          ],
          "name": "stdout"
        }
      ]
    },
    {
      "cell_type": "markdown",
      "metadata": {
        "id": "E79ykrwJQnOG"
      },
      "source": [
        "I tried a variety of methods from above, to improve upon\n",
        "your MLP model, created the a model that generalizes well and takes advantage of the entire dataset for\n",
        "model selection. \n",
        "\n",
        "Using this I am able to achieve the accuracy of  'Accuracy: 0.912' which is increased from intial accuracy of 'Accuracy: 0.814'"
      ]
    }
  ]
}