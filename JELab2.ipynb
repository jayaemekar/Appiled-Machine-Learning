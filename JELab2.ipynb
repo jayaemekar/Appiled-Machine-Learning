{
  "nbformat": 4,
  "nbformat_minor": 0,
  "metadata": {
    "colab": {
      "name": "JELab2.ipynb",
      "provenance": [],
      "authorship_tag": "ABX9TyPJDgXXGhXt7ro2LkdcNMji",
      "include_colab_link": true
    },
    "kernelspec": {
      "name": "python3",
      "display_name": "Python 3"
    }
  },
  "cells": [
    {
      "cell_type": "markdown",
      "metadata": {
        "id": "view-in-github",
        "colab_type": "text"
      },
      "source": [
        "<a href=\"https://colab.research.google.com/github/jayaemekar/CSCI-611-AppiledMachineLearning/blob/main/JELab2.ipynb\" target=\"_parent\"><img src=\"https://colab.research.google.com/assets/colab-badge.svg\" alt=\"Open In Colab\"/></a>"
      ]
    },
    {
      "cell_type": "code",
      "metadata": {
        "id": "WbxhS-VZWhqC",
        "colab": {
          "base_uri": "https://localhost:8080/"
        },
        "outputId": "065db6e0-de5d-43be-c761-1817f502a1d3"
      },
      "source": [
        "#Name: Jayarani Emekar, CSCI-611 Date- 12 Feb 2021\r\n",
        "#Sources/guidance/assistance received - Python tutorials scipy-lectures Mullar Book\r\n",
        "#Environment Developed and Tested: GOOGLE COLABORATORY (COLAB) \r\n",
        "\r\n",
        "# Load the Data\r\n",
        "# 1. Using Sklearn.datasets fetch_openml loader, load the ‘mnist_784’ , version 1 dataset.\r\n",
        "#   What type of object is returned? ____________ \r\n",
        "from sklearn.datasets import fetch_openml\r\n",
        "ministObj  = fetch_openml('mnist_784', version=1)\r\n",
        "print('Object Details ', ministObj.details)\r\n",
        "print('What type of object is returned? The Dictionary object is returned ',type(ministObj.details))"
      ],
      "execution_count": null,
      "outputs": [
        {
          "output_type": "stream",
          "text": [
            "Object Details  {'id': '554', 'name': 'mnist_784', 'version': '1', 'format': 'ARFF', 'upload_date': '2014-09-29T03:28:38', 'licence': 'Public', 'url': 'https://www.openml.org/data/v1/download/52667/mnist_784.arff', 'file_id': '52667', 'default_target_attribute': 'class', 'tag': ['AzurePilot', 'OpenML-CC18', 'OpenML100', 'study_1', 'study_123', 'study_41', 'study_99', 'vision'], 'visibility': 'public', 'status': 'active', 'processing_date': '2020-11-20 20:12:09', 'md5_checksum': '0298d579eb1b86163de7723944c7e495'}\n",
            "What type of object is returned? The Dictionary object is returned  <class 'dict'>\n"
          ],
          "name": "stdout"
        }
      ]
    },
    {
      "cell_type": "code",
      "metadata": {
        "id": "pUNl6fjYtc9Z",
        "colab": {
          "base_uri": "https://localhost:8080/"
        },
        "outputId": "b890dea8-3f4b-46a2-93e4-c57df42193df"
      },
      "source": [
        "# Analyze the Data\r\n",
        "# Provide Python statement(s) to support your answers to the questions below:\r\n",
        "# 2. Display the object’s attributes (keys). How many are there? _________\r\n",
        "attributeKeys =ministObj.keys()\r\n",
        "print(\"Keys of mnist_784_dataset: \", attributeKeys)\r\n",
        "print(\"Total Number of attributes (keys) : \", len(attributeKeys))"
      ],
      "execution_count": null,
      "outputs": [
        {
          "output_type": "stream",
          "text": [
            "Keys of mnist_784_dataset:  dict_keys(['data', 'target', 'frame', 'feature_names', 'target_names', 'DESCR', 'details', 'categories', 'url'])\n",
            "Total Number of attributes (keys) :  9\n"
          ],
          "name": "stdout"
        }
      ]
    },
    {
      "cell_type": "code",
      "metadata": {
        "id": "UUD77spOw1U5",
        "colab": {
          "base_uri": "https://localhost:8080/"
        },
        "outputId": "32d4dc29-d494-426c-ee13-ab2f0aaeac61"
      },
      "source": [
        "# 3. Display a partial description of the dataset, just the first 200 characters.\r\n",
        "partialDescription = ministObj.DESCR[:200]\r\n",
        "print('Partial description of the dataset, first 200 characters.\\n\\n', partialDescription)"
      ],
      "execution_count": null,
      "outputs": [
        {
          "output_type": "stream",
          "text": [
            "Partial description of the dataset, first 200 characters.\n",
            "\n",
            " **Author**: Yann LeCun, Corinna Cortes, Christopher J.C. Burges  \n",
            "**Source**: [MNIST Website](http://yann.lecun.com/exdb/mnist/) - Date unknown  \n",
            "**Please cite**:  \n",
            "\n",
            "The MNIST database of handwritten \n"
          ],
          "name": "stdout"
        }
      ]
    },
    {
      "cell_type": "code",
      "metadata": {
        "id": "FLL07LDCtY07",
        "colab": {
          "base_uri": "https://localhost:8080/"
        },
        "outputId": "085e19b5-f533-4a0f-8725-f7a71cbc02b1"
      },
      "source": [
        "# 4. How many samples are in the dataset? _________ \r\n",
        "samplesInDataSet = len(ministObj.data)\r\n",
        "print(samplesInDataSet,\"Samples are present in Dataset .\")"
      ],
      "execution_count": null,
      "outputs": [
        {
          "output_type": "stream",
          "text": [
            "70000 Samples are present in Dataset .\n"
          ],
          "name": "stdout"
        }
      ]
    },
    {
      "cell_type": "code",
      "metadata": {
        "id": "kQxelNd4t2YW",
        "colab": {
          "base_uri": "https://localhost:8080/"
        },
        "outputId": "2f55f83f-1096-497d-b7a9-908b18af3b31"
      },
      "source": [
        "# 5. How many features does each data sample have? ________ \r\n",
        "featuresInDataSet = len(ministObj.feature_names)\r\n",
        "print (\"Each data sample have\", featuresInDataSet,\"features.\")"
      ],
      "execution_count": null,
      "outputs": [
        {
          "output_type": "stream",
          "text": [
            "Each data sample have 784 features.\n"
          ],
          "name": "stdout"
        }
      ]
    },
    {
      "cell_type": "code",
      "metadata": {
        "id": "sNyQg6dvt-k9",
        "colab": {
          "base_uri": "https://localhost:8080/"
        },
        "outputId": "fedff345-614e-4e1f-fa85-93f4885596dd"
      },
      "source": [
        "# 6. What is the target shape? __________ \r\n",
        "shape_target = ministObj.target.shape\r\n",
        "print(\"Shape of target:\", shape_target)"
      ],
      "execution_count": null,
      "outputs": [
        {
          "output_type": "stream",
          "text": [
            "Shape of target: (70000,)\n"
          ],
          "name": "stdout"
        }
      ]
    },
    {
      "cell_type": "code",
      "metadata": {
        "id": "gEYCK299uIjf",
        "colab": {
          "base_uri": "https://localhost:8080/"
        },
        "outputId": "a414bf00-5991-4d41-ea25-2c68a21f83da"
      },
      "source": [
        "# 7. What is the difference between the storage structure for the data and that for the target? __________\r\n",
        "print(\"Storage structure : Type of data:\", type(ministObj.data))\r\n",
        "print(\"Storage structure : Type of target:\", type(ministObj.target))"
      ],
      "execution_count": null,
      "outputs": [
        {
          "output_type": "stream",
          "text": [
            "Storage structure : Type of data: <class 'numpy.ndarray'>\n",
            "Storage structure : Type of target: <class 'numpy.ndarray'>\n"
          ],
          "name": "stdout"
        }
      ]
    },
    {
      "cell_type": "code",
      "metadata": {
        "id": "p-gaeTE_uRA8",
        "colab": {
          "base_uri": "https://localhost:8080/"
        },
        "outputId": "e49feab7-e7e9-47da-f1e8-1cc192ffee19"
      },
      "source": [
        "# Create a custom Function – just for practice…\r\n",
        "# 8. Write a function that calculates an index value based on what alpha characters are passed to it. The function takes in two\r\n",
        "# alpha characters and returns the summation of their numeric placement in the alphabet {‘a’=1, ‘b’=2,…’z’=26}. Example:\r\n",
        "# fnct(‘c’,’y’) would return 28.\r\n",
        "def fnct(alpha1, alpha2): \r\n",
        "    return ord(alpha1) + ord(alpha2) - ord('a')  - ord('a') + 2\r\n",
        "# Driver code \r\n",
        "print('Custom Function output fnct(‘c’,’y’) returns:',fnct('c','y')) "
      ],
      "execution_count": null,
      "outputs": [
        {
          "output_type": "stream",
          "text": [
            "Custom Function output fnct(‘c’,’y’) returns: 28\n"
          ],
          "name": "stdout"
        }
      ]
    },
    {
      "cell_type": "code",
      "metadata": {
        "id": "CT1kn1SVuas-",
        "colab": {
          "base_uri": "https://localhost:8080/"
        },
        "outputId": "c19ec7c4-947c-4725-c25e-88902f23224c"
      },
      "source": [
        "# 9. Invoke the function with your initials, and display the resulting index value. ? _______\r\n",
        "print('Function with my initials j,e returns :' ,fnct('j','e'))"
      ],
      "execution_count": null,
      "outputs": [
        {
          "output_type": "stream",
          "text": [
            "Function with my initials j,e returns : 15\n"
          ],
          "name": "stdout"
        }
      ]
    },
    {
      "cell_type": "code",
      "metadata": {
        "id": "3h2DekjDug3Q",
        "colab": {
          "base_uri": "https://localhost:8080/"
        },
        "outputId": "6e04e252-5bc7-4308-dc19-c8378d048a97"
      },
      "source": [
        "#  Plot your DIGIT from the Data – just for fun!\r\n",
        "#  Each sample represents a single image as 28x28 pixels and each pixel holds a value 0-255 (the pixel’s intensity from white to\r\n",
        "#  black). That’s why there are 784 total features per sample – 1 per pixel.\r\n",
        "#  10. You will first need to grab your digit’s feature vector from the data, using your custom index value (#9 above).\r\n",
        "featureVector = ministObj.data[:15]\r\n",
        "print('digit’s feature vector from the data \\n',featureVector)"
      ],
      "execution_count": null,
      "outputs": [
        {
          "output_type": "stream",
          "text": [
            "digit’s feature vector from the data \n",
            " [[0. 0. 0. ... 0. 0. 0.]\n",
            " [0. 0. 0. ... 0. 0. 0.]\n",
            " [0. 0. 0. ... 0. 0. 0.]\n",
            " ...\n",
            " [0. 0. 0. ... 0. 0. 0.]\n",
            " [0. 0. 0. ... 0. 0. 0.]\n",
            " [0. 0. 0. ... 0. 0. 0.]]\n"
          ],
          "name": "stdout"
        }
      ]
    },
    {
      "cell_type": "code",
      "metadata": {
        "id": "4rhsnBUruldc",
        "colab": {
          "base_uri": "https://localhost:8080/"
        },
        "outputId": "145f7d68-5d43-4258-9d8e-1a9c20b51558"
      },
      "source": [
        "#  11. Next, you will need to reshape it for plotting. Simply invoked the reshape method with your feature vector.\r\n",
        "reshapedData = ministObj.data[15].reshape(28,28) \r\n",
        "print ('Reshape for feature vector: \\n',reshapedData)"
      ],
      "execution_count": null,
      "outputs": [
        {
          "output_type": "stream",
          "text": [
            "Reshape for feature vector: \n",
            " [[  0.   0.   0.   0.   0.   0.   0.   0.   0.   0.   0.   0.   0.   0.\n",
            "    0.   0.   0.   0.   0.   0.   0.   0.   0.   0.   0.   0.   0.   0.]\n",
            " [  0.   0.   0.   0.   0.   0.   0.   0.   0.   0.   0.   0.   0.   0.\n",
            "    0.   0.   0.   0.   0.   0.   0.   0.   0.   0.   0.   0.   0.   0.]\n",
            " [  0.   0.   0.   0.   0.   0.   0.   0.   0.   0.   0.   0.   0.   0.\n",
            "    0.   0.   0.   0.   0.   0.   0.   0.   0.   0.   0.   0.   0.   0.]\n",
            " [  0.   0.   0.   0.   0.   0.   0.   0.   0.   0.   0.   0.   0.   0.\n",
            "    0.   0.   0.   0.   0.   0.   0.   0.   0.   0.   0.   0.   0.   0.]\n",
            " [  0.   0.   0.   0.   0.   0.   0.   0.   0.   0.   0.   0.   0.   0.\n",
            "    0.   0.   0.   0.   0.   0.   0.   0.   0.   0.   0.   0.   0.   0.]\n",
            " [  0.   0.   0.   0.   0.   0.   0.   0.   0.   0.   0.   0.   0.   0.\n",
            "    0.   0.   0.   0.   0.   0.   0.   0.   0.   0.   0.   0.   0.   0.]\n",
            " [  0.   0.   0.   0.   0.   0.   0.   0.   0.   0.   0.   0.   0.   0.\n",
            "    0.   0.   0.   0.   0.   0.   0.   0.   0.   0.   0.   0.   0.   0.]\n",
            " [  0.   0.   0.   0.   0.   0.   0.   0.   0.   0.   0.   0.   0.   0.\n",
            "    0. 115. 121. 162. 253. 253. 213.   0.   0.   0.   0.   0.   0.   0.]\n",
            " [  0.   0.   0.   0.   0.   0.   0.   0.   0.   0.   0.   0.  63. 107.\n",
            "  170. 251. 252. 252. 252. 252. 250. 214.   0.   0.   0.   0.   0.   0.]\n",
            " [  0.   0.   0.   0.   0.   0.   0.   0.  25. 192. 226. 226. 241. 252.\n",
            "  253. 202. 252. 252. 252. 252. 252. 225.   0.   0.   0.   0.   0.   0.]\n",
            " [  0.   0.   0.   0.   0.   0.   0.  68. 223. 252. 252. 252. 252. 252.\n",
            "   39.  19.  39.  65. 224. 252. 252. 183.   0.   0.   0.   0.   0.   0.]\n",
            " [  0.   0.   0.   0.   0.   0.   0. 186. 252. 252. 252. 245. 108.  53.\n",
            "    0.   0.   0. 150. 252. 252. 220.  20.   0.   0.   0.   0.   0.   0.]\n",
            " [  0.   0.   0.   0.   0.   0.  70. 242. 252. 252. 222.  59.   0.   0.\n",
            "    0.   0.   0. 178. 252. 252. 141.   0.   0.   0.   0.   0.   0.   0.]\n",
            " [  0.   0.   0.   0.   0.   0. 185. 252. 252. 194.  67.   0.   0.   0.\n",
            "    0.  17.  90. 240. 252. 194.  67.   0.   0.   0.   0.   0.   0.   0.]\n",
            " [  0.   0.   0.   0.   0.   0.  83. 205. 190.  24.   0.   0.   0.   0.\n",
            "    0. 121. 252. 252. 209.  24.   0.   0.   0.   0.   0.   0.   0.   0.]\n",
            " [  0.   0.   0.   0.   0.   0.   0.   0.   0.   0.   0.   0.   0.   0.\n",
            "   77. 247. 252. 248. 106.   0.   0.   0.   0.   0.   0.   0.   0.   0.]\n",
            " [  0.   0.   0.   0.   0.   0.   0.   0.   0.   0.   0.   0.   0.   0.\n",
            "  253. 252. 252. 102.   0.   0.   0.   0.   0.   0.   0.   0.   0.   0.]\n",
            " [  0.   0.   0.   0.   0.   0.   0.   0.   0.   0.   0.   0.   0. 134.\n",
            "  255. 253. 253.  39.   0.   0.   0.   0.   0.   0.   0.   0.   0.   0.]\n",
            " [  0.   0.   0.   0.   0.   0.   0.   0.   0.   0.   0.   0.   6. 183.\n",
            "  253. 252. 107.   2.   0.   0.   0.   0.   0.   0.   0.   0.   0.   0.]\n",
            " [  0.   0.   0.   0.   0.   0.   0.   0.   0.   0.   0.  10. 102. 252.\n",
            "  253. 163.  16.   0.   0.   0.   0.   0.   0.   0.   0.   0.   0.   0.]\n",
            " [  0.   0.   0.   0.   0.   0.   0.   0.   0.   0.  13. 168. 252. 252.\n",
            "  110.   2.   0.   0.   0.   0.   0.   0.   0.   0.   0.   0.   0.   0.]\n",
            " [  0.   0.   0.   0.   0.   0.   0.   0.   0.   0.  41. 252. 252. 217.\n",
            "    0.   0.   0.   0.   0.   0.   0.   0.   0.   0.   0.   0.   0.   0.]\n",
            " [  0.   0.   0.   0.   0.   0.   0.   0.   0.  40. 155. 252. 214.  31.\n",
            "    0.   0.   0.   0.   0.   0.   0.   0.   0.   0.   0.   0.   0.   0.]\n",
            " [  0.   0.   0.   0.   0.   0.   0.   0.   0. 165. 252. 252. 106.   0.\n",
            "    0.   0.   0.   0.   0.   0.   0.   0.   0.   0.   0.   0.   0.   0.]\n",
            " [  0.   0.   0.   0.   0.   0.   0.   0.  43. 179. 252. 150.  39.   0.\n",
            "    0.   0.   0.   0.   0.   0.   0.   0.   0.   0.   0.   0.   0.   0.]\n",
            " [  0.   0.   0.   0.   0.   0.   0.   0. 137. 252. 221.  39.   0.   0.\n",
            "    0.   0.   0.   0.   0.   0.   0.   0.   0.   0.   0.   0.   0.   0.]\n",
            " [  0.   0.   0.   0.   0.   0.   0.   0.  67. 252.  79.   0.   0.   0.\n",
            "    0.   0.   0.   0.   0.   0.   0.   0.   0.   0.   0.   0.   0.   0.]\n",
            " [  0.   0.   0.   0.   0.   0.   0.   0.   0.   0.   0.   0.   0.   0.\n",
            "    0.   0.   0.   0.   0.   0.   0.   0.   0.   0.   0.   0.   0.   0.]]\n"
          ],
          "name": "stdout"
        }
      ]
    },
    {
      "cell_type": "code",
      "metadata": {
        "id": "gB0Akc5quu_u",
        "colab": {
          "base_uri": "https://localhost:8080/",
          "height": 283
        },
        "outputId": "2f2cf916-e6d8-4823-cf29-820f4ecf52fe"
      },
      "source": [
        "#  12. Now you are ready to plot it using matplotlib pyplot’s imshow method. You need only the first two arguments: your\r\n",
        "#  reshaped array, and colormap ‘binary’. What is your digit? _____\r\n",
        "import matplotlib.pyplot as plt      \r\n",
        "plt.imshow(reshapedData, cmap ='binary')  \r\n",
        "plt.show() \r\n",
        "print ('My is Digit: is 7')"
      ],
      "execution_count": null,
      "outputs": [
        {
          "output_type": "display_data",
          "data": {
            "image/png": "[encoded data removed]",
            "text/plain": [
              "<Figure size 432x288 with 1 Axes>"
            ]
          },
          "metadata": {
            "tags": [],
            "needs_background": "light"
          }
        },
        {
          "output_type": "stream",
          "text": [
            "My is Digit: is 7\n"
          ],
          "name": "stdout"
        }
      ]
    },
    {
      "cell_type": "code",
      "metadata": {
        "id": "8KgxCGfAu6O_",
        "colab": {
          "base_uri": "https://localhost:8080/"
        },
        "outputId": "5523d366-d403-43b3-f297-a01f7e1f5171"
      },
      "source": [
        "# OK, back to the main task - Let’s do some TRAINING\r\n",
        "# FIRST – separate your dataset into two sets, one for training and one for testing. We won’t use the sklearn train_test_split\r\n",
        "# this time, because the MNIST dataset has already been carefully separated into separate training and test sets. More\r\n",
        "# importantly, processing it could take a long time, so we are just going to use a fraction of it.\r\n",
        "# 13. Assign the first 6,000 samples as your training set (X_train, y_train), and the last 1,000 samples as your test set (X_test,\r\n",
        "# y_test). Remember, X comes from your data, and y comes your targets.\r\n",
        "\r\n",
        "X_train = ministObj.data[:6000]\r\n",
        "y_train = ministObj.target[:6000]\r\n",
        "X_test  = ministObj.data[69000:70000]\r\n",
        "y_test  = ministObj.target[69000:70000]\r\n",
        "print(\"X train shape: \",X_train.shape)\r\n",
        "print(\"Y train shape: \",y_train.shape)\r\n",
        "print(\"X test shape : \",X_test.shape)\r\n",
        "print(\"Y test shape : \",y_test.shape)"
      ],
      "execution_count": null,
      "outputs": [
        {
          "output_type": "stream",
          "text": [
            "X train shape:  (6000, 784)\n",
            "Y train shape:  (6000,)\n",
            "X test shape :  (1000, 784)\n",
            "Y test shape :  (1000,)\n"
          ],
          "name": "stdout"
        }
      ]
    },
    {
      "cell_type": "code",
      "metadata": {
        "id": "1qXAcwUqvHgS",
        "colab": {
          "base_uri": "https://localhost:8080/"
        },
        "outputId": "3b94c49a-a3fd-4d1b-c48c-4097183ef85c"
      },
      "source": [
        "# NEXT – let’s build a kNN classifier, with initial k-value =3 [tip: enable GPUs (Runtime->Change runtime type)]\r\n",
        "from sklearn.neighbors import KNeighborsClassifier\r\n",
        "knn = KNeighborsClassifier(n_neighbors=3)\r\n",
        "knn.fit(X_train, y_train)"
      ],
      "execution_count": null,
      "outputs": [
        {
          "output_type": "execute_result",
          "data": {
            "text/plain": [
              "KNeighborsClassifier(algorithm='auto', leaf_size=30, metric='minkowski',\n",
              "                     metric_params=None, n_jobs=None, n_neighbors=3, p=2,\n",
              "                     weights='uniform')"
            ]
          },
          "metadata": {
            "tags": []
          },
          "execution_count": 139
        }
      ]
    },
    {
      "cell_type": "code",
      "metadata": {
        "id": "5LSy3mQjvXgU",
        "colab": {
          "base_uri": "https://localhost:8080/"
        },
        "outputId": "30ca0445-ee65-41b7-fd40-8195aa3c2515"
      },
      "source": [
        "# 14. What is your test score when k is 3? ________\r\n",
        "knn.score(X_test, y_test)\r\n",
        "test_score = knn.score(X_test, y_test)\r\n",
        "print(\"test score when k is 3:\", test_score)"
      ],
      "execution_count": null,
      "outputs": [
        {
          "output_type": "stream",
          "text": [
            "test score when k is 3: 0.948\n"
          ],
          "name": "stdout"
        }
      ]
    },
    {
      "cell_type": "code",
      "metadata": {
        "id": "LKH91GXKvg1c",
        "colab": {
          "base_uri": "https://localhost:8080/"
        },
        "outputId": "520cf506-5908-42f8-8ce5-e6f98725f823"
      },
      "source": [
        "#check accuracy of our model on the test data\r\n",
        "# 15. Does it improve when you set to ‘distance’? (yes/no) _______ \r\n",
        "knnWithDistance = KNeighborsClassifier(n_neighbors=3,weights=\"distance\")\r\n",
        "knnWithDistance.fit(X_train,y_train)\r\n",
        "print('Yes. accuracy will improve with set weights to distance, New Score:',knnWithDistance.score(X_test,y_test))"
      ],
      "execution_count": null,
      "outputs": [
        {
          "output_type": "stream",
          "text": [
            "Yes. accuracy will improve with set weights to distance, New Score: 0.949\n"
          ],
          "name": "stdout"
        }
      ]
    },
    {
      "cell_type": "code",
      "metadata": {
        "id": "whsubvQlpBM8",
        "colab": {
          "base_uri": "https://localhost:8080/"
        },
        "outputId": "60133c83-d9ae-48f6-a9cc-b2de8e4d9b90"
      },
      "source": [
        "# 16. Can you find a k that performs better? _______ If yes, what k? _____\r\n",
        "knnPerformBetter = KNeighborsClassifier(n_neighbors = 1)\r\n",
        "knnPerformBetter.fit(X_train,y_train)\r\n",
        "print('I found K performs better at k = 1, and its score is :', knnPerformBetter.score(X_test,y_test))"
      ],
      "execution_count": null,
      "outputs": [
        {
          "output_type": "stream",
          "text": [
            "I found K performs better at k = 1, and its score is : 0.951\n"
          ],
          "name": "stdout"
        }
      ]
    }
  ]
}