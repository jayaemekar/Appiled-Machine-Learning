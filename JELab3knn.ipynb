{
  "nbformat": 4,
  "nbformat_minor": 0,
  "metadata": {
    "colab": {
      "name": "JELab3knn.ipynb",
      "provenance": [],
      "include_colab_link": true
    },
    "kernelspec": {
      "name": "python3",
      "display_name": "Python 3"
    }
  },
  "cells": [
    {
      "cell_type": "markdown",
      "metadata": {
        "id": "view-in-github",
        "colab_type": "text"
      },
      "source": [
        "<a href=\"https://colab.research.google.com/github/jayaemekar/CSCI-611-AppiledMachineLearning/blob/main/JELab3knn.ipynb\" target=\"_parent\"><img src=\"https://colab.research.google.com/assets/colab-badge.svg\" alt=\"Open In Colab\"/></a>"
      ]
    },
    {
      "cell_type": "markdown",
      "metadata": {
        "id": "9A7LhsZ74rAa"
      },
      "source": [
        " Name: Jayarani Emekar, CSCI-611 Date- 27 Feb 2021\r\n",
        "\r\n",
        " Sources/guidance/assistance received - Python tutorials scipy-lectures,Muller textbook\r\n",
        "\r\n",
        " Enviorment Developed and Tested: GOOGLE COLABORATORY (COLAB)\r\n",
        "\r\n"
      ]
    },
    {
      "cell_type": "code",
      "metadata": {
        "id": "cCDkg3YynB0G"
      },
      "source": [
        "from google.colab import drive\n",
        "drive.mount('/content/drive')"
      ],
      "execution_count": null,
      "outputs": []
    },
    {
      "cell_type": "markdown",
      "metadata": {
        "id": "thWT4nPxeZUt"
      },
      "source": [
        "TASK 1 - IMPLEMENTATION"
      ]
    },
    {
      "cell_type": "markdown",
      "metadata": {
        "id": "y7kmgt2C46oU"
      },
      "source": [
        "Imports used in KNN class"
      ]
    },
    {
      "cell_type": "code",
      "metadata": {
        "id": "zl53eQfJ4zf6"
      },
      "source": [
        "# imports used as per specifications\r\n",
        "import numpy as np\r\n",
        "import math\r\n",
        "from decimal import Decimal \r\n",
        "from scipy.stats import mode \r\n"
      ],
      "execution_count": null,
      "outputs": []
    },
    {
      "cell_type": "markdown",
      "metadata": {
        "id": "iOkojuoD5o7D"
      },
      "source": [
        "Function to calculate euclidean distance"
      ]
    },
    {
      "cell_type": "code",
      "metadata": {
        "id": "DyexLZ1r5uvw"
      },
      "source": [
        "# function to calculate euclidean distance\r\n",
        "def euclidean(arr1, arr2):\r\n",
        "    arr1 = np.array(arr1)\r\n",
        "    arr2 = np.array(arr2)\r\n",
        "    return np.sqrt(np.sum((arr1-arr2)**2))"
      ],
      "execution_count": null,
      "outputs": []
    },
    {
      "cell_type": "markdown",
      "metadata": {
        "id": "EFYHExal54Ux"
      },
      "source": [
        "function to calculate manhattan distance"
      ]
    },
    {
      "cell_type": "code",
      "metadata": {
        "id": "fhvKDaDXXUq8"
      },
      "source": [
        "# function to calculate manhattan distance    \r\n",
        "def manhattan( arr1, arr2):\r\n",
        "    arr1 = np.array(arr1)\r\n",
        "    arr2 = np.array(arr2)\r\n",
        "    return np.sum(np.abs(arr1-arr2))"
      ],
      "execution_count": null,
      "outputs": []
    },
    {
      "cell_type": "markdown",
      "metadata": {
        "id": "nCF9dd5xXVqV"
      },
      "source": [
        "function to calculate minkowski distance"
      ]
    },
    {
      "cell_type": "code",
      "metadata": {
        "id": "m-VeT9USXhCN"
      },
      "source": [
        "# function to calculate minkowski distance    \r\n",
        "def p_root(value, root):    \r\n",
        "    root_value = 1 / float(root) \r\n",
        "    return round (Decimal(value) **\r\n",
        "             Decimal(root_value), 3) \r\n",
        "  \r\n",
        "def minkowski(arr1, arr2, p_value):   \r\n",
        "    return (p_root(sum(pow(abs(a-b), p_value) \r\n",
        "            for a, b in zip(arr1, arr2)), p_value)) "
      ],
      "execution_count": null,
      "outputs": []
    },
    {
      "cell_type": "markdown",
      "metadata": {
        "id": "VVjYxJfsXinj"
      },
      "source": [
        "Function to calculate quicksort distance"
      ]
    },
    {
      "cell_type": "code",
      "metadata": {
        "id": "UtafTDX6Xni5"
      },
      "source": [
        "# function to calculate quicksort distance   \r\n",
        "def quicksort(lst, index):\r\n",
        "    if lst.ndim == 1 and index != -1:\r\n",
        "      return quicksort_1d(lst)\r\n",
        "    elif lst.ndim == 1 and index == -1:\r\n",
        "      return quicksort_indices(lst)\r\n",
        "    else:\r\n",
        "        return quicksort_2d(lst,index)\r\n",
        "\r\n",
        "def quicksort_1d(lst):\r\n",
        "\r\n",
        "    less = []\r\n",
        "    equal = []\r\n",
        "    greater = []\r\n",
        "\r\n",
        "    if len(lst) > 1:\r\n",
        "        pivot = lst[0]\r\n",
        "        for x in lst:\r\n",
        "            if x < pivot:\r\n",
        "                less.append(x)\r\n",
        "            elif x == pivot:\r\n",
        "                equal.append(x)\r\n",
        "            elif x > pivot:\r\n",
        "                greater.append(x)\r\n",
        "        return quicksort_1d(less)+equal+quicksort_1d(greater) \r\n",
        "    else:  \r\n",
        "        return lst\r\n",
        "\r\n",
        "def quicksort_indices(lst):\r\n",
        "    return [i for (v, i) in sorted((v, i) for (i, v) in enumerate(lst))]\r\n",
        "\r\n",
        "def quicksort_2d(lst, index):\r\n",
        "    if len(lst) == 0:\r\n",
        "        return []\r\n",
        "    else:\r\n",
        "        pivot = lst[0]\r\n",
        "        lesser = quicksort_2d([x for x in lst[1:] if x[index] < pivot[index]], index)\r\n",
        "        greater = quicksort_2d([x for x in lst[1:] if x[index] >= pivot[index]], index)\r\n",
        "        return lesser + [pivot] + greater"
      ],
      "execution_count": null,
      "outputs": []
    },
    {
      "cell_type": "markdown",
      "metadata": {
        "id": "B8Rn3L1JXu0G"
      },
      "source": [
        "knn class and knnBuild should create an object, with which to invoke the knnFit and knnPredict as methods\r\n",
        "\r\n",
        "knnScore method - Bonus feature\r\n",
        "\r\n",
        "weights---> Uniform and Distance - Bonus feature"
      ]
    },
    {
      "cell_type": "code",
      "metadata": {
        "id": "o7Adh5gTXzIG"
      },
      "source": [
        "class KNN():\r\n",
        "\r\n",
        "# initialize the KNN object\r\n",
        "    def __init__(self, model, k, algorithm='euclidean',p=2,weights ='uniform'):\r\n",
        "        self.model = model\r\n",
        "        self.k = k\r\n",
        "        self.algorithm = algorithm\r\n",
        "        self.p = p\r\n",
        "        self.weights = weights\r\n",
        "\r\n",
        "# knnFit function\r\n",
        "    def knnFit(self, X, y):\r\n",
        "        self.X = X \r\n",
        "        self.y = y \r\n",
        "        # no_of_training_examples, no_of_features \r\n",
        "        self.m, self.n = X.shape\r\n",
        "        return self\r\n",
        "\r\n",
        "# This is the function to calculate the distance\r\n",
        "    def _distance(self, data1, data2):\r\n",
        "        \"\"\"1: Manhattan, 2: Euclidean, 3: Minkowski\"\"\"\r\n",
        "        if self.algorithm == 'euclidean':\r\n",
        "            return euclidean(data1 , data2)          \r\n",
        "        elif self.algorithm == 'manhattan':\r\n",
        "            return manhattan(data1, data2)\r\n",
        "        elif self.algorithm == 'minkowski':\r\n",
        "            return minkowski(data1, data2 ,self.p)\r\n",
        "        raise ValueError(\"algorithm not recognized\")\r\n",
        "\r\n",
        "# This is the function to compute the weights, distance/uniform (Bonus feature)\r\n",
        "    def _compute_weights(self, distances):\r\n",
        "        if self.weights == 'uniform':\r\n",
        "            return [(1, y) for d, y in distances]\r\n",
        "        elif self.weights == 'distance':\r\n",
        "            matches = [(1, y) for d, y in distances if d == 0]\r\n",
        "            return matches if matches else [(1/d, y) for d, y in distances]\r\n",
        "        raise ValueError(\"weights not recognized: should be 'uniform' or 'distance'\")\r\n",
        "\r\n",
        "# This is knn predict function\r\n",
        "    def knnPredict(self, X, y):\r\n",
        "        if self.model == 'classifier':\r\n",
        "            return self.predict_classifier(X)\r\n",
        "        elif self.model == 'regressor':\r\n",
        "            return self.predict_regressor(X)\r\n",
        "        else:\r\n",
        "            raise ValueError(\"Model not recognized: should be 'classifier' or 'regressor'\")\r\n",
        "\r\n",
        "# This is the function to calculate the knnScore (Bonus feature)\r\n",
        "    def knnScore(self, X, y):\r\n",
        "        if self.model == 'classifier':\r\n",
        "            return sum(1 for p, t in zip(self.predict_classifier(X), y) if p == t) / len(y)\r\n",
        "        elif self.model == 'regressor':\r\n",
        "            return np.corrcoef(y, self.predict_regressor(X))[0,1]**2\r\n",
        "        else:\r\n",
        "            raise ValueError(\"Model not recognized: should be 'classifier' or 'regressor'\")\r\n",
        "    \r\n",
        "# Function for regressor prediction \r\n",
        "    def predict_regressor( self, X_test ) : \r\n",
        "        self.X = X_test \r\n",
        "        # no_of_test_examples, no_of_features \r\n",
        "        self.m_test, self.n = X_test.shape \r\n",
        "        # initialize Y_predict \r\n",
        "        Y_predict = np.zeros( self.m_test ) \r\n",
        "        for i in range( self.m_test ) : \r\n",
        "            x = self.X[i] \r\n",
        "            # find the K nearest neighbors from current test example \r\n",
        "            neighbors = np.zeros( self.k ) \r\n",
        "            neighbors = self.find_neighbors_regressor( x ) \r\n",
        "            # calculate the mean of K nearest neighbors \r\n",
        "            Y_predict[i] = np.mean( neighbors ) \r\n",
        "        return Y_predict \r\n",
        "\r\n",
        "# Function for classifier prediction \r\n",
        "    def predict_classifier( self, X_test ) : \r\n",
        "        self.X_test = X_test \r\n",
        "        # no_of_test_examples, no_of_features \r\n",
        "        self.m_test, self.n = X_test.shape \r\n",
        "        # initialize Y_predict \r\n",
        "        Y_predict = np.zeros( self.m_test ) \r\n",
        "        for i in range( self.m_test ) : \r\n",
        "            x = self.X_test[i] \r\n",
        "            # find the K nearest neighbors from current test example \r\n",
        "            neighbors = np.zeros( self.k ) \r\n",
        "            neighbors = self.find_neighbors_classifier( x ) \r\n",
        "            # most frequent class in K neighbors \r\n",
        "            Y_predict[i] = mode( neighbors )[0][0]\r\n",
        "        return Y_predict \r\n",
        "\r\n",
        "# Function to find the K nearest neighbors to current test example \r\n",
        "    def find_neighbors_regressor( self, x ) : \r\n",
        "        # calculate all the euclidean distances between current test example x and training set X_train \r\n",
        "        distances = np.zeros( self.m ) \r\n",
        "        for i in range( self.m ) : \r\n",
        "            d = self._distance(x, self.X[i])\r\n",
        "            distances[i] = d \r\n",
        "        # sort Y_train according to distance_array and \r\n",
        "        inds = quicksort(distances, -1)\r\n",
        "        # store into Y_train_sorted \r\n",
        "        Y_train_sorted = self.y[inds] \r\n",
        "        return Y_train_sorted[:self.k] \r\n",
        "\r\n",
        "# Function to find the K nearest neighbors to current test example \r\n",
        "    def find_neighbors_classifier( self, x ) : \r\n",
        "        # calculate all the euclidean distances between current test example x and training set X_train \r\n",
        "        distances = np.zeros( self.m ) \r\n",
        "        for i in range( self.m ) : \r\n",
        "            d = self._distance(x, self.X[i])\r\n",
        "            distances[i] = d \r\n",
        "        # sort Y_train according to distance_array and  \r\n",
        "        inds = quicksort(distances, -1)\r\n",
        "        # store into Y_train_sorted\r\n",
        "        Y_train_sorted = self.y[inds] \r\n",
        "        return Y_train_sorted[:self.k] \r\n",
        "\r\n",
        "class knnBuild(KNN):\r\n",
        "    def __init__(self, model, k, algorithm='euclidean',p=2,weights ='uniform'):\r\n",
        "\t      KNN.__init__(self,model, k, algorithm='euclidean',p=2,weights ='uniform')"
      ],
      "execution_count": null,
      "outputs": []
    }
  ]
}